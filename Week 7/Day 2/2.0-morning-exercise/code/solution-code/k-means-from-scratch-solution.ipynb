{
 "cells": [
  {
   "cell_type": "markdown",
   "metadata": {},
   "source": [
    "# k-means from scratch!\n",
    "Writing your own k-means algorithm will reinforce your understanding of how it works, improve your Python skills, and it's not as hard as you think.\n",
    "## Refresher on how the k-means works\n",
    "The goal of the k-means algorithm is to put each data point into one of k clusters, minimizing the within-cluster-sum-of-squares, where sum-of-squares is referring to the sum of the squared errors between a data point and the centroid of the cluster.\n",
    "## Initialize the clusters"
   ]
  },
  {
   "cell_type": "code",
   "execution_count": 1,
   "metadata": {
    "collapsed": true
   },
   "outputs": [],
   "source": [
    "import random\n",
    "import numpy as np\n",
    "from matplotlib import pyplot as plt\n",
    "import pandas as pd\n",
    "from scipy.spatial import distance\n",
    "%matplotlib inline"
   ]
  },
  {
   "cell_type": "code",
   "execution_count": 2,
   "metadata": {
    "collapsed": false
   },
   "outputs": [
    {
     "data": {
      "image/png": "[encoded data removed]",
      "text/plain": [
       "<matplotlib.figure.Figure at 0x115bf0190>"
      ]
     },
     "metadata": {},
     "output_type": "display_data"
    }
   ],
   "source": [
    "# Create points\n",
    "sizeOfClusters = 10\n",
    "\n",
    "cluster1 = pd.DataFrame(columns=[\"x\",\"y\",\"cluster\"])\n",
    "for i in range(sizeOfClusters):\n",
    "    # This will make a cluster of points centered around (0,0), with sd = 1\n",
    "    x = random.gauss(0,1) # gauss(mean, sd) (guassian distribution <=> normal distribution)\n",
    "    y = random.gauss(0,1)\n",
    "    cluster1.loc[i] = [x,y,1]\n",
    "    \n",
    "cluster2 = pd.DataFrame(columns=[\"x\",\"y\",\"cluster\"])\n",
    "for i in range(sizeOfClusters):\n",
    "    # This will make a cluster of points centered around (5,5), with sd = 1\n",
    "    x = random.gauss(5,1)\n",
    "    y = random.gauss(5,1)\n",
    "    cluster2.loc[i] = [x,y,2]\n",
    "\n",
    "plt.plot(cluster1.x,cluster1.y,'bo')\n",
    "plt.plot(cluster2.x,cluster2.y,'r+')\n",
    "plt.show()"
   ]
  },
  {
   "cell_type": "code",
   "execution_count": 3,
   "metadata": {
    "collapsed": false
   },
   "outputs": [
    {
     "data": {
      "text/plain": [
       "[<matplotlib.lines.Line2D at 0x1185bf8d0>]"
      ]
     },
     "execution_count": 3,
     "metadata": {},
     "output_type": "execute_result"
    },
    {
     "data": {
      "image/png": "[encoded data removed]",
      "text/plain": [
       "<matplotlib.figure.Figure at 0x115b59e10>"
      ]
     },
     "metadata": {},
     "output_type": "display_data"
    }
   ],
   "source": [
    "# Now we combine the datasets, and you have to disentangle them with k-means\n",
    "clusterF = pd.concat([cluster1,cluster2]).reset_index(drop=True)\n",
    "clusterF.apply(np.random.shuffle,axis=1)\n",
    "clusterFPrevious = clusterF.copy(deep=True)\n",
    "clusterF.cluster = np.nan\n",
    "plt.plot(clusterF.x,clusterF.y,'bo')"
   ]
  },
  {
   "cell_type": "code",
   "execution_count": 4,
   "metadata": {
    "collapsed": false
   },
   "outputs": [
    {
     "data": {
      "text/html": [
       "<div>\n",
       "<table border=\"1\" class=\"dataframe\">\n",
       "  <thead>\n",
       "    <tr style=\"text-align: right;\">\n",
       "      <th></th>\n",
       "      <th>x</th>\n",
       "      <th>y</th>\n",
       "      <th>cluster</th>\n",
       "    </tr>\n",
       "  </thead>\n",
       "  <tbody>\n",
       "    <tr>\n",
       "      <th>0</th>\n",
       "      <td>2.229578</td>\n",
       "      <td>0.211031</td>\n",
       "      <td>NaN</td>\n",
       "    </tr>\n",
       "    <tr>\n",
       "      <th>1</th>\n",
       "      <td>0.570454</td>\n",
       "      <td>-1.002853</td>\n",
       "      <td>NaN</td>\n",
       "    </tr>\n",
       "    <tr>\n",
       "      <th>2</th>\n",
       "      <td>-0.220500</td>\n",
       "      <td>-1.441741</td>\n",
       "      <td>NaN</td>\n",
       "    </tr>\n",
       "    <tr>\n",
       "      <th>3</th>\n",
       "      <td>-0.843395</td>\n",
       "      <td>0.562861</td>\n",
       "      <td>NaN</td>\n",
       "    </tr>\n",
       "    <tr>\n",
       "      <th>4</th>\n",
       "      <td>-1.233333</td>\n",
       "      <td>-0.497980</td>\n",
       "      <td>NaN</td>\n",
       "    </tr>\n",
       "  </tbody>\n",
       "</table>\n",
       "</div>"
      ],
      "text/plain": [
       "          x         y  cluster\n",
       "0  2.229578  0.211031      NaN\n",
       "1  0.570454 -1.002853      NaN\n",
       "2 -0.220500 -1.441741      NaN\n",
       "3 -0.843395  0.562861      NaN\n",
       "4 -1.233333 -0.497980      NaN"
      ]
     },
     "execution_count": 4,
     "metadata": {},
     "output_type": "execute_result"
    }
   ],
   "source": [
    "clusterF.head()"
   ]
  },
  {
   "cell_type": "code",
   "execution_count": 5,
   "metadata": {
    "collapsed": false
   },
   "outputs": [
    {
     "data": {
      "text/html": [
       "<div>\n",
       "<table border=\"1\" class=\"dataframe\">\n",
       "  <thead>\n",
       "    <tr style=\"text-align: right;\">\n",
       "      <th></th>\n",
       "      <th>x</th>\n",
       "      <th>y</th>\n",
       "      <th>cluster</th>\n",
       "    </tr>\n",
       "  </thead>\n",
       "  <tbody>\n",
       "    <tr>\n",
       "      <th>0</th>\n",
       "      <td>2.229578</td>\n",
       "      <td>0.211031</td>\n",
       "      <td>1.0</td>\n",
       "    </tr>\n",
       "    <tr>\n",
       "      <th>1</th>\n",
       "      <td>0.570454</td>\n",
       "      <td>-1.002853</td>\n",
       "      <td>1.0</td>\n",
       "    </tr>\n",
       "    <tr>\n",
       "      <th>2</th>\n",
       "      <td>-0.220500</td>\n",
       "      <td>-1.441741</td>\n",
       "      <td>1.0</td>\n",
       "    </tr>\n",
       "    <tr>\n",
       "      <th>3</th>\n",
       "      <td>-0.843395</td>\n",
       "      <td>0.562861</td>\n",
       "      <td>1.0</td>\n",
       "    </tr>\n",
       "    <tr>\n",
       "      <th>4</th>\n",
       "      <td>-1.233333</td>\n",
       "      <td>-0.497980</td>\n",
       "      <td>1.0</td>\n",
       "    </tr>\n",
       "  </tbody>\n",
       "</table>\n",
       "</div>"
      ],
      "text/plain": [
       "          x         y  cluster\n",
       "0  2.229578  0.211031      1.0\n",
       "1  0.570454 -1.002853      1.0\n",
       "2 -0.220500 -1.441741      1.0\n",
       "3 -0.843395  0.562861      1.0\n",
       "4 -1.233333 -0.497980      1.0"
      ]
     },
     "execution_count": 5,
     "metadata": {},
     "output_type": "execute_result"
    }
   ],
   "source": [
    "clusterFPrevious.head()"
   ]
  },
  {
   "cell_type": "markdown",
   "metadata": {},
   "source": [
    "## Let's write some pseudo-code\n",
    "#### For an extra challenge to yourself, don't read the pseudo-code; just go off of your understanding of k-means.\n",
    "1. Take `k` as given.\n",
    "2. Choose `k` points randomly from your dataset; set your initial centroids to these points.\n",
    "3. Calculate the distances from each data point in the whole set to each centroid.\n",
    "4. Put each data point in the cluster whose centroid it is closest to.\n",
    "5. Update the centroids by taking the mean of the positions of all the current member points.\n",
    "6. Repeat steps 3 through 5 until stability is reached (i.e., no data point has changed membership to another cluster).\n",
    "\n",
    "## Now, let's write some real code!\n",
    "Just assume k=2.  You don't have to write the code to be able to generalize to any k.  (Though \"more power to you\" if you do.)"
   ]
  },
  {
   "cell_type": "code",
   "execution_count": 6,
   "metadata": {
    "collapsed": false
   },
   "outputs": [
    {
     "name": "stdout",
     "output_type": "stream",
     "text": [
      "centroid1 [ 2.22957772  0.2110307 ] centroid2 [ 0.57045402 -1.00285261]\n"
     ]
    }
   ],
   "source": [
    "centroid1 = np.array([clusterF.x[0], clusterF.y[0]])\n",
    "centroid2 = np.array([clusterF.x[1], clusterF.y[1]])\n",
    "print \"centroid1\", centroid1, \"centroid2\", centroid2\n",
    "while (clusterFPrevious[\"cluster\"] != clusterF[\"cluster\"]).any():\n",
    "    # Copy the whole data frame, so that we can know if we've reached the terminating condition\n",
    "    clusterFPrevious = clusterF.copy(deep=True)\n",
    "    # Put each point into one cluster, according to the current centroids\n",
    "    for i in range(len(clusterF)):\n",
    "        distFromCentroid1 = distance.euclidean(centroid1,clusterF.loc[i,[\"x\",\"y\"]])\n",
    "        distFromCentroid2 = distance.euclidean(centroid2,clusterF.loc[i,[\"x\",\"y\"]])\n",
    "        if (distFromCentroid1 < distFromCentroid2):\n",
    "            clusterF.loc[i,\"cluster\"] = 1\n",
    "        else:\n",
    "            clusterF.loc[i,\"cluster\"] = 2\n",
    "    # Now that all of the points have been reassigned, recalculate the centroids\n",
    "    centroid1 = np.array([0.0,0.0])\n",
    "    centroid2 = np.array([0.0,0.0])\n",
    "    for i in range(len(clusterF)):\n",
    "        if (clusterF.loc[i,\"cluster\"] == 1):\n",
    "            centroid1 += clusterF.loc[i,[\"x\",\"y\"]]\n",
    "        else:\n",
    "            centroid2 += clusterF.loc[i,[\"x\",\"y\"]]\n",
    "    centroid1 /= len(clusterF.cluster == 1)\n",
    "    centroid2 /= len(clusterF.cluster == 2)"
   ]
  },
  {
   "cell_type": "markdown",
   "metadata": {},
   "source": [
    "## Now confirm that you have clustered the data properly by plotting it, using a different color for each cluster\n",
    "Hint: refer to where I plotted the data in blue and red in the code cell near the top of this notebook."
   ]
  },
  {
   "cell_type": "code",
   "execution_count": 7,
   "metadata": {
    "collapsed": false
   },
   "outputs": [
    {
     "data": {
      "image/png": "[encoded data removed]",
      "text/plain": [
       "<matplotlib.figure.Figure at 0x115b62250>"
      ]
     },
     "metadata": {},
     "output_type": "display_data"
    }
   ],
   "source": [
    "cluster1 = clusterF[clusterF.cluster == 1]\n",
    "cluster2 = clusterF[clusterF.cluster == 2]\n",
    "\n",
    "plt.plot(cluster1.x,cluster1.y,'bo')\n",
    "plt.plot(cluster2.x,cluster2.y,'r+')\n",
    "plt.show()"
   ]
  },
  {
   "cell_type": "markdown",
   "metadata": {},
   "source": [
    "## What do you think will happen if we change the means to be closer together, or increase the standard deviations?"
   ]
  }
 ],
 "metadata": {
  "kernelspec": {
   "display_name": "Python 2",
   "language": "python",
   "name": "python2"
  },
  "language_info": {
   "codemirror_mode": {
    "name": "ipython",
    "version": 2
   },
   "file_extension": ".py",
   "mimetype": "text/x-python",
   "name": "python",
   "nbconvert_exporter": "python",
   "pygments_lexer": "ipython2",
   "version": "2.7.12"
  }
 },
 "nbformat": 4,
 "nbformat_minor": 0
}
