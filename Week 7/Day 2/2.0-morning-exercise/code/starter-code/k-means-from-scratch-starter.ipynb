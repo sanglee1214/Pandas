{
 "cells": [
  {
   "cell_type": "markdown",
   "metadata": {},
   "source": [
    "# k-means from scratch!\n",
    "Writing your own k-means algorithm will reinforce your understanding of how it works, improve your Python skills, and it's not as hard as you think.\n",
    "## Refresher on how the k-means works\n",
    "The goal of the k-means algorithm is to put each data point into one of k clusters, minimizing the within-cluster-sum-of-squares, where sum-of-squares is referring to the sum of the squared errors between a data point and the centroid of the cluster.\n",
    "## Initialize the clusters"
   ]
  },
  {
   "cell_type": "code",
   "execution_count": 11,
   "metadata": {
    "collapsed": true
   },
   "outputs": [],
   "source": [
    "import random\n",
    "import numpy as np\n",
    "from matplotlib import pyplot as plt\n",
    "import pandas as pd\n",
    "from scipy.spatial import distance\n",
    "%matplotlib inline"
   ]
  },
  {
   "cell_type": "code",
   "execution_count": 12,
   "metadata": {
    "collapsed": false
   },
   "outputs": [
    {
     "data": {
      "image/png": "[encoded data removed]",
      "text/plain": [
       "<matplotlib.figure.Figure at 0x1185f1fd0>"
      ]
     },
     "metadata": {},
     "output_type": "display_data"
    }
   ],
   "source": [
    "# Create points\n",
    "sizeOfClusters = 10\n",
    "\n",
    "cluster1 = pd.DataFrame(columns=[\"x\",\"y\",\"cluster\"])\n",
    "for i in range(sizeOfClusters):\n",
    "    # This will make a cluster of points centered around (0,0), with sd = 1\n",
    "    x = random.gauss(0,1) # gauss(mean, sd) (guassian distribution <=> normal distribution)\n",
    "    y = random.gauss(0,1)\n",
    "    cluster1.loc[i] = [x,y,1]\n",
    "    \n",
    "cluster2 = pd.DataFrame(columns=[\"x\",\"y\",\"cluster\"])\n",
    "for i in range(sizeOfClusters):\n",
    "    # This will make a cluster of points centered around (5,5), with sd = 1\n",
    "    x = random.gauss(5,1)\n",
    "    y = random.gauss(5,1)\n",
    "    cluster2.loc[i] = [x,y,2]\n",
    "\n",
    "plt.plot(cluster1.x,cluster1.y,'bo')\n",
    "plt.plot(cluster2.x,cluster2.y,'r+')\n",
    "plt.show()"
   ]
  },
  {
   "cell_type": "code",
   "execution_count": 13,
   "metadata": {
    "collapsed": false
   },
   "outputs": [
    {
     "data": {
      "text/plain": [
       "[<matplotlib.lines.Line2D at 0x1185fbe90>]"
      ]
     },
     "execution_count": 13,
     "metadata": {},
     "output_type": "execute_result"
    },
    {
     "data": {
      "image/png": "[encoded data removed]",
      "text/plain": [
       "<matplotlib.figure.Figure at 0x1185fb410>"
      ]
     },
     "metadata": {},
     "output_type": "display_data"
    }
   ],
   "source": [
    "# Now we combine the datasets, and you have to disentangle them with k-means\n",
    "clusterF = pd.concat([cluster1,cluster2]).reset_index(drop=True)\n",
    "clusterF.apply(np.random.shuffle,axis=1)\n",
    "clusterFPrevious = clusterF.copy(deep=True)\n",
    "clusterF.cluster = np.nan\n",
    "plt.plot(clusterF.x,clusterF.y,'bo')"
   ]
  },
  {
   "cell_type": "code",
   "execution_count": 14,
   "metadata": {
    "collapsed": false
   },
   "outputs": [
    {
     "data": {
      "text/html": [
       "<div>\n",
       "<table border=\"1\" class=\"dataframe\">\n",
       "  <thead>\n",
       "    <tr style=\"text-align: right;\">\n",
       "      <th></th>\n",
       "      <th>x</th>\n",
       "      <th>y</th>\n",
       "      <th>cluster</th>\n",
       "    </tr>\n",
       "  </thead>\n",
       "  <tbody>\n",
       "    <tr>\n",
       "      <th>0</th>\n",
       "      <td>-1.076358</td>\n",
       "      <td>-0.599697</td>\n",
       "      <td>NaN</td>\n",
       "    </tr>\n",
       "    <tr>\n",
       "      <th>1</th>\n",
       "      <td>-0.103232</td>\n",
       "      <td>-0.488779</td>\n",
       "      <td>NaN</td>\n",
       "    </tr>\n",
       "    <tr>\n",
       "      <th>2</th>\n",
       "      <td>-0.502575</td>\n",
       "      <td>-1.862798</td>\n",
       "      <td>NaN</td>\n",
       "    </tr>\n",
       "    <tr>\n",
       "      <th>3</th>\n",
       "      <td>0.376592</td>\n",
       "      <td>-0.489747</td>\n",
       "      <td>NaN</td>\n",
       "    </tr>\n",
       "    <tr>\n",
       "      <th>4</th>\n",
       "      <td>0.847061</td>\n",
       "      <td>1.817646</td>\n",
       "      <td>NaN</td>\n",
       "    </tr>\n",
       "  </tbody>\n",
       "</table>\n",
       "</div>"
      ],
      "text/plain": [
       "          x         y  cluster\n",
       "0 -1.076358 -0.599697      NaN\n",
       "1 -0.103232 -0.488779      NaN\n",
       "2 -0.502575 -1.862798      NaN\n",
       "3  0.376592 -0.489747      NaN\n",
       "4  0.847061  1.817646      NaN"
      ]
     },
     "execution_count": 14,
     "metadata": {},
     "output_type": "execute_result"
    }
   ],
   "source": [
    "clusterF.head()"
   ]
  },
  {
   "cell_type": "code",
   "execution_count": 15,
   "metadata": {
    "collapsed": false
   },
   "outputs": [
    {
     "data": {
      "text/html": [
       "<div>\n",
       "<table border=\"1\" class=\"dataframe\">\n",
       "  <thead>\n",
       "    <tr style=\"text-align: right;\">\n",
       "      <th></th>\n",
       "      <th>x</th>\n",
       "      <th>y</th>\n",
       "      <th>cluster</th>\n",
       "    </tr>\n",
       "  </thead>\n",
       "  <tbody>\n",
       "    <tr>\n",
       "      <th>0</th>\n",
       "      <td>-1.076358</td>\n",
       "      <td>-0.599697</td>\n",
       "      <td>1.0</td>\n",
       "    </tr>\n",
       "    <tr>\n",
       "      <th>1</th>\n",
       "      <td>-0.103232</td>\n",
       "      <td>-0.488779</td>\n",
       "      <td>1.0</td>\n",
       "    </tr>\n",
       "    <tr>\n",
       "      <th>2</th>\n",
       "      <td>-0.502575</td>\n",
       "      <td>-1.862798</td>\n",
       "      <td>1.0</td>\n",
       "    </tr>\n",
       "    <tr>\n",
       "      <th>3</th>\n",
       "      <td>0.376592</td>\n",
       "      <td>-0.489747</td>\n",
       "      <td>1.0</td>\n",
       "    </tr>\n",
       "    <tr>\n",
       "      <th>4</th>\n",
       "      <td>0.847061</td>\n",
       "      <td>1.817646</td>\n",
       "      <td>1.0</td>\n",
       "    </tr>\n",
       "  </tbody>\n",
       "</table>\n",
       "</div>"
      ],
      "text/plain": [
       "          x         y  cluster\n",
       "0 -1.076358 -0.599697      1.0\n",
       "1 -0.103232 -0.488779      1.0\n",
       "2 -0.502575 -1.862798      1.0\n",
       "3  0.376592 -0.489747      1.0\n",
       "4  0.847061  1.817646      1.0"
      ]
     },
     "execution_count": 15,
     "metadata": {},
     "output_type": "execute_result"
    }
   ],
   "source": [
    "clusterFPrevious.head()"
   ]
  },
  {
   "cell_type": "markdown",
   "metadata": {},
   "source": [
    "## Let's write some pseudo-code\n",
    "#### For an extra challenge to yourself, don't read the pseudo-code; just go off of your understanding of k-means.\n",
    "1. Take `k` as given.\n",
    "2. Choose `k` points randomly from your dataset; set your initial centroids to these points.\n",
    "3. Calculate the distances from each data point in the whole set to each centroid.\n",
    "4. Put each data point in the cluster whose centroid it is closest to.\n",
    "5. Update the centroids by taking the mean of the positions of all the current member points.\n",
    "6. Repeat steps 3 through 5 until stability is reached (i.e., no data point has changed membership to another cluster).\n",
    "\n",
    "## Now, let's write some real code!\n",
    "Just assume k=2.  You don't have to write the code to be able to generalize to any k.  (Though \"more power to you\" if you do.)"
   ]
  },
  {
   "cell_type": "code",
   "execution_count": 16,
   "metadata": {
    "collapsed": false
   },
   "outputs": [],
   "source": [
    "centroid1 = np.array([clusterF.x[0],clusterF.y[0]])\n",
    "centroid2 = np.array([clusterF.x[1],clusterF.y[1]])\n",
    "\n",
    "while (clusterF.cluster != clusterFPrevious.cluster).any():\n",
    "    clusterFPrevious = clusterF.copy(deep=True)\n",
    "    for i in range(len(clusterF)):\n",
    "        distanceFromCentroid1 = distance.euclidean(centroid1,clusterF.loc[i,['x','y']])\n",
    "        distanceFromCentroid2 = distance.euclidean(centroid2,clusterF.loc[i,['x','y']])\n",
    "        if (distanceFromCentroid1 < distanceFromCentroid2):\n",
    "            clusterF.loc[i,'cluster'] = 1\n",
    "        else:\n",
    "            clusterF.loc[i,\"cluster\"] = 2\n",
    "            \n",
    "    centroid1 = np.array([0.0,0.0])\n",
    "    centroid2 = np.array([0.0,0.0])\n",
    "    for i in range(len(clusterF)):\n",
    "        if (clusterF.loc[i,\"cluster\"] == 1):\n",
    "            centroid1 += clusterF.loc[i,['x','y']]\n",
    "        else:\n",
    "            centroid2 += clusterF.loc[i,['x','y']]\n",
    "    centroid1 /= len(clusterF[clusterF.cluster ==1])\n",
    "    centroid2 /= len(clusterF[clusterF.cluster ==2])\n",
    "    \n"
   ]
  },
  {
   "cell_type": "markdown",
   "metadata": {},
   "source": [
    "## Now confirm that you have clustered the data properly by plotting it, using a different color for each cluster\n",
    "Hint: refer to where I plotted the data in blue and red in the code cell near the top of this notebook."
   ]
  },
  {
   "cell_type": "code",
   "execution_count": 17,
   "metadata": {
    "collapsed": false
   },
   "outputs": [
    {
     "data": {
      "image/png": "[encoded data removed]",
      "text/plain": [
       "<matplotlib.figure.Figure at 0x1187ce150>"
      ]
     },
     "metadata": {},
     "output_type": "display_data"
    }
   ],
   "source": [
    "cluster1 = clusterF[clusterF.cluster==1]\n",
    "cluster2 = clusterF[clusterF.cluster==2]\n",
    "\n",
    "plt.plot(cluster1.x,cluster1.y,'bo')\n",
    "plt.plot(cluster2.x,cluster2.y,'r+')\n",
    "plt.show()"
   ]
  },
  {
   "cell_type": "markdown",
   "metadata": {},
   "source": [
    "## What do you think will happen if we change the means to be closer together, or increase the standard deviations?"
   ]
  }
 ],
 "metadata": {
  "kernelspec": {
   "display_name": "Python 2",
   "language": "python",
   "name": "python2"
  },
  "language_info": {
   "codemirror_mode": {
    "name": "ipython",
    "version": 2
   },
   "file_extension": ".py",
   "mimetype": "text/x-python",
   "name": "python",
   "nbconvert_exporter": "python",
   "pygments_lexer": "ipython2",
   "version": "2.7.12"
  }
 },
 "nbformat": 4,
 "nbformat_minor": 0
}
