{
 "cells": [
  {
   "cell_type": "markdown",
   "metadata": {},
   "source": [
    "# hierarchical clustering from scratch!\n",
    "Writing your own hierarchical clustering algorithm will reinforce your understanding of how it works, improve your Python skills, and it's not as hard as you think.\n",
    "## Refresher on how (agglomerative) hierarchical clustering works\n",
    "Start off by treating each point as its own cluster.  The two closest points get joined into a cluster.  Repeat, but now a \"point\" can be a point or a cluster.\n",
    "## Initialize the clusters\n",
    "We will start out with two big clusters, as in the k-means-from-scratch exercise."
   ]
  },
  {
   "cell_type": "code",
   "execution_count": 9,
   "metadata": {
    "collapsed": true
   },
   "outputs": [],
   "source": [
    "import random\n",
    "import numpy as np\n",
    "from matplotlib import pyplot as plt\n",
    "import pandas as pd\n",
    "from scipy.spatial import distance\n",
    "%matplotlib inline"
   ]
  },
  {
   "cell_type": "code",
   "execution_count": 10,
   "metadata": {
    "collapsed": false
   },
   "outputs": [
    {
     "data": {
      "image/png": "[encoded data removed]",
      "text/plain": [
       "<matplotlib.figure.Figure at 0x1152e9e90>"
      ]
     },
     "metadata": {},
     "output_type": "display_data"
    }
   ],
   "source": [
    "# Create points\n",
    "sizeOfClusters = 5\n",
    "\n",
    "cluster1 = pd.DataFrame(columns=[\"x\",\"y\",\"cluster\",\"color\",\"centroid\"])\n",
    "for i in range(sizeOfClusters):\n",
    "    # This will make a cluster of points centered around (0,0), with sd = 1\n",
    "    x = random.gauss(0,1) # gauss(mean, sd) (guassian distribution <=> normal distribution)\n",
    "    y = random.gauss(0,1)\n",
    "    cluster1.loc[i] = [x,y,1,'bo',np.array([x,y])]\n",
    "    \n",
    "cluster2 = pd.DataFrame(columns=[\"x\",\"y\",\"cluster\",\"color\",\"centroid\"])\n",
    "for i in range(sizeOfClusters):\n",
    "    # This will make a cluster of points centered around (5,5), with sd = 1\n",
    "    x = random.gauss(5,1)\n",
    "    y = random.gauss(5,1)\n",
    "    cluster2.loc[i] = [x,y,2,'r+',np.array([x,y])]\n",
    "\n",
    "plt.plot(cluster1.x,cluster1.y,'bo')\n",
    "plt.plot(cluster2.x,cluster2.y,'r+')\n",
    "plt.show()"
   ]
  },
  {
   "cell_type": "code",
   "execution_count": 11,
   "metadata": {
    "collapsed": false
   },
   "outputs": [
    {
     "data": {
      "image/png": "[encoded data removed]",
      "text/plain": [
       "<matplotlib.figure.Figure at 0x119151cd0>"
      ]
     },
     "metadata": {},
     "output_type": "display_data"
    }
   ],
   "source": [
    "# Now we combine the datasets, and you have to hierarchically cluster them.\n",
    "clusterF = pd.concat([cluster1,cluster2]).reset_index(drop=True)\n",
    "clusterF.cluster = range(len(clusterF)) # Each starts out as its own cluster.\n",
    "# We give them all distinct colors so we can distinguish between the clusters.\n",
    "colors = ['bo', 'go', 'ro', 'co', 'mo', 'b+', 'g+', 'r+', 'c+', 'm+']\n",
    "clusterF[\"color\"] = colors\n",
    "for i in range(len(clusterF)):\n",
    "    plt.plot(clusterF.loc[i,\"x\"],clusterF.loc[i,\"y\"],clusterF.loc[i,\"color\"])\n",
    "plt.show()"
   ]
  },
  {
   "cell_type": "code",
   "execution_count": 12,
   "metadata": {
    "collapsed": false
   },
   "outputs": [
    {
     "data": {
      "text/html": [
       "<div>\n",
       "<table border=\"1\" class=\"dataframe\">\n",
       "  <thead>\n",
       "    <tr style=\"text-align: right;\">\n",
       "      <th></th>\n",
       "      <th>x</th>\n",
       "      <th>y</th>\n",
       "      <th>cluster</th>\n",
       "      <th>color</th>\n",
       "      <th>centroid</th>\n",
       "    </tr>\n",
       "  </thead>\n",
       "  <tbody>\n",
       "    <tr>\n",
       "      <th>0</th>\n",
       "      <td>-0.084284</td>\n",
       "      <td>-0.300798</td>\n",
       "      <td>0</td>\n",
       "      <td>bo</td>\n",
       "      <td>[-0.0842838047028, -0.300797862259]</td>\n",
       "    </tr>\n",
       "    <tr>\n",
       "      <th>1</th>\n",
       "      <td>-0.997413</td>\n",
       "      <td>0.587320</td>\n",
       "      <td>1</td>\n",
       "      <td>go</td>\n",
       "      <td>[-0.997412642645, 0.587319653806]</td>\n",
       "    </tr>\n",
       "    <tr>\n",
       "      <th>2</th>\n",
       "      <td>0.326279</td>\n",
       "      <td>0.763439</td>\n",
       "      <td>2</td>\n",
       "      <td>ro</td>\n",
       "      <td>[0.326278982784, 0.763438756595]</td>\n",
       "    </tr>\n",
       "    <tr>\n",
       "      <th>3</th>\n",
       "      <td>1.126382</td>\n",
       "      <td>-0.602791</td>\n",
       "      <td>3</td>\n",
       "      <td>co</td>\n",
       "      <td>[1.1263818471, -0.602790771213]</td>\n",
       "    </tr>\n",
       "    <tr>\n",
       "      <th>4</th>\n",
       "      <td>0.491865</td>\n",
       "      <td>-0.226439</td>\n",
       "      <td>4</td>\n",
       "      <td>mo</td>\n",
       "      <td>[0.491865133097, -0.226438580354]</td>\n",
       "    </tr>\n",
       "    <tr>\n",
       "      <th>5</th>\n",
       "      <td>5.852369</td>\n",
       "      <td>4.708345</td>\n",
       "      <td>5</td>\n",
       "      <td>b+</td>\n",
       "      <td>[5.85236853747, 4.70834520143]</td>\n",
       "    </tr>\n",
       "    <tr>\n",
       "      <th>6</th>\n",
       "      <td>6.171242</td>\n",
       "      <td>4.264050</td>\n",
       "      <td>6</td>\n",
       "      <td>g+</td>\n",
       "      <td>[6.1712417463, 4.26405016544]</td>\n",
       "    </tr>\n",
       "    <tr>\n",
       "      <th>7</th>\n",
       "      <td>5.080749</td>\n",
       "      <td>4.935647</td>\n",
       "      <td>7</td>\n",
       "      <td>r+</td>\n",
       "      <td>[5.08074910811, 4.93564739038]</td>\n",
       "    </tr>\n",
       "    <tr>\n",
       "      <th>8</th>\n",
       "      <td>4.861987</td>\n",
       "      <td>4.642578</td>\n",
       "      <td>8</td>\n",
       "      <td>c+</td>\n",
       "      <td>[4.86198715709, 4.64257816777]</td>\n",
       "    </tr>\n",
       "    <tr>\n",
       "      <th>9</th>\n",
       "      <td>3.284629</td>\n",
       "      <td>6.843417</td>\n",
       "      <td>9</td>\n",
       "      <td>m+</td>\n",
       "      <td>[3.2846290358, 6.84341723501]</td>\n",
       "    </tr>\n",
       "  </tbody>\n",
       "</table>\n",
       "</div>"
      ],
      "text/plain": [
       "          x         y  cluster color                             centroid\n",
       "0 -0.084284 -0.300798        0    bo  [-0.0842838047028, -0.300797862259]\n",
       "1 -0.997413  0.587320        1    go    [-0.997412642645, 0.587319653806]\n",
       "2  0.326279  0.763439        2    ro     [0.326278982784, 0.763438756595]\n",
       "3  1.126382 -0.602791        3    co      [1.1263818471, -0.602790771213]\n",
       "4  0.491865 -0.226439        4    mo    [0.491865133097, -0.226438580354]\n",
       "5  5.852369  4.708345        5    b+       [5.85236853747, 4.70834520143]\n",
       "6  6.171242  4.264050        6    g+        [6.1712417463, 4.26405016544]\n",
       "7  5.080749  4.935647        7    r+       [5.08074910811, 4.93564739038]\n",
       "8  4.861987  4.642578        8    c+       [4.86198715709, 4.64257816777]\n",
       "9  3.284629  6.843417        9    m+        [3.2846290358, 6.84341723501]"
      ]
     },
     "execution_count": 12,
     "metadata": {},
     "output_type": "execute_result"
    }
   ],
   "source": [
    "clusterF"
   ]
  },
  {
   "cell_type": "markdown",
   "metadata": {},
   "source": [
    "## Let's write some pseudo-code\n",
    "#### For an extra challenge to yourself, don't read the pseudo-code; just go off of your understanding of agglomerative hierarchical clustering.\n",
    "1. Begin with each point being its own cluster.\n",
    "2. Calculate the distances between all clusters (remember, a cluster can be one or more points, but initially, will be only one).\n",
    "3. Merge the two closest clusters. (Update the cluster column and the centroids for the newly merged clusters; also, update the color column, for the sake of the plot.)\n",
    "4. Repeat steps 2 and 3 until you have one big cluster.\n",
    "\n",
    "Note: we will use centroid linkage clustering.  That is to say, the distance between cluster `a` and cluster `b` will be defined as the distance between the centroids of the points in `a` and the points in `b` (the centroid of a set of points is just the average of the points).\n",
    "\n",
    "## Now, let's write some real code!"
   ]
  },
  {
   "cell_type": "code",
   "execution_count": 13,
   "metadata": {
    "collapsed": true
   },
   "outputs": [],
   "source": [
    "def notOneCluster(clusterF):\n",
    "    clusterRow0 = clusterF.loc[0,\"cluster\"]\n",
    "    for i in range(len(clusterF)):\n",
    "        if (clusterF.loc[i,\"cluster\"] != clusterRow0):\n",
    "            return True\n",
    "    return False"
   ]
  },
  {
   "cell_type": "code",
   "execution_count": 19,
   "metadata": {
    "collapsed": false,
    "scrolled": false
   },
   "outputs": [
    {
     "name": "stdout",
     "output_type": "stream",
     "text": [
      "          x         y  cluster color                             centroid\n",
      "0 -0.084284 -0.300798        0    bo  [-0.0842838047028, -0.300797862259]\n",
      "1 -0.997413  0.587320        1    go    [-0.997412642645, 0.587319653806]\n",
      "2  0.326279  0.763439        2    ro     [0.326278982784, 0.763438756595]\n",
      "3  1.126382 -0.602791        3    co      [1.1263818471, -0.602790771213]\n",
      "4  0.491865 -0.226439        4    mo    [0.491865133097, -0.226438580354]\n",
      "5  5.852369  4.708345        5    b+       [5.85236853747, 4.70834520143]\n",
      "6  6.171242  4.264050        5    b+        [6.1712417463, 4.26405016544]\n",
      "7  5.080749  4.935647        7    r+       [5.08074910811, 4.93564739038]\n",
      "8  4.861987  4.642578        7    r+       [4.86198715709, 4.64257816777]\n",
      "9  3.284629  6.843417        9    m+        [3.2846290358, 6.84341723501]\n"
     ]
    },
    {
     "data": {
      "image/png": "[encoded data removed]",
      "text/plain": [
       "<matplotlib.figure.Figure at 0x118d70f50>"
      ]
     },
     "metadata": {},
     "output_type": "display_data"
    },
    {
     "name": "stdout",
     "output_type": "stream",
     "text": [
      "          x         y  cluster color                           centroid\n",
      "0 -0.084284 -0.300798        0    bo  [0.203790664197, -0.263618221306]\n",
      "1 -0.997413  0.587320        1    go  [-0.997412642645, 0.587319653806]\n",
      "2  0.326279  0.763439        2    ro   [0.326278982784, 0.763438756595]\n",
      "3  1.126382 -0.602791        3    co    [1.1263818471, -0.602790771213]\n",
      "4  0.491865 -0.226439        0    bo  [0.203790664197, -0.263618221306]\n",
      "5  5.852369  4.708345        5    b+     [5.85236853747, 4.70834520143]\n",
      "6  6.171242  4.264050        5    b+      [6.1712417463, 4.26405016544]\n",
      "7  5.080749  4.935647        7    r+     [5.08074910811, 4.93564739038]\n",
      "8  4.861987  4.642578        7    r+     [4.86198715709, 4.64257816777]\n",
      "9  3.284629  6.843417        9    m+      [3.2846290358, 6.84341723501]\n"
     ]
    },
    {
     "data": {
      "image/png": "[encoded data removed]",
      "text/plain": [
       "<matplotlib.figure.Figure at 0x11562d710>"
      ]
     },
     "metadata": {},
     "output_type": "display_data"
    },
    {
     "name": "stdout",
     "output_type": "stream",
     "text": [
      "          x         y  cluster color                           centroid\n",
      "0 -0.084284 -0.300798        0    bo  [0.203790664197, -0.263618221306]\n",
      "1 -0.997413  0.587320        1    go  [-0.997412642645, 0.587319653806]\n",
      "2  0.326279  0.763439        2    ro   [0.326278982784, 0.763438756595]\n",
      "3  1.126382 -0.602791        3    co    [1.1263818471, -0.602790771213]\n",
      "4  0.491865 -0.226439        0    bo  [0.203790664197, -0.263618221306]\n",
      "5  5.852369  4.708345        5    b+     [5.49158663724, 4.63765523126]\n",
      "6  6.171242  4.264050        5    b+     [5.49158663724, 4.63765523126]\n",
      "7  5.080749  4.935647        5    b+     [5.49158663724, 4.63765523126]\n",
      "8  4.861987  4.642578        5    b+     [5.49158663724, 4.63765523126]\n",
      "9  3.284629  6.843417        9    m+      [3.2846290358, 6.84341723501]\n"
     ]
    },
    {
     "data": {
      "image/png": "[encoded data removed]",
      "text/plain": [
       "<matplotlib.figure.Figure at 0x115793410>"
      ]
     },
     "metadata": {},
     "output_type": "display_data"
    },
    {
     "name": "stdout",
     "output_type": "stream",
     "text": [
      "          x         y  cluster color                           centroid\n",
      "0 -0.084284 -0.300798        0    bo  [0.511321058498, -0.376675737942]\n",
      "1 -0.997413  0.587320        1    go  [-0.997412642645, 0.587319653806]\n",
      "2  0.326279  0.763439        2    ro   [0.326278982784, 0.763438756595]\n",
      "3  1.126382 -0.602791        0    bo  [0.511321058498, -0.376675737942]\n",
      "4  0.491865 -0.226439        0    bo  [0.511321058498, -0.376675737942]\n",
      "5  5.852369  4.708345        5    b+     [5.49158663724, 4.63765523126]\n",
      "6  6.171242  4.264050        5    b+     [5.49158663724, 4.63765523126]\n",
      "7  5.080749  4.935647        5    b+     [5.49158663724, 4.63765523126]\n",
      "8  4.861987  4.642578        5    b+     [5.49158663724, 4.63765523126]\n",
      "9  3.284629  6.843417        9    m+      [3.2846290358, 6.84341723501]\n"
     ]
    },
    {
     "data": {
      "image/png": "[encoded data removed]",
      "text/plain": [
       "<matplotlib.figure.Figure at 0x1185b7150>"
      ]
     },
     "metadata": {},
     "output_type": "display_data"
    },
    {
     "name": "stdout",
     "output_type": "stream",
     "text": [
      "          x         y  cluster color                            centroid\n",
      "0 -0.084284 -0.300798        0    bo  [0.465060539569, -0.0916471143076]\n",
      "1 -0.997413  0.587320        1    go   [-0.997412642645, 0.587319653806]\n",
      "2  0.326279  0.763439        0    bo  [0.465060539569, -0.0916471143076]\n",
      "3  1.126382 -0.602791        0    bo  [0.465060539569, -0.0916471143076]\n",
      "4  0.491865 -0.226439        0    bo  [0.465060539569, -0.0916471143076]\n",
      "5  5.852369  4.708345        5    b+      [5.49158663724, 4.63765523126]\n",
      "6  6.171242  4.264050        5    b+      [5.49158663724, 4.63765523126]\n",
      "7  5.080749  4.935647        5    b+      [5.49158663724, 4.63765523126]\n",
      "8  4.861987  4.642578        5    b+      [5.49158663724, 4.63765523126]\n",
      "9  3.284629  6.843417        9    m+       [3.2846290358, 6.84341723501]\n"
     ]
    },
    {
     "data": {
      "image/png": "[encoded data removed]",
      "text/plain": [
       "<matplotlib.figure.Figure at 0x1186300d0>"
      ]
     },
     "metadata": {},
     "output_type": "display_data"
    },
    {
     "name": "stdout",
     "output_type": "stream",
     "text": [
      "          x         y  cluster color                          centroid\n",
      "0 -0.084284 -0.300798        0    bo  [0.172565903126, 0.044146239315]\n",
      "1 -0.997413  0.587320        0    bo  [0.172565903126, 0.044146239315]\n",
      "2  0.326279  0.763439        0    bo  [0.172565903126, 0.044146239315]\n",
      "3  1.126382 -0.602791        0    bo  [0.172565903126, 0.044146239315]\n",
      "4  0.491865 -0.226439        0    bo  [0.172565903126, 0.044146239315]\n",
      "5  5.852369  4.708345        5    b+    [5.49158663724, 4.63765523126]\n",
      "6  6.171242  4.264050        5    b+    [5.49158663724, 4.63765523126]\n",
      "7  5.080749  4.935647        5    b+    [5.49158663724, 4.63765523126]\n",
      "8  4.861987  4.642578        5    b+    [5.49158663724, 4.63765523126]\n",
      "9  3.284629  6.843417        9    m+     [3.2846290358, 6.84341723501]\n"
     ]
    },
    {
     "data": {
      "image/png": "[encoded data removed]",
      "text/plain": [
       "<matplotlib.figure.Figure at 0x119289110>"
      ]
     },
     "metadata": {},
     "output_type": "display_data"
    },
    {
     "name": "stdout",
     "output_type": "stream",
     "text": [
      "          x         y  cluster color                          centroid\n",
      "0 -0.084284 -0.300798        0    bo  [0.172565903126, 0.044146239315]\n",
      "1 -0.997413  0.587320        0    bo  [0.172565903126, 0.044146239315]\n",
      "2  0.326279  0.763439        0    bo  [0.172565903126, 0.044146239315]\n",
      "3  1.126382 -0.602791        0    bo  [0.172565903126, 0.044146239315]\n",
      "4  0.491865 -0.226439        0    bo  [0.172565903126, 0.044146239315]\n",
      "5  5.852369  4.708345        5    b+    [5.05019511695, 5.07880763201]\n",
      "6  6.171242  4.264050        5    b+    [5.05019511695, 5.07880763201]\n",
      "7  5.080749  4.935647        5    b+    [5.05019511695, 5.07880763201]\n",
      "8  4.861987  4.642578        5    b+    [5.05019511695, 5.07880763201]\n",
      "9  3.284629  6.843417        5    b+    [5.05019511695, 5.07880763201]\n"
     ]
    },
    {
     "data": {
      "image/png": "[encoded data removed]",
      "text/plain": [
       "<matplotlib.figure.Figure at 0x119215f90>"
      ]
     },
     "metadata": {},
     "output_type": "display_data"
    }
   ],
   "source": [
    "while (notOneCluster(clusterF)):\n",
    "    # Plot within the loop so you can see the progress\n",
    "    print(clusterF)\n",
    "    for i in range(len(clusterF)):\n",
    "        plt.plot(clusterF.loc[i,\"x\"],clusterF.loc[i,\"y\"],clusterF.loc[i,\"color\"])\n",
    "    plt.show()\n",
    "    # Find the minimum distance clusters\n",
    "    minimumDistance = 1000\n",
    "    iMin = -1\n",
    "    iCluster = -1\n",
    "    jCluster = -1\n",
    "    for i in range(len(clusterF)):\n",
    "        for j in range(i+1,len(clusterF)):\n",
    "            if clusterF.loc[i,'cluster'] == clusterF.loc[j,'cluster']:\n",
    "                continue\n",
    "            distanceIJ = distance.euclidean(clusterF.loc[i,'centroid'],clusterF.loc[j,'centroid'])\n",
    "            if distanceIJ < minimumDistance:\n",
    "                minimumDistance = distanceIJ\n",
    "                iCluster = clusterF.loc[i,'cluster']\n",
    "                jCluster = clusterF.loc[j,'cluster']\n",
    "                iMin = i\n",
    "    # Merge the minimum distance clusters: jCluster's become iCluster's.\n",
    "\n",
    "    for i in range(len(clusterF)):\n",
    "        if clusterF.loc[i,'cluster'] == jCluster:\n",
    "            clusterF.loc[i,'cluster'] = iCluster\n",
    "            clusterF.loc[i,'color'] = clusterF.loc[iMin,'color']\n",
    "    # Recalculate the centroids for the newly merged clusters\n",
    "    newCentroid = np.array([0.0,0.0])\n",
    "    count = 0\n",
    "    for i in range(len(clusterF)):\n",
    "        if clusterF.loc[i,'cluster'] == iCluster:\n",
    "            newCentroid += np.array([clusterF.loc[i,'x'],clusterF.loc[i,'y']])\n",
    "            count += 1\n",
    "    newCentroid /= count\n",
    "    for i in range(len(clusterF)):\n",
    "        if clusterF.loc[i,'cluster'] == iCluster:\n",
    "            clusterF.set_value(i,'centroid',newCentroid)\n",
    "            "
   ]
  },
  {
   "cell_type": "code",
   "execution_count": null,
   "metadata": {
    "collapsed": true
   },
   "outputs": [],
   "source": []
  }
 ],
 "metadata": {
  "kernelspec": {
   "display_name": "Python 2",
   "language": "python",
   "name": "python2"
  },
  "language_info": {
   "codemirror_mode": {
    "name": "ipython",
    "version": 2
   },
   "file_extension": ".py",
   "mimetype": "text/x-python",
   "name": "python",
   "nbconvert_exporter": "python",
   "pygments_lexer": "ipython2",
   "version": "2.7.12"
  }
 },
 "nbformat": 4,
 "nbformat_minor": 0
}
