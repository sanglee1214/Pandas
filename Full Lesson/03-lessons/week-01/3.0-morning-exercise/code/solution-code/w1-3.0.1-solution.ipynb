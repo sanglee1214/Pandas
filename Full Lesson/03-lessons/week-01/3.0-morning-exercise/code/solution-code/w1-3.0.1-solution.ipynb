{
 "cells": [
  {
   "cell_type": "code",
   "execution_count": 1,
   "metadata": {
    "collapsed": true
   },
   "outputs": [],
   "source": [
    "# create a function, where given an input of a list, the function will return the sample standard deviation"
   ]
  },
  {
   "cell_type": "code",
   "execution_count": 2,
   "metadata": {
    "collapsed": true
   },
   "outputs": [],
   "source": [
    "import math # use the math package for absolute value, exp, or other special math methods\n",
    "import numpy as np"
   ]
  },
  {
   "cell_type": "code",
   "execution_count": 3,
   "metadata": {
    "collapsed": true
   },
   "outputs": [],
   "source": [
    "def getMean(bucket): return float(sum(bucket))/len(bucket)"
   ]
  },
  {
   "cell_type": "code",
   "execution_count": 4,
   "metadata": {
    "collapsed": true
   },
   "outputs": [],
   "source": [
    "def getStandardDevWithForLoop(bucket,mean): \n",
    "    dfSum = 0\n",
    "    for num in bucket:\n",
    "        dfSum += (num - mean)**2\n",
    "    sampleVar = float(dfSum)/(len(bucket) - 1)\n",
    "    return math.sqrt(sampleVar)"
   ]
  },
  {
   "cell_type": "code",
   "execution_count": 5,
   "metadata": {
    "collapsed": true
   },
   "outputs": [],
   "source": [
    "def getStandardDeviationWithMap(bucket,mean): \n",
    "    df = map(lambda num: (num - mean)**2, bucket)\n",
    "    dfSum = sum(df)\n",
    "    sampleVar = float(dfSum)/(len(bucket) - 1)\n",
    "    return math.sqrt(sampleVar)"
   ]
  },
  {
   "cell_type": "code",
   "execution_count": 6,
   "metadata": {
    "collapsed": true
   },
   "outputs": [],
   "source": [
    "def getSummaryStatistics(bucket):\n",
    "    \n",
    "    mean = getMean(bucket)\n",
    "    stdev = getStandardDeviationWithMap(bucket,mean)\n",
    "    #stdev = getStandardDevWithForLoop(bucket,mean)\n",
    "    \n",
    "    maxNum = max(bucket)\n",
    "    minNum = min(bucket)\n",
    "    \n",
    "    rangeList = maxNum - minNum\n",
    "    \n",
    "    statsDictionary = { \"mean\" : mean, \n",
    "                        \"stdev\": stdev, \n",
    "                        \"maxNum\": maxNum, \n",
    "                        \"minNum\": minNum, \n",
    "                        \"range\" : rangeList \n",
    "                      }\n",
    "    return statsDictionary"
   ]
  },
  {
   "cell_type": "code",
   "execution_count": 7,
   "metadata": {
    "collapsed": false
   },
   "outputs": [
    {
     "name": "stdout",
     "output_type": "stream",
     "text": [
      "{'minNum': 0, 'stdev': 3.0276503540974917, 'maxNum': 9, 'range': 9, 'mean': 4.5}\n"
     ]
    }
   ],
   "source": [
    "list1 = range(0,10,1)\n",
    "summaryStatistics = getSummaryStatistics(list1)\n",
    "print summaryStatistics"
   ]
  },
  {
   "cell_type": "code",
   "execution_count": 8,
   "metadata": {
    "collapsed": false
   },
   "outputs": [],
   "source": [
    "def getRandomData(minNumInList,maxNumInList,lenEachList,numOfLists):\n",
    "    randomSets = []\n",
    "    for run in range(0, numOfLists - 1): # do something 5 times\n",
    "        randNums = np.random.randint(minNumInList,maxNumInList,lenEachList)\n",
    "        randomSets.append(randNums)\n",
    "    return randomSets"
   ]
  },
  {
   "cell_type": "code",
   "execution_count": 9,
   "metadata": {
    "collapsed": true
   },
   "outputs": [],
   "source": [
    "# get the batch mean using both looping and functional programming\n",
    "def getBatchMean():\n",
    "    randomData = getRandomData(0,10,10,6)\n",
    "    randomDataAvgs = map(getMean,randomData)\n",
    "    batchMean = getMean(randomDataAvgs)\n",
    "    return batchMean"
   ]
  },
  {
   "cell_type": "code",
   "execution_count": 10,
   "metadata": {
    "collapsed": true
   },
   "outputs": [],
   "source": [
    "def getBatchMeanByMap():\n",
    "    randomData = getRandomData(0,10,10,6)\n",
    "    randomDataAvgs = []\n",
    "    for setNums in randomData:\n",
    "        setAvg = getMean(setNums)\n",
    "        randomDataAvgs.append(setAvg)\n",
    "    batchMean = getMean(randomDataAvgs)\n",
    "    return batchMean"
   ]
  },
  {
   "cell_type": "code",
   "execution_count": null,
   "metadata": {
    "collapsed": true
   },
   "outputs": [],
   "source": []
  }
 ],
 "metadata": {
  "kernelspec": {
   "display_name": "Python 2",
   "language": "python",
   "name": "python2"
  },
  "language_info": {
   "codemirror_mode": {
    "name": "ipython",
    "version": 2
   },
   "file_extension": ".py",
   "mimetype": "text/x-python",
   "name": "python",
   "nbconvert_exporter": "python",
   "pygments_lexer": "ipython2",
   "version": "2.7.11"
  }
 },
 "nbformat": 4,
 "nbformat_minor": 0
}
