{
 "cells": [
  {
   "cell_type": "code",
   "execution_count": 197,
   "metadata": {
    "collapsed": true
   },
   "outputs": [],
   "source": [
    "import pandas as pd\n",
    "import numpy as np"
   ]
  },
  {
   "cell_type": "code",
   "execution_count": 198,
   "metadata": {
    "collapsed": true
   },
   "outputs": [],
   "source": [
    "def read_csv(path): return pd.read_csv( path, sep = ',' )    "
   ]
  },
  {
   "cell_type": "code",
   "execution_count": 199,
   "metadata": {
    "collapsed": false
   },
   "outputs": [],
   "source": [
    "path = \"../../assets/HairEyeColor.csv\"\n",
    "\n",
    "df = read_csv(path)"
   ]
  },
  {
   "cell_type": "code",
   "execution_count": 200,
   "metadata": {
    "collapsed": false
   },
   "outputs": [
    {
     "data": {
      "text/plain": [
       "Unnamed: 0     int64\n",
       "Hair          object\n",
       "Eye           object\n",
       "Sex           object\n",
       "Freq           int64\n",
       "dtype: object"
      ]
     },
     "execution_count": 200,
     "metadata": {},
     "output_type": "execute_result"
    }
   ],
   "source": [
    "df.dtypes"
   ]
  },
  {
   "cell_type": "code",
   "execution_count": 201,
   "metadata": {
    "collapsed": false
   },
   "outputs": [
    {
     "name": "stdout",
     "output_type": "stream",
     "text": [
      "Index([u'Unnamed: 0', u'Hair', u'Eye', u'Sex', u'Freq'], dtype='object')\n"
     ]
    }
   ],
   "source": [
    "columns = df.columns\n",
    "print columns"
   ]
  },
  {
   "cell_type": "code",
   "execution_count": 202,
   "metadata": {
    "collapsed": false
   },
   "outputs": [
    {
     "name": "stdout",
     "output_type": "stream",
     "text": [
      "Unnamed: 0\n"
     ]
    }
   ],
   "source": [
    "# Drop the Column Named 'Unnamed: 0'\n",
    "columnToRemove = columns[0]\n",
    "print columnToRemove\n",
    "df.drop( columnToRemove, axis=1, inplace=True )"
   ]
  },
  {
   "cell_type": "code",
   "execution_count": 203,
   "metadata": {
    "collapsed": false
   },
   "outputs": [
    {
     "data": {
      "text/plain": [
       "Index([u'Hair', u'Eye', u'Sex', u'Freq'], dtype='object')"
      ]
     },
     "execution_count": 203,
     "metadata": {},
     "output_type": "execute_result"
    }
   ],
   "source": [
    "df.columns"
   ]
  },
  {
   "cell_type": "code",
   "execution_count": 204,
   "metadata": {
    "collapsed": false
   },
   "outputs": [
    {
     "data": {
      "text/plain": [
       "Hair    32\n",
       "Eye     32\n",
       "Sex     32\n",
       "Freq    32\n",
       "dtype: int64"
      ]
     },
     "execution_count": 204,
     "metadata": {},
     "output_type": "execute_result"
    }
   ],
   "source": [
    "# Are there any null or empty values in the dataset? \n",
    "df.count()"
   ]
  },
  {
   "cell_type": "code",
   "execution_count": 205,
   "metadata": {
    "collapsed": false
   },
   "outputs": [
    {
     "name": "stdout",
     "output_type": "stream",
     "text": [
      "32 4\n"
     ]
    }
   ],
   "source": [
    "# How many rows are in the dataset? \n",
    "rows, cols = df.shape\n",
    "print rows, cols"
   ]
  },
  {
   "cell_type": "code",
   "execution_count": 206,
   "metadata": {
    "collapsed": false
   },
   "outputs": [
    {
     "data": {
      "text/html": [
       "<div>\n",
       "<table border=\"1\" class=\"dataframe\">\n",
       "  <thead>\n",
       "    <tr style=\"text-align: right;\">\n",
       "      <th></th>\n",
       "      <th>Hair</th>\n",
       "      <th>Eye</th>\n",
       "      <th>Sex</th>\n",
       "      <th>Freq</th>\n",
       "    </tr>\n",
       "  </thead>\n",
       "  <tbody>\n",
       "    <tr>\n",
       "      <th>0</th>\n",
       "      <td>Black</td>\n",
       "      <td>Brown</td>\n",
       "      <td>Male</td>\n",
       "      <td>32</td>\n",
       "    </tr>\n",
       "    <tr>\n",
       "      <th>1</th>\n",
       "      <td>Brown</td>\n",
       "      <td>Brown</td>\n",
       "      <td>Male</td>\n",
       "      <td>53</td>\n",
       "    </tr>\n",
       "    <tr>\n",
       "      <th>2</th>\n",
       "      <td>Red</td>\n",
       "      <td>Brown</td>\n",
       "      <td>Male</td>\n",
       "      <td>10</td>\n",
       "    </tr>\n",
       "    <tr>\n",
       "      <th>3</th>\n",
       "      <td>Blond</td>\n",
       "      <td>Brown</td>\n",
       "      <td>Male</td>\n",
       "      <td>3</td>\n",
       "    </tr>\n",
       "    <tr>\n",
       "      <th>4</th>\n",
       "      <td>Black</td>\n",
       "      <td>Blue</td>\n",
       "      <td>Male</td>\n",
       "      <td>11</td>\n",
       "    </tr>\n",
       "    <tr>\n",
       "      <th>5</th>\n",
       "      <td>Brown</td>\n",
       "      <td>Blue</td>\n",
       "      <td>Male</td>\n",
       "      <td>50</td>\n",
       "    </tr>\n",
       "    <tr>\n",
       "      <th>6</th>\n",
       "      <td>Red</td>\n",
       "      <td>Blue</td>\n",
       "      <td>Male</td>\n",
       "      <td>10</td>\n",
       "    </tr>\n",
       "    <tr>\n",
       "      <th>7</th>\n",
       "      <td>Blond</td>\n",
       "      <td>Blue</td>\n",
       "      <td>Male</td>\n",
       "      <td>30</td>\n",
       "    </tr>\n",
       "    <tr>\n",
       "      <th>8</th>\n",
       "      <td>Black</td>\n",
       "      <td>Hazel</td>\n",
       "      <td>Male</td>\n",
       "      <td>10</td>\n",
       "    </tr>\n",
       "    <tr>\n",
       "      <th>9</th>\n",
       "      <td>Brown</td>\n",
       "      <td>Hazel</td>\n",
       "      <td>Male</td>\n",
       "      <td>25</td>\n",
       "    </tr>\n",
       "    <tr>\n",
       "      <th>10</th>\n",
       "      <td>Red</td>\n",
       "      <td>Hazel</td>\n",
       "      <td>Male</td>\n",
       "      <td>7</td>\n",
       "    </tr>\n",
       "    <tr>\n",
       "      <th>11</th>\n",
       "      <td>Blond</td>\n",
       "      <td>Hazel</td>\n",
       "      <td>Male</td>\n",
       "      <td>5</td>\n",
       "    </tr>\n",
       "    <tr>\n",
       "      <th>12</th>\n",
       "      <td>Black</td>\n",
       "      <td>Green</td>\n",
       "      <td>Male</td>\n",
       "      <td>3</td>\n",
       "    </tr>\n",
       "    <tr>\n",
       "      <th>13</th>\n",
       "      <td>Brown</td>\n",
       "      <td>Green</td>\n",
       "      <td>Male</td>\n",
       "      <td>15</td>\n",
       "    </tr>\n",
       "    <tr>\n",
       "      <th>14</th>\n",
       "      <td>Red</td>\n",
       "      <td>Green</td>\n",
       "      <td>Male</td>\n",
       "      <td>7</td>\n",
       "    </tr>\n",
       "  </tbody>\n",
       "</table>\n",
       "</div>"
      ],
      "text/plain": [
       "     Hair    Eye   Sex  Freq\n",
       "0   Black  Brown  Male    32\n",
       "1   Brown  Brown  Male    53\n",
       "2     Red  Brown  Male    10\n",
       "3   Blond  Brown  Male     3\n",
       "4   Black   Blue  Male    11\n",
       "5   Brown   Blue  Male    50\n",
       "6     Red   Blue  Male    10\n",
       "7   Blond   Blue  Male    30\n",
       "8   Black  Hazel  Male    10\n",
       "9   Brown  Hazel  Male    25\n",
       "10    Red  Hazel  Male     7\n",
       "11  Blond  Hazel  Male     5\n",
       "12  Black  Green  Male     3\n",
       "13  Brown  Green  Male    15\n",
       "14    Red  Green  Male     7"
      ]
     },
     "execution_count": 206,
     "metadata": {},
     "output_type": "execute_result"
    }
   ],
   "source": [
    "# Select the first 15 row of the dataset\n",
    "df.head(15)"
   ]
  },
  {
   "cell_type": "code",
   "execution_count": 207,
   "metadata": {
    "collapsed": false
   },
   "outputs": [],
   "source": [
    "# create a df with only students with Black Hair\n",
    "df1 = df[ df.Hair == 'Black' ]"
   ]
  },
  {
   "cell_type": "code",
   "execution_count": 208,
   "metadata": {
    "collapsed": false
   },
   "outputs": [
    {
     "name": "stdout",
     "output_type": "stream",
     "text": [
      "68\n"
     ]
    }
   ],
   "source": [
    "# How many students have black eyes and brown hair? \n",
    "df2 = df1[ df1.Eye == 'Brown' ]\n",
    "print sum( df2.Freq )"
   ]
  },
  {
   "cell_type": "code",
   "execution_count": 209,
   "metadata": {
    "collapsed": false
   },
   "outputs": [
    {
     "name": "stdout",
     "output_type": "stream",
     "text": [
      "32\n"
     ]
    }
   ],
   "source": [
    "# How many blackeyed, brown hair, male students are in the class? \n",
    "df3  = df2[ df2.Sex == 'Male' ]\n",
    "print sum( df3.Freq )"
   ]
  },
  {
   "cell_type": "code",
   "execution_count": 210,
   "metadata": {
    "collapsed": false
   },
   "outputs": [
    {
     "name": "stdout",
     "output_type": "stream",
     "text": [
      "32\n"
     ]
    }
   ],
   "source": [
    "# make all of the above 1 query, called if df4\n",
    "df4 = df[ (df.Hair == 'Black') & (df.Eye == 'Brown') & (df.Sex == 'Male') ]\n",
    "print sum( df4.Freq )"
   ]
  },
  {
   "cell_type": "code",
   "execution_count": 211,
   "metadata": {
    "collapsed": false
   },
   "outputs": [
    {
     "name": "stdout",
     "output_type": "stream",
     "text": [
      "Hair   Eye    Sex   \n",
      "Black  Blue   Female     9\n",
      "              Male      11\n",
      "       Brown  Female    36\n",
      "              Male      32\n",
      "       Green  Female     2\n",
      "              Male       3\n",
      "       Hazel  Female     5\n",
      "              Male      10\n",
      "Blond  Blue   Female    64\n",
      "              Male      30\n",
      "       Brown  Female     4\n",
      "              Male       3\n",
      "       Green  Female     8\n",
      "              Male       8\n",
      "       Hazel  Female     5\n",
      "              Male       5\n",
      "Brown  Blue   Female    34\n",
      "              Male      50\n",
      "       Brown  Female    66\n",
      "              Male      53\n",
      "       Green  Female    14\n",
      "              Male      15\n",
      "       Hazel  Female    29\n",
      "              Male      25\n",
      "Red    Blue   Female     7\n",
      "              Male      10\n",
      "       Brown  Female    16\n",
      "              Male      10\n",
      "       Green  Female     7\n",
      "              Male       7\n",
      "       Hazel  Female     7\n",
      "              Male       7\n",
      "dtype: int64\n"
     ]
    }
   ],
   "source": [
    "# Find the Above with a groupby and and a apply afterwards\n",
    "dfGroupBy = df.groupby( ['Hair','Eye','Sex'] ).apply( \n",
    "    lambda group: sum( group['Freq'] ) \n",
    ")\n",
    "\n",
    "print dfGroupBy"
   ]
  },
  {
   "cell_type": "code",
   "execution_count": 212,
   "metadata": {
    "collapsed": false
   },
   "outputs": [
    {
     "name": "stdout",
     "output_type": "stream",
     "text": [
      "0     1\n",
      "1     1\n",
      "2     1\n",
      "3     1\n",
      "4     1\n",
      "5     1\n",
      "6     1\n",
      "7     1\n",
      "8     1\n",
      "9     1\n",
      "10    1\n",
      "11    1\n",
      "12    1\n",
      "13    1\n",
      "14    1\n",
      "15    1\n",
      "16    0\n",
      "17    0\n",
      "18    0\n",
      "19    0\n",
      "20    0\n",
      "21    0\n",
      "22    0\n",
      "23    0\n",
      "24    0\n",
      "25    0\n",
      "26    0\n",
      "27    0\n",
      "28    0\n",
      "29    0\n",
      "Name: Sex, dtype: int64\n"
     ]
    }
   ],
   "source": [
    "# using df, code all males to integer value of 1, and all females to integer value of 0,\n",
    "# replace the Sex Column with new Column\n",
    "\n",
    "def binGender(gender):\n",
    "    if gender == 'Male':\n",
    "        return 1\n",
    "    return 0\n",
    "\n",
    "df['Sex'] = df.Sex.apply(binGender)\n",
    "print df.Sex.head(30)"
   ]
  },
  {
   "cell_type": "code",
   "execution_count": 213,
   "metadata": {
    "collapsed": false
   },
   "outputs": [
    {
     "data": {
      "text/plain": [
       "0      5.405405\n",
       "1      8.952703\n",
       "2      1.689189\n",
       "3      0.506757\n",
       "4      1.858108\n",
       "5      8.445946\n",
       "6      1.689189\n",
       "7      5.067568\n",
       "8      1.689189\n",
       "9      4.222973\n",
       "10     1.182432\n",
       "11     0.844595\n",
       "12     0.506757\n",
       "13     2.533784\n",
       "14     1.182432\n",
       "15     1.351351\n",
       "16     6.081081\n",
       "17    11.148649\n",
       "18     2.702703\n",
       "19     0.675676\n",
       "Name: FreqPercent, dtype: float64"
      ]
     },
     "execution_count": 213,
     "metadata": {},
     "output_type": "execute_result"
    }
   ],
   "source": [
    "# create a new column called FreqPercent which will given the percentage value for each \n",
    "# set of student attributes.\n",
    "\n",
    "freqColumn = df.Freq\n",
    "totalStudents = sum( freqColumn )\n",
    "\n",
    "def getFreqPercent(freq): return ( float(freq)/totalStudents )*100\n",
    "\n",
    "df[\"FreqPercent\"] = freqColumn.apply(getFreqPercent)\n",
    "df.FreqPercent.head(20)"
   ]
  },
  {
   "cell_type": "code",
   "execution_count": 214,
   "metadata": {
    "collapsed": false
   },
   "outputs": [
    {
     "name": "stdout",
     "output_type": "stream",
     "text": [
      "100.0\n"
     ]
    }
   ],
   "source": [
    "# Ensure that the sum of all freq% is 100%\n",
    "\n",
    "print sum( df.FreqPercent )"
   ]
  },
  {
   "cell_type": "code",
   "execution_count": null,
   "metadata": {
    "collapsed": true
   },
   "outputs": [],
   "source": []
  }
 ],
 "metadata": {
  "kernelspec": {
   "display_name": "Python 2",
   "language": "python",
   "name": "python2"
  },
  "language_info": {
   "codemirror_mode": {
    "name": "ipython",
    "version": 2
   },
   "file_extension": ".py",
   "mimetype": "text/x-python",
   "name": "python",
   "nbconvert_exporter": "python",
   "pygments_lexer": "ipython2",
   "version": "2.7.11"
  }
 },
 "nbformat": 4,
 "nbformat_minor": 0
}
