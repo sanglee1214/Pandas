{
 "cells": [
  {
   "cell_type": "markdown",
   "metadata": {},
   "source": [
    "# 5.1: Introduction to python visualization\n",
    "\n",
    "Visualizing your data is **extremely** important to be proficient at as a data scientist. Why?\n",
    "\n",
    "1. You need to be able to explore your data **visually**. This is essential!\n",
    "    \n",
    "    - You need to get an intuition for your data.\n",
    "    - Visualization should **always** be done before you start modeling your data. \n",
    "    - If you model data without visualizing it first, you are asking to run into problems down the line!\n",
    "    \n",
    "    \n",
    "2. You will be always be required to report on your findings working as a data scientist. \n",
    "    \n",
    "    - Technical coworkers such as other data scientists or analysts will want to get an intuition for the data too\n",
    "    - Visualization will make your findings compelling and intuitive to non-technical coworkers.\n",
    "\n",
    "---\n",
    "\n",
    "### Lesson overview\n",
    "\n",
    "We are going to cover the basics of visualizing data in python using some popular python packages. Tableau is also important in this class but this notebook is just for the python plotting.\n",
    "\n",
    "- **matplotlib** is the low-level but powerful standard plotting package for python.\n",
    "- **seaborn** builds on top of matplotlib. It is much easier to use and looks better, but is more restricted in functionality.\n",
    "- **plotly** is a fancy plotting library with very nice visuals but very different syntax than matplotlib.\n",
    "\n",
    "--- \n",
    "\n",
    "We are going to load in the data with **pandas**. Don't worry about the functionality of pandas quite yet – we will be going over this package in much more detail next week.\n",
    "\n",
    "---\n",
    "\n",
    "### Installing plotly\n",
    "\n",
    "#### [If you have installed plotly, skip to the import section!]\n",
    "\n",
    "1. Go to https://plot.ly/\n",
    "2. Make an account and sign in.\n",
    "3. Open a terminal window:\n",
    "    - In the terminal, type:\n",
    "    \n",
    "        ```bash\n",
    "        $ pip install plotly\n",
    "        ```\n",
    "        \n",
    "    - Make sure this is installed. Open ipython in the terminal:\n",
    "    \n",
    "        ```bash\n",
    "        $ ipython\n",
    "        ```\n",
    "        \n",
    "    - In ipython, type:\n",
    "    \n",
    "        ```python\n",
    "        import plotly\n",
    "        ```\n",
    "        \n",
    "    - If that runs without error, plotly is successfully installed.\n",
    "    \n",
    "4. To use plotly, you will need to set your \"credentials\" with your personal API key from the website. This will let you plot, and will also save your plots on the website as well.\n",
    "    - Go to: https://plot.ly/settings/api\n",
    "    - Copy the code in the \"API KEY\" section.\n",
    "    - In your ipython notebook, you will insert the following code to set your plotly api key:\n",
    "    \n",
    "        ```python\n",
    "        import plotly.tools as tls\n",
    "        tls.set_credentials_file(username='YOUR_USERNAME', api_key='YOUR_API_KEY')\n",
    "        ```\n",
    "        \n",
    "The cell below has the code for how I set my api key."
   ]
  },
  {
   "cell_type": "code",
   "execution_count": 4,
   "metadata": {
    "collapsed": false
   },
   "outputs": [
    {
     "ename": "ImportError",
     "evalue": "No module named plotly.tools",
     "output_type": "error",
     "traceback": [
      "\u001b[0;31m---------------------------------------------------------------------------\u001b[0m",
      "\u001b[0;31mImportError\u001b[0m                               Traceback (most recent call last)",
      "\u001b[0;32m<ipython-input-4-fa2cee949e27>\u001b[0m in \u001b[0;36m<module>\u001b[0;34m()\u001b[0m\n\u001b[0;32m----> 1\u001b[0;31m \u001b[0;32mimport\u001b[0m \u001b[0mplotly\u001b[0m\u001b[0;34m.\u001b[0m\u001b[0mtools\u001b[0m \u001b[0;32mas\u001b[0m \u001b[0mtls\u001b[0m\u001b[0;34m\u001b[0m\u001b[0m\n\u001b[0m\u001b[1;32m      2\u001b[0m \u001b[0mtls\u001b[0m\u001b[0;34m.\u001b[0m\u001b[0mset_credentials_file\u001b[0m\u001b[0;34m(\u001b[0m\u001b[0musername\u001b[0m\u001b[0;34m=\u001b[0m\u001b[0;34m'kiefer.katovich'\u001b[0m\u001b[0;34m,\u001b[0m \u001b[0mapi_key\u001b[0m\u001b[0;34m=\u001b[0m\u001b[0;34m'3i7uomp004'\u001b[0m\u001b[0;34m)\u001b[0m\u001b[0;34m\u001b[0m\u001b[0m\n",
      "\u001b[0;31mImportError\u001b[0m: No module named plotly.tools"
     ]
    }
   ],
   "source": [
    "import plotly.tools as tls\n",
    "tls.set_credentials_file(username='kiefer.katovich', api_key='3i7uomp004')"
   ]
  },
  {
   "cell_type": "markdown",
   "metadata": {},
   "source": [
    "---\n",
    "\n",
    "### Import the required packages\n",
    "\n",
    "Don't forget to run the cell below!"
   ]
  },
  {
   "cell_type": "code",
   "execution_count": 8,
   "metadata": {
    "collapsed": false
   },
   "outputs": [],
   "source": [
    "# Numeric and statistics packages:\n",
    "import numpy as np\n",
    "import scipy.stats as stats\n",
    "\n",
    "# Pandas handles dataset loading and manipulation:\n",
    "import pandas as pd\n",
    "\n",
    "# import the plotting functions:\n",
    "import matplotlib.pyplot as plt\n",
    "import seaborn as sns\n",
    "#import plotly\n",
    "#import plotly.plotly as py\n",
    "#import plotly.graph_objs as go\n",
    "\n",
    "# Initialize plotly notebook mode:\n",
    "#plotly.offline.init_notebook_mode()\n",
    "\n",
    "# Setup matplotlib to display in notebook:\n",
    "%matplotlib inline"
   ]
  },
  {
   "cell_type": "markdown",
   "metadata": {},
   "source": [
    "### Load and show the data\n",
    "\n",
    "This data is salary for professors across sexes.\n",
    "\n",
    "[If you get a warning, ignore it!]"
   ]
  },
  {
   "cell_type": "code",
   "execution_count": 10,
   "metadata": {
    "collapsed": false
   },
   "outputs": [],
   "source": [
    "salary = pd.read_csv('/Users/SangYeob/Documents/Pandas/Week 1/Day 4/5.1-lesson/assets/datasets/salary.csv')\n",
    "salary.columns = ['gender', 'professor_rank', 'years_in_job', 'degree_level', 'years_since_degree', 'yearly_salary']"
   ]
  },
  {
   "cell_type": "code",
   "execution_count": 11,
   "metadata": {
    "collapsed": false
   },
   "outputs": [
    {
     "data": {
      "text/html": [
       "<div>\n",
       "<table border=\"1\" class=\"dataframe\">\n",
       "  <thead>\n",
       "    <tr style=\"text-align: right;\">\n",
       "      <th></th>\n",
       "      <th>years_in_job</th>\n",
       "      <th>years_since_degree</th>\n",
       "      <th>yearly_salary</th>\n",
       "    </tr>\n",
       "  </thead>\n",
       "  <tbody>\n",
       "    <tr>\n",
       "      <th>count</th>\n",
       "      <td>52.000000</td>\n",
       "      <td>52.000000</td>\n",
       "      <td>52.000000</td>\n",
       "    </tr>\n",
       "    <tr>\n",
       "      <th>mean</th>\n",
       "      <td>7.480769</td>\n",
       "      <td>16.115385</td>\n",
       "      <td>23797.653846</td>\n",
       "    </tr>\n",
       "    <tr>\n",
       "      <th>std</th>\n",
       "      <td>5.507536</td>\n",
       "      <td>10.222340</td>\n",
       "      <td>5917.289154</td>\n",
       "    </tr>\n",
       "    <tr>\n",
       "      <th>min</th>\n",
       "      <td>0.000000</td>\n",
       "      <td>1.000000</td>\n",
       "      <td>15000.000000</td>\n",
       "    </tr>\n",
       "    <tr>\n",
       "      <th>25%</th>\n",
       "      <td>3.000000</td>\n",
       "      <td>6.750000</td>\n",
       "      <td>18246.750000</td>\n",
       "    </tr>\n",
       "    <tr>\n",
       "      <th>50%</th>\n",
       "      <td>7.000000</td>\n",
       "      <td>15.500000</td>\n",
       "      <td>23719.000000</td>\n",
       "    </tr>\n",
       "    <tr>\n",
       "      <th>75%</th>\n",
       "      <td>11.000000</td>\n",
       "      <td>23.250000</td>\n",
       "      <td>27258.500000</td>\n",
       "    </tr>\n",
       "    <tr>\n",
       "      <th>max</th>\n",
       "      <td>25.000000</td>\n",
       "      <td>35.000000</td>\n",
       "      <td>38045.000000</td>\n",
       "    </tr>\n",
       "  </tbody>\n",
       "</table>\n",
       "</div>"
      ],
      "text/plain": [
       "       years_in_job  years_since_degree  yearly_salary\n",
       "count     52.000000           52.000000      52.000000\n",
       "mean       7.480769           16.115385   23797.653846\n",
       "std        5.507536           10.222340    5917.289154\n",
       "min        0.000000            1.000000   15000.000000\n",
       "25%        3.000000            6.750000   18246.750000\n",
       "50%        7.000000           15.500000   23719.000000\n",
       "75%       11.000000           23.250000   27258.500000\n",
       "max       25.000000           35.000000   38045.000000"
      ]
     },
     "execution_count": 11,
     "metadata": {},
     "output_type": "execute_result"
    }
   ],
   "source": [
    "salary.head()\n",
    "salary.describe()"
   ]
  },
  {
   "cell_type": "markdown",
   "metadata": {},
   "source": [
    "### Using matplotlib\n",
    "\n",
    "We'll start out with matplotlib and go through a particular chart step by step, fine tuning it.\n",
    "\n",
    "Matplotlib is by far the most complicated and hardest to understand of the three. If you feel confused that's fine – I feel confused most of the time I use matplotlib too. Remember: Google is your friend.\n",
    "\n",
    "---\n",
    "\n",
    "**M.1** Let's plot out the years in job vs. the yearly salary as a scatter plot:"
   ]
  },
  {
   "cell_type": "code",
   "execution_count": 19,
   "metadata": {
    "collapsed": false
   },
   "outputs": [
    {
     "name": "stdout",
     "output_type": "stream",
     "text": [
      "[25 13 10  7 19 16  0 16 13 13 12 15  9  9  9  7 13 11 10  6 16  8  7  8  9\n",
      "  5 11  5  3  3 10 11  9  4  6  1  8  4  4  4  3  3  0  3  2  2  2  2  1  1\n",
      "  1  0]\n"
     ]
    },
    {
     "data": {
      "text/plain": [
       "(array([ 11.,   9.,   7.,   8.,   7.,   4.,   4.,   1.,   0.,   1.]),\n",
       " array([  0. ,   2.5,   5. ,   7.5,  10. ,  12.5,  15. ,  17.5,  20. ,\n",
       "         22.5,  25. ]),\n",
       " <a list of 10 Patch objects>)"
      ]
     },
     "execution_count": 19,
     "metadata": {},
     "output_type": "execute_result"
    },
    {
     "data": {
      "image/png": "[encoded data removed]",
      "text/plain": [
       "<matplotlib.figure.Figure at 0x11a49c190>"
      ]
     },
     "metadata": {},
     "output_type": "display_data"
    }
   ],
   "source": [
    "years_in_job = salary.years_in_job.values\n",
    "print years_in_job\n",
    "yearly_salary = salary.yearly_salary.values\n",
    "plt.hist(years_in_job, bins = 10)\n"
   ]
  },
  {
   "cell_type": "code",
   "execution_count": 25,
   "metadata": {
    "collapsed": false
   },
   "outputs": [
    {
     "data": {
      "text/plain": [
       "<matplotlib.collections.PathCollection at 0x11b8773d0>"
      ]
     },
     "execution_count": 25,
     "metadata": {},
     "output_type": "execute_result"
    },
    {
     "data": {
      "image/png": "[encoded data removed]",
      "text/plain": [
       "<matplotlib.figure.Figure at 0x11a3b9b90>"
      ]
     },
     "metadata": {},
     "output_type": "display_data"
    }
   ],
   "source": [
    "plt.scatter(years_in_job,yearly_salary, c='darkred')"
   ]
  },
  {
   "cell_type": "markdown",
   "metadata": {},
   "source": [
    "---\n",
    "\n",
    "**M.2** The figure is a little small. Let's make it bigger:"
   ]
  },
  {
   "cell_type": "code",
   "execution_count": 32,
   "metadata": {
    "collapsed": false
   },
   "outputs": [
    {
     "data": {
      "text/plain": [
       "<matplotlib.collections.PathCollection at 0x11a571690>"
      ]
     },
     "execution_count": 32,
     "metadata": {},
     "output_type": "execute_result"
    },
    {
     "data": {
      "image/png": "[encoded data removed]",
      "text/plain": [
       "<matplotlib.figure.Figure at 0x11bc72050>"
      ]
     },
     "metadata": {},
     "output_type": "display_data"
    }
   ],
   "source": [
    "plt.figure(figsize=(12,8))\n",
    "plt.scatter(years_in_job,yearly_salary, c='darkred')"
   ]
  },
  {
   "cell_type": "markdown",
   "metadata": {},
   "source": [
    "---\n",
    "\n",
    "**M.3** It would be nice to have some labels for the figure. Add a title and axis labels:"
   ]
  },
  {
   "cell_type": "code",
   "execution_count": 30,
   "metadata": {
    "collapsed": false
   },
   "outputs": [
    {
     "data": {
      "text/plain": [
       "<matplotlib.text.Text at 0x11a5c3e90>"
      ]
     },
     "execution_count": 30,
     "metadata": {},
     "output_type": "execute_result"
    },
    {
     "data": {
      "image/png": "[encoded data removed]",
      "text/plain": [
       "<matplotlib.figure.Figure at 0x11be07b50>"
      ]
     },
     "metadata": {},
     "output_type": "display_data"
    }
   ],
   "source": [
    "fig = plt.figure(figsize=(12,8))\n",
    "axes = fig.gca()\n",
    "axes.scatter(years_in_job,yearly_salary, c= 'darkred')\n",
    "axes.set_title('years in job vs. yearly salary\\n',fontsize = 20)\n",
    "axes.set_xlabel('years in job', fontsize = 16)\n",
    "axes.set_ylabel('yearly salary', fontsize = 16)"
   ]
  },
  {
   "cell_type": "markdown",
   "metadata": {},
   "source": [
    "---\n",
    "\n",
    "**M.4** Make the points a bit bigger and also change the style to be like nate silver's fivethirtyeight blog!"
   ]
  },
  {
   "cell_type": "code",
   "execution_count": null,
   "metadata": {
    "collapsed": false
   },
   "outputs": [],
   "source": []
  },
  {
   "cell_type": "markdown",
   "metadata": {},
   "source": [
    "---\n",
    "\n",
    "**M.5** We can look at a 3rd and 4th dimension represented by color and shape of the points. We should add a legend too!\n",
    "\n",
    "Pull out gender and professor rank from the data."
   ]
  },
  {
   "cell_type": "code",
   "execution_count": null,
   "metadata": {
    "collapsed": false
   },
   "outputs": [],
   "source": []
  },
  {
   "cell_type": "code",
   "execution_count": null,
   "metadata": {
    "collapsed": false
   },
   "outputs": [],
   "source": []
  },
  {
   "cell_type": "code",
   "execution_count": null,
   "metadata": {
    "collapsed": false
   },
   "outputs": [],
   "source": [
    "colors = ['darkred' if g == 'female' else 'steelblue' for g in gender]\n",
    "\n",
    "# + == +, s == square, ^ == upwards triangle\n",
    "point_shapes = ['+' if r == 'full' else 's' if r == 'associate' else '2' for r in rank]\n",
    "\n",
    "plt.style.use('fivethirtyeight')\n",
    "fig = plt.figure(figsize=(12,8))\n",
    "axes = fig.gca()\n",
    "\n",
    "for g in gender:\n",
    "    \n",
    "    if g == 'female':\n",
    "        color = 'darkred'\n",
    "    elif g == 'male':\n",
    "        color = 'steelblue'\n",
    "        \n",
    "    for r in rank:\n",
    "        \n",
    "        if r == 'full':\n",
    "            point_marker = '+'\n",
    "        elif r == 'associate':\n",
    "            point_marker = 's'\n",
    "        elif r == 'assistant':\n",
    "            point_marker = '^'\n",
    "            \n",
    "        current_years = [y for y, g_, r_ in zip(years_in_job, gender, rank) if g_ == g and r_ == r]\n",
    "        current_salaries = [s for s, g_, r_ in zip(yearly_salary, gender, rank) if g_ == g and r_ == r]\n",
    "\n",
    "        axes.scatter(current_years, current_salaries, c=color, marker=point_marker, s=150,\n",
    "                     label=' '.join([r, g]))\n",
    "\n",
    "axes.set_title('years in job vs. yearly salary\\n', fontsize=20)\n",
    "axes.set_xlabel('years in job', fontsize=16)\n",
    "axes.set_ylabel('yearly salary', fontsize=16)\n",
    "\n",
    "handles, labels = plt.gca().get_legend_handles_labels()\n",
    "by_label = {l:h for l, h in zip(labels, handles)}\n",
    "plt.legend(by_label.values(), by_label.keys(), loc = 'center right')"
   ]
  },
  {
   "cell_type": "markdown",
   "metadata": {},
   "source": [
    "### Using seaborn\n",
    "\n",
    "As you can see, matplotlib can start sucking to use pretty quickly. It's powerful, but _very_ obtuse.\n",
    "\n",
    "Luckily, seaborn lets you plot a lot of common types of visualizations with really minimal overhead. The official website essentially has all the information and examples you need:\n",
    "\n",
    "- The website: https://stanford.edu/~mwaskom/software/seaborn/\n",
    "- Check out the gallery of examples: https://stanford.edu/~mwaskom/software/seaborn/examples/index.html\n",
    "- The API documentation has full info: https://stanford.edu/~mwaskom/software/seaborn/api.html"
   ]
  },
  {
   "cell_type": "code",
   "execution_count": 35,
   "metadata": {
    "collapsed": false
   },
   "outputs": [
    {
     "data": {
      "text/plain": [
       "<matplotlib.axes._subplots.AxesSubplot at 0x11a1a0410>"
      ]
     },
     "execution_count": 35,
     "metadata": {},
     "output_type": "execute_result"
    },
    {
     "data": {
      "image/png": "[encoded data removed]",
      "text/plain": [
       "<matplotlib.figure.Figure at 0x11a17df10>"
      ]
     },
     "metadata": {},
     "output_type": "display_data"
    }
   ],
   "source": [
    "#sns.set_style(\"whitegrid\")\n",
    "sns.kdeplot(np.array(years_in_job))"
   ]
  },
  {
   "cell_type": "markdown",
   "metadata": {},
   "source": [
    "---\n",
    "\n",
    "**S.1** We've seen scatter plots with matplotlib so far. What if we are interested in distributions? Let's plot the _joint distribution_ of years_in_job and yearly_salary with seaborn."
   ]
  },
  {
   "cell_type": "code",
   "execution_count": null,
   "metadata": {
    "collapsed": false
   },
   "outputs": [],
   "source": []
  },
  {
   "cell_type": "markdown",
   "metadata": {},
   "source": [
    "Pretty nice!\n",
    "\n",
    "---\n",
    "\n",
    "**S.2** We can use the ```kind``` keyword argument to modify the plot, like adding a regression line. \n",
    "\n",
    "[NOTE: The annotation is small. Can we fix this? Yes, but it's not straightforward because matplotlib kiiiinda sucks. Check out the creator's answer: https://github.com/mwaskom/seaborn/issues/364]"
   ]
  },
  {
   "cell_type": "code",
   "execution_count": null,
   "metadata": {
    "collapsed": false
   },
   "outputs": [],
   "source": []
  },
  {
   "cell_type": "markdown",
   "metadata": {},
   "source": [
    "There's something in seaborn called a \"pairplot\" that is a really nice way of visualizing the last plot we did in matplotlib in a different way.\n",
    "\n",
    "---\n",
    "\n",
    "#### \"long\" vs. \"wide\" format aside\n",
    "\n",
    "We've been using data so far in something called **wide format**. There is another popular way of organizing data called **\"long format**. What is long format?\n",
    "\n",
    "Right now your columns of interest look like this:\n",
    "\n",
    "    gender, rank, years, salary\n",
    "    female, full, 12, 30000\n",
    "    male, full, 18, 50000\n",
    "    ...\n",
    "    \n",
    "But in long format, we only have **one column of numeric values!** It is going to look like this:\n",
    "\n",
    "    gender, rank, variable, value\n",
    "    female, full, years, 12\n",
    "    female, full, salary, 30000\n",
    "    male, full, years, 18\n",
    "    male, full, salary, 50000\n",
    "    ...\n",
    "    \n",
    "The original format is called **wide** format. There are, as with everything, pros and cons to each.\n",
    "\n",
    "Pandas has a nice convenience function for this called melt which can convert wide to long:"
   ]
  },
  {
   "cell_type": "code",
   "execution_count": null,
   "metadata": {
    "collapsed": false
   },
   "outputs": [],
   "source": [
    "subset = salary[['gender','professor_rank','years_in_job','yearly_salary']]\n",
    "\n",
    "subset_long = pd.melt(subset,\n",
    "                      id_vars=['gender','professor_rank'],\n",
    "                      value_vars=['years_in_job','yearly_salary'],\n",
    "                      var_name='variable',\n",
    "                      value_name='value')\n"
   ]
  },
  {
   "cell_type": "code",
   "execution_count": null,
   "metadata": {
    "collapsed": false
   },
   "outputs": [],
   "source": [
    "subset_long.head()"
   ]
  },
  {
   "cell_type": "markdown",
   "metadata": {},
   "source": [
    "Voila!\n",
    "\n",
    "---\n",
    "\n",
    "**S.3** Use the pairplot function to visualize the variables in a different way."
   ]
  },
  {
   "cell_type": "code",
   "execution_count": null,
   "metadata": {
    "collapsed": false
   },
   "outputs": [],
   "source": []
  },
  {
   "cell_type": "markdown",
   "metadata": {},
   "source": [
    "### plotly\n",
    "\n",
    "The last one we are going to cover is plotly. We're only going to make one chart with it, which is the final chart we made with matplotlib.\n",
    "\n",
    "Plotly has a significantly different syntax than matplotlib (and seaborn by extension). It is more verbose, more understandable, and more explicit. They are also somewhat interactive as well.\n",
    "\n",
    "If you are a beginner to all three, I would recommend using seaborn and plotly, and avoiding matplotlib since it is complicated and confusing.\n",
    "\n",
    "---\n",
    "\n",
    "**P.1** Create the 5-D chart we made in matplotlib, comparing years in job on the x-axis, yearly salary on the y-axis, colors indicating gender, and markers indicating the rank of the position. "
   ]
  },
  {
   "cell_type": "code",
   "execution_count": null,
   "metadata": {
    "collapsed": false
   },
   "outputs": [],
   "source": [
    "import plotly.plotly as py\n",
    "import plotly.graph_objs as go\n",
    "\n",
    "male_full = go.Scatter(\n",
    "    x = years_in_job[(gender == 'male') & (rank == 'full')],\n",
    "    y = yearly_salary[(gender == 'male') & (rank == 'full')],\n",
    "    mode='markers',\n",
    "    marker={'size':11,\n",
    "            'line':{'width':0},\n",
    "            'color':'steelblue',\n",
    "            'symbol':\"x\",\n",
    "            'opacity':0.65},\n",
    "    name='Full Male'\n",
    ")\n",
    "\n",
    "male_associate = go.Scatter(\n",
    "    x = years_in_job[(gender == 'male') & (rank == 'associate')],\n",
    "    y = yearly_salary[(gender == 'male') & (rank == 'associate')],\n",
    "    mode='markers',\n",
    "    marker={'size':11,\n",
    "            'line':{'width':0},\n",
    "            'color':'steelblue',\n",
    "            'symbol':\"square\",\n",
    "            'opacity':0.65},\n",
    "    name='Associate Male'\n",
    ")\n",
    "\n",
    "male_assistant = go.Scatter(\n",
    "    x = years_in_job[(gender == 'male') & (rank == 'assistant')],\n",
    "    y = yearly_salary[(gender == 'male') & (rank == 'assistant')],\n",
    "    mode='markers',\n",
    "    marker={'size':11,\n",
    "            'line':{'width':0},\n",
    "            'color':'steelblue',\n",
    "            'symbol':\"triangle-up\",\n",
    "            'opacity':0.65},\n",
    "    name='Assistant Male'\n",
    ")\n",
    "\n",
    "female_full = go.Scatter(\n",
    "    x = years_in_job[(gender == 'female') & (rank == 'full')],\n",
    "    y = yearly_salary[(gender == 'female') & (rank == 'full')],\n",
    "    mode='markers',\n",
    "    marker={'size':11,\n",
    "            'line':{'width':0},\n",
    "            'color':'darkred',\n",
    "            'symbol':\"x\",\n",
    "            'opacity':0.65},\n",
    "    name='Full Female'\n",
    ")\n",
    "\n",
    "female_associate = go.Scatter(\n",
    "    x = years_in_job[(gender == 'female') & (rank == 'associate')],\n",
    "    y = yearly_salary[(gender == 'female') & (rank == 'associate')],\n",
    "    mode='markers',\n",
    "    marker={'size':11,\n",
    "            'line':{'width':0},\n",
    "            'color':'darkred',\n",
    "            'symbol':\"square\",\n",
    "            'opacity':0.65},\n",
    "    name='Associate Female'\n",
    ")\n",
    "\n",
    "female_assistant = go.Scatter(\n",
    "    x = years_in_job[(gender == 'female') & (rank == 'assistant')],\n",
    "    y = yearly_salary[(gender == 'female') & (rank == 'assistant')],\n",
    "    mode='markers',\n",
    "    marker={'size':11,\n",
    "            'line':{'width':0},\n",
    "            'color':'darkred',\n",
    "            'symbol':\"triangle-up\",\n",
    "            'opacity':0.65},\n",
    "    name='Assistant Female'\n",
    ")\n",
    "\n",
    "data = [male_full, male_associate, male_assistant,\n",
    "        female_full, female_associate, female_assistant]\n",
    "\n",
    "layout = go.Layout(\n",
    "    title='Years in Job vs. Yearly Salary',\n",
    "    hovermode='closest',\n",
    "    xaxis={\n",
    "        'title':'Years in Job',\n",
    "        'ticklen':5,\n",
    "        'gridwidth':2,\n",
    "    },\n",
    "    yaxis={\n",
    "        'title':'Yearly Salary',\n",
    "        'ticklen':5,\n",
    "        'gridwidth':2,\n",
    "    },\n",
    "    height=600,\n",
    ")\n",
    "fig = go.Figure(data=data, layout=layout)\n",
    "py.iplot(fig, filename='Years in Job vs. Yearly Salary')"
   ]
  }
 ],
 "metadata": {
  "kernelspec": {
   "display_name": "Python 2",
   "language": "python",
   "name": "python2"
  },
  "language_info": {
   "codemirror_mode": {
    "name": "ipython",
    "version": 2
   },
   "file_extension": ".py",
   "mimetype": "text/x-python",
   "name": "python",
   "nbconvert_exporter": "python",
   "pygments_lexer": "ipython2",
   "version": "2.7.11"
  }
 },
 "nbformat": 4,
 "nbformat_minor": 0
}
