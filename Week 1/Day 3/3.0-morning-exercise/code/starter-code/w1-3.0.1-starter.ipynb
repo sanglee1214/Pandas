{
 "cells": [
  {
   "cell_type": "code",
   "execution_count": 2,
   "metadata": {
    "collapsed": false
   },
   "outputs": [],
   "source": [
    "# create a function, where given an input of a list, the function will return the sample standard deviation\n"
   ]
  },
  {
   "cell_type": "code",
   "execution_count": 3,
   "metadata": {
    "collapsed": true
   },
   "outputs": [],
   "source": [
    "import math # use the math package for absolute value, exp, sqrt, or other special math operations\n",
    "import numpy as np # use nump for random number generation"
   ]
  },
  {
   "cell_type": "code",
   "execution_count": 4,
   "metadata": {
    "collapsed": false
   },
   "outputs": [],
   "source": [
    "# create a function called getMean(bucket), the parameter it will take will be called bucket\n",
    "# and it will be a list of integers (assume user knows how parameters must be of type List[Int])\n",
    "def getMean(bucket):\n",
    "    bucketSum = 0\n",
    "    bucketAvg = 0\n",
    "    for i in bucket:\n",
    "        bucketSum += i\n",
    "        bucketAvg = bucketSum/float(len(bucketSum))\n",
    "    return bucketAvg"
   ]
  },
  {
   "cell_type": "code",
   "execution_count": 5,
   "metadata": {
    "collapsed": true
   },
   "outputs": [],
   "source": [
    "# below is a function that return the sample standard deviation of a list, given the list of nums\n",
    "# called bucket, and the mean of that numbers in that bucket\n",
    "\n",
    "def getStandardDevWithForLoop(bucket,mean): \n",
    "    dfSum = 0\n",
    "    for num in bucket:\n",
    "        dfSum += (num - mean)**2\n",
    "    sampleVar = float(dfSum)/(len(bucket) - 1)\n",
    "    return math.sqrt(sampleVar) # avoid integer division by casting dfSum as a float"
   ]
  },
  {
   "cell_type": "code",
   "execution_count": 6,
   "metadata": {
    "collapsed": true
   },
   "outputs": [],
   "source": [
    "# recreate getStandardDevWithForLoop, but use map instead of a for loop\n",
    "\n",
    "def getStandardDeviationWithMap(bucket,mean): \n",
    "    df = map(lambda x: (x-mean)**2, bucket)\n",
    "    dfSum = sum(df)\n",
    "    sampleVar = float(dfSum)/(len(bucket) - 1)\n",
    "    return math.sqrt(sampleVar)"
   ]
  },
  {
   "cell_type": "code",
   "execution_count": 7,
   "metadata": {
    "collapsed": false
   },
   "outputs": [],
   "source": [
    "#finish the assignment values in getSummaryStatistics, note  the order of operations.\n",
    "# 1. Get Mean of Bucket (use predfined functions above!)\n",
    "# 2. Get Standard Deviation (using either getStandardDeviationWithMap or getStandardDeviationWithForLoop)\n",
    "# note both functions require parameters! \n",
    "# 3. get the max number in the bucket\n",
    "# 4. get the min number in the bucket\n",
    "# 5. Get the Range\n",
    "# 6. Input values in dictionary\n",
    "\n",
    "def getSummaryStatistics(bucket):\n",
    "    \n",
    "    mean = np.mean(bucket)\n",
    "    #stdev = np.std(bucket)\n",
    "    stdev = getStandardDeviationWithMap(bucket,mean)\n",
    "    maxNum = max(bucket)\n",
    "    minNum = min(bucket)\n",
    "    \n",
    "    rangeList = np.ptp(bucket)\n",
    "    \n",
    "    statsDictionary = { \"mean\" : mean , \n",
    "                        \"stdev\": stdev, \n",
    "                        \"maxNum\": maxNum, \n",
    "                        \"minNum\": minNum, \n",
    "                        \"range\" :  rangeList\n",
    "                      }\n",
    "    return statsDictionary"
   ]
  },
  {
   "cell_type": "code",
   "execution_count": 8,
   "metadata": {
    "collapsed": false
   },
   "outputs": [
    {
     "name": "stdout",
     "output_type": "stream",
     "text": [
      "[0, 1, 2, 3, 4, 5, 6, 7, 8, 9]\n",
      "{'minNum': 0, 'stdev': 3.0276503540974917, 'maxNum': 9, 'range': 9, 'mean': 4.5}\n"
     ]
    }
   ],
   "source": [
    "list1 = range(0,10,1)\n",
    "print list1\n",
    "summaryStatistics = getSummaryStatistics(list1)\n",
    "print summaryStatistics\n",
    "# If this returns {'minNum': 0, 'stdev': 9.166666666666666, 'maxNum': 9, 'range': 9, 'mean': 4.5}\n",
    "# you are in good shape! "
   ]
  },
  {
   "cell_type": "code",
   "execution_count": 9,
   "metadata": {
    "collapsed": false
   },
   "outputs": [],
   "source": [
    "# The function below will create a list of lists, where each list number are randomly generated\n",
    "# minNumInList = minimum number to be generated in each list\n",
    "# maxNumInList = maximum number to be generated in each list\n",
    "# lenEachList = length of each list (all lists will have uniform length)\n",
    "# numOfLists = number of lists to generate\n",
    "# Note I am using np class (numpy) to to random random generation, see other methods for numpy\n",
    "\n",
    "def getRandomData(minNumInList,maxNumInList,lenEachList, numOfLists):\n",
    "    randomSets = []\n",
    "    for run in range(0, numOfLists): # do something 5 times\n",
    "        randNums = np.random.randint(minNumInList,maxNumInList,lenEachList)\n",
    "        randomSets.append(randNums)\n",
    "    return randomSets"
   ]
  },
  {
   "cell_type": "code",
   "execution_count": 10,
   "metadata": {
    "collapsed": true
   },
   "outputs": [],
   "source": [
    "# get the batch mean using functional programming\n",
    "# get your random data by calling the getRandomData Function, input parameters to this function\n",
    "# use the map method on the list of lists, to get the average of each list, hint: you should have\n",
    "# getMean defined for you by this point to use in the map\n",
    "randomData = getRandomData(2,100,20,3)\n",
    "def getBatchMeanByForLoop(batch):\n",
    "    #randomData = map(getRandomData(),batch)\n",
    "    #randomDataAvgs = map(getMean(),randomData)\n",
    "    #batchMean = map(getMean(),randomDataAvgs)\n",
    "    #randomData = getRandomData(2,100,20,3)\n",
    "    randomDataAvgs = []\n",
    "    for data in randomData:\n",
    "        randomDataAvgs.append(np.mean(data))\n",
    "    batchMean = np.mean(randomDataAvgs)\n",
    "    return batchMean"
   ]
  },
  {
   "cell_type": "code",
   "execution_count": 11,
   "metadata": {
    "collapsed": true
   },
   "outputs": [],
   "source": [
    "# get the batch mean using looping\n",
    "# get your random data by calling the getRandomData Function, input parameters to this function\n",
    "# get your random data by calling the getRandomData Function, input parameters to this function\n",
    "# use a for loop on the list of lists, to get the average of each list, hint: you should have\n",
    "# getMean defined for you by this point to use in the forloop\n",
    "\n",
    "def getBatchMeanByMap(batch):\n",
    "    #randomData = getRandomData(2,100,20,3)\n",
    "    #randomDataAvgs = []\n",
    "    randomDataAvgs = map(np.mean, randomData)\n",
    "    batchMean = np.mean(randomDataAvgs)\n",
    "    return batchMean\n"
   ]
  },
  {
   "cell_type": "code",
   "execution_count": 12,
   "metadata": {
    "collapsed": false
   },
   "outputs": [
    {
     "name": "stdout",
     "output_type": "stream",
     "text": [
      "52.2833333333\n",
      "52.2833333333\n"
     ]
    }
   ],
   "source": [
    "\n",
    "print getBatchMeanByForLoop(randomData)\n",
    "print getBatchMeanByMap(randomData)"
   ]
  },
  {
   "cell_type": "code",
   "execution_count": null,
   "metadata": {
    "collapsed": true
   },
   "outputs": [],
   "source": []
  }
 ],
 "metadata": {
  "kernelspec": {
   "display_name": "Python 2",
   "language": "python",
   "name": "python2"
  },
  "language_info": {
   "codemirror_mode": {
    "name": "ipython",
    "version": 2
   },
   "file_extension": ".py",
   "mimetype": "text/x-python",
   "name": "python",
   "nbconvert_exporter": "python",
   "pygments_lexer": "ipython2",
   "version": "2.7.11"
  }
 },
 "nbformat": 4,
 "nbformat_minor": 0
}
