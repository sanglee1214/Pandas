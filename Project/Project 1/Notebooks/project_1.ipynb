{
 "cells": [
  {
   "cell_type": "markdown",
   "metadata": {},
   "source": [
    "# Project 1\n",
    "\n",
    "## Step 1: Open the `sat_scores.csv` file. Investigate the data, and answer the questions below.\n"
   ]
  },
  {
   "cell_type": "markdown",
   "metadata": {},
   "source": [
    "##### 1. What does the data describe?"
   ]
  },
  {
   "cell_type": "markdown",
   "metadata": {},
   "source": [
    "The data describes SAT verbal, SAT math, and participation rate for each states in United States."
   ]
  },
  {
   "cell_type": "markdown",
   "metadata": {},
   "source": [
    "##### 2. Does the data look complete? Are there any obvious issues with the observations?"
   ]
  },
  {
   "cell_type": "markdown",
   "metadata": {},
   "source": [
    "The data looks complete. The data has all states with participation rate, verbal, and math score."
   ]
  },
  {
   "cell_type": "markdown",
   "metadata": {},
   "source": [
    "##### 3. Create a data dictionary for the dataset."
   ]
  },
  {
   "cell_type": "markdown",
   "metadata": {
    "collapsed": true
   },
   "source": [
    "The keys would be state, rate, verbal, and math. The values are what's associated in each columns. "
   ]
  },
  {
   "cell_type": "markdown",
   "metadata": {},
   "source": [
    "## Step 2: Load the data."
   ]
  },
  {
   "cell_type": "markdown",
   "metadata": {},
   "source": [
    "##### 4. Load the data into a list of lists"
   ]
  },
  {
   "cell_type": "code",
<<<<<<< Updated upstream
   "execution_count": 3,
=======
   "execution_count": 5,
>>>>>>> Stashed changes
   "metadata": {
    "collapsed": false
   },
   "outputs": [
    {
     "name": "stdout",
     "output_type": "stream",
     "text": [
      "/Users/SangYeob/Documents/Pandas/Project/Project 1/Notebooks\r\n"
     ]
    },
    {
     "ename": "IOError",
     "evalue": "[Errno 2] No such file or directory: '../../../../../assets/sat_scores.csv'",
     "output_type": "error",
     "traceback": [
      "\u001b[0;31m---------------------------------------------------------------------------\u001b[0m",
      "\u001b[0;31mIOError\u001b[0m                                   Traceback (most recent call last)",
      "\u001b[0;32m<ipython-input-5-2a810afcb1fe>\u001b[0m in \u001b[0;36m<module>\u001b[0;34m()\u001b[0m\n\u001b[1;32m      2\u001b[0m \u001b[0mget_ipython\u001b[0m\u001b[0;34m(\u001b[0m\u001b[0;34m)\u001b[0m\u001b[0;34m.\u001b[0m\u001b[0msystem\u001b[0m\u001b[0;34m(\u001b[0m\u001b[0;34mu'pwd'\u001b[0m\u001b[0;34m)\u001b[0m\u001b[0;34m\u001b[0m\u001b[0m\n\u001b[1;32m      3\u001b[0m \u001b[0;31m#open the csv file in the local folder and assign it to a variable\u001b[0m\u001b[0;34m\u001b[0m\u001b[0;34m\u001b[0m\u001b[0m\n\u001b[0;32m----> 4\u001b[0;31m \u001b[0mf\u001b[0m \u001b[0;34m=\u001b[0m \u001b[0mopen\u001b[0m\u001b[0;34m(\u001b[0m\u001b[0;34m'../../../../../assets/sat_scores.csv'\u001b[0m\u001b[0;34m)\u001b[0m\u001b[0;34m\u001b[0m\u001b[0m\n\u001b[0m\u001b[1;32m      5\u001b[0m \u001b[0mcsv_f\u001b[0m \u001b[0;34m=\u001b[0m \u001b[0mcsv\u001b[0m\u001b[0;34m.\u001b[0m\u001b[0mreader\u001b[0m\u001b[0;34m(\u001b[0m\u001b[0mf\u001b[0m\u001b[0;34m)\u001b[0m\u001b[0;34m\u001b[0m\u001b[0m\n",
      "\u001b[0;31mIOError\u001b[0m: [Errno 2] No such file or directory: '../../../../../assets/sat_scores.csv'"
     ]
    }
   ],
   "source": [
    "import csv\n",
    "!pwd\n",
    "#open the csv file in the local folder and assign it to a variable\n",
    "#f = open('/Users/SangYeob/Documents/Pandas/Project/Project 1/assets/sat_scores.csv')\n",
    "f = open('/Users/jb3/DSI-ATL-1/curriculum/02-projects/01-projects-weekly/project-01/assets/sat_scores.csv')\n",
    "csv_f = csv.reader(f)\n",
    "\n",
    "#JB this is an absolute path!!!!!"
   ]
  },
  {
   "cell_type": "markdown",
   "metadata": {},
   "source": [
    "##### 5. Print the data"
   ]
  },
  {
   "cell_type": "code",
   "execution_count": 4,
   "metadata": {
    "collapsed": false
   },
   "outputs": [
    {
     "name": "stdout",
     "output_type": "stream",
     "text": [
      "['State', 'Rate', 'Verbal', 'Math']\n",
      "['CT', '82', '509', '510']\n",
      "['NJ', '81', '499', '513']\n",
      "['MA', '79', '511', '515']\n",
      "['NY', '77', '495', '505']\n",
      "['NH', '72', '520', '516']\n",
      "['RI', '71', '501', '499']\n",
      "['PA', '71', '500', '499']\n",
      "['VT', '69', '511', '506']\n",
      "['ME', '69', '506', '500']\n",
      "['VA', '68', '510', '501']\n",
      "['DE', '67', '501', '499']\n",
      "['MD', '65', '508', '510']\n",
      "['NC', '65', '493', '499']\n",
      "['GA', '63', '491', '489']\n",
      "['IN', '60', '499', '501']\n",
      "['SC', '57', '486', '488']\n",
      "['DC', '56', '482', '474']\n",
      "['OR', '55', '526', '526']\n",
      "['FL', '54', '498', '499']\n",
      "['WA', '53', '527', '527']\n",
      "['TX', '53', '493', '499']\n",
      "['HI', '52', '485', '515']\n",
      "['AK', '51', '514', '510']\n",
      "['CA', '51', '498', '517']\n",
      "['AZ', '34', '523', '525']\n",
      "['NV', '33', '509', '515']\n",
      "['CO', '31', '539', '542']\n",
      "['OH', '26', '534', '439']\n",
      "['MT', '23', '539', '539']\n",
      "['WV', '18', '527', '512']\n",
      "['ID', '17', '543', '542']\n",
      "['TN', '13', '562', '553']\n",
      "['NM', '13', '551', '542']\n",
      "['IL', '12', '576', '589']\n",
      "['KY', '12', '550', '550']\n",
      "['WY', '11', '547', '545']\n",
      "['MI', '11', '561', '572']\n",
      "['MN', '9', '580', '589']\n",
      "['KS', '9', '577', '580']\n",
      "['AL', '9', '559', '554']\n",
      "['NB', '8', '562', '568']\n",
      "['OK', '8', '567', '561']\n",
      "['MO', '8', '577', '577']\n",
      "['LA', '7', '564', '562']\n",
      "['WI', '6', '584', '596']\n",
      "['AR', '6', '562', '550']\n",
      "['UT', '5', '575', '570']\n",
      "['IA', '5', '593', '603']\n",
      "['SD', '4', '577', '582']\n",
      "['ND', '4', '592', '599']\n",
      "['MS', '4', '566', '551']\n",
      "['All', '45', '506', '514']\n"
     ]
    }
   ],
   "source": [
    "#make an empty list and store all values from the csv file to the empty list\n",
    "dataList = []\n",
    "for row in csv_f:\n",
    "    dataList.append(row)\n",
    "    print row"
   ]
  },
  {
   "cell_type": "markdown",
   "metadata": {
    "collapsed": true
   },
   "source": [
    "##### 6. Extract a list of the labels from the data, and remove them from the data."
   ]
  },
  {
   "cell_type": "code",
   "execution_count": 5,
   "metadata": {
    "collapsed": false
   },
   "outputs": [
    {
     "name": "stdout",
     "output_type": "stream",
     "text": [
      "[['CT', '82', '509', '510'], ['NJ', '81', '499', '513'], ['MA', '79', '511', '515'], ['NY', '77', '495', '505'], ['NH', '72', '520', '516'], ['RI', '71', '501', '499'], ['PA', '71', '500', '499'], ['VT', '69', '511', '506'], ['ME', '69', '506', '500'], ['VA', '68', '510', '501'], ['DE', '67', '501', '499'], ['MD', '65', '508', '510'], ['NC', '65', '493', '499'], ['GA', '63', '491', '489'], ['IN', '60', '499', '501'], ['SC', '57', '486', '488'], ['DC', '56', '482', '474'], ['OR', '55', '526', '526'], ['FL', '54', '498', '499'], ['WA', '53', '527', '527'], ['TX', '53', '493', '499'], ['HI', '52', '485', '515'], ['AK', '51', '514', '510'], ['CA', '51', '498', '517'], ['AZ', '34', '523', '525'], ['NV', '33', '509', '515'], ['CO', '31', '539', '542'], ['OH', '26', '534', '439'], ['MT', '23', '539', '539'], ['WV', '18', '527', '512'], ['ID', '17', '543', '542'], ['TN', '13', '562', '553'], ['NM', '13', '551', '542'], ['IL', '12', '576', '589'], ['KY', '12', '550', '550'], ['WY', '11', '547', '545'], ['MI', '11', '561', '572'], ['MN', '9', '580', '589'], ['KS', '9', '577', '580'], ['AL', '9', '559', '554'], ['NB', '8', '562', '568'], ['OK', '8', '567', '561'], ['MO', '8', '577', '577'], ['LA', '7', '564', '562'], ['WI', '6', '584', '596'], ['AR', '6', '562', '550'], ['UT', '5', '575', '570'], ['IA', '5', '593', '603'], ['SD', '4', '577', '582'], ['ND', '4', '592', '599'], ['MS', '4', '566', '551'], ['All', '45', '506', '514']]\n"
     ]
    }
   ],
   "source": [
    "#extract the labels from the first row of the data\n",
    "header = dataList[0]\n",
    "dataList = dataList[1:]\n",
    "print dataList"
   ]
  },
  {
   "cell_type": "markdown",
   "metadata": {},
   "source": [
    "##### 7. Create a list of State names extracted from the data. (Hint: use the list of labels to index on the State column)"
   ]
  },
  {
   "cell_type": "code",
   "execution_count": 6,
   "metadata": {
    "collapsed": false
   },
   "outputs": [
    {
     "name": "stdout",
     "output_type": "stream",
     "text": [
      "['CT', 'NJ', 'MA', 'NY', 'NH', 'RI', 'PA', 'VT', 'ME', 'VA', 'DE', 'MD', 'NC', 'GA', 'IN', 'SC', 'DC', 'OR', 'FL', 'WA', 'TX', 'HI', 'AK', 'CA', 'AZ', 'NV', 'CO', 'OH', 'MT', 'WV', 'ID', 'TN', 'NM', 'IL', 'KY', 'WY', 'MI', 'MN', 'KS', 'AL', 'NB', 'OK', 'MO', 'LA', 'WI', 'AR', 'UT', 'IA', 'SD', 'ND', 'MS', 'All']\n"
     ]
    }
   ],
   "source": [
    "#create a function to grab the first item in the list. Use the map function to iterate through the main data\n",
    "def getStateFromList(record): return record[0]\n",
    "\n",
    "stateList = map(getStateFromList,dataList)\n",
    "print stateList\n"
   ]
  },
  {
   "cell_type": "markdown",
   "metadata": {},
   "source": [
    "##### 8. Print the types of each column"
   ]
  },
  {
   "cell_type": "code",
   "execution_count": 7,
   "metadata": {
    "collapsed": false
   },
   "outputs": [
    {
     "name": "stdout",
     "output_type": "stream",
     "text": [
      "['CT', '82', '509', '510']\n",
      "<type 'str'>\n",
      "<type 'str'>\n",
      "<type 'str'>\n",
      "<type 'str'>\n"
     ]
    }
   ],
   "source": [
    "#since data type is same for all lists in the list, just look at the first row and check the type\n",
    "oneRecord = dataList[0]\n",
    "print oneRecord\n",
    "\n",
    "for i in range(0,len(oneRecord)):\n",
    "    print type(oneRecord[i])\n"
   ]
  },
  {
   "cell_type": "markdown",
   "metadata": {},
   "source": [
    "##### 9. Do any types need to be reassigned? If so, go ahead and do it."
   ]
  },
  {
   "cell_type": "code",
   "execution_count": 8,
   "metadata": {
    "collapsed": false
   },
   "outputs": [
    {
     "name": "stdout",
     "output_type": "stream",
     "text": [
      "[['CT', 82, 509, 510], ['NJ', 81, 499, 513], ['MA', 79, 511, 515], ['NY', 77, 495, 505], ['NH', 72, 520, 516], ['RI', 71, 501, 499], ['PA', 71, 500, 499], ['VT', 69, 511, 506], ['ME', 69, 506, 500], ['VA', 68, 510, 501], ['DE', 67, 501, 499], ['MD', 65, 508, 510], ['NC', 65, 493, 499], ['GA', 63, 491, 489], ['IN', 60, 499, 501], ['SC', 57, 486, 488], ['DC', 56, 482, 474], ['OR', 55, 526, 526], ['FL', 54, 498, 499], ['WA', 53, 527, 527], ['TX', 53, 493, 499], ['HI', 52, 485, 515], ['AK', 51, 514, 510], ['CA', 51, 498, 517], ['AZ', 34, 523, 525], ['NV', 33, 509, 515], ['CO', 31, 539, 542], ['OH', 26, 534, 439], ['MT', 23, 539, 539], ['WV', 18, 527, 512], ['ID', 17, 543, 542], ['TN', 13, 562, 553], ['NM', 13, 551, 542], ['IL', 12, 576, 589], ['KY', 12, 550, 550], ['WY', 11, 547, 545], ['MI', 11, 561, 572], ['MN', 9, 580, 589], ['KS', 9, 577, 580], ['AL', 9, 559, 554], ['NB', 8, 562, 568], ['OK', 8, 567, 561], ['MO', 8, 577, 577], ['LA', 7, 564, 562], ['WI', 6, 584, 596], ['AR', 6, 562, 550], ['UT', 5, 575, 570], ['IA', 5, 593, 603], ['SD', 4, 577, 582], ['ND', 4, 592, 599], ['MS', 4, 566, 551], ['All', 45, 506, 514]]\n"
     ]
    }
   ],
   "source": [
    "#since they are all strings, convert rate, verbal, and math to int. Use map to iterate through the main data.\n",
    "def getCorrectSchema(record): \n",
    "    state = record[0]\n",
    "    rateScore = int(record[1])\n",
    "    verbalScore = int(record[2])\n",
    "    mathScore = int(record[3])\n",
    "    return [state, rateScore, verbalScore, mathScore]\n",
    "\n",
    "finalSchema = map(getCorrectSchema,dataList)\n",
    "print finalSchema\n"
   ]
  },
  {
   "cell_type": "markdown",
   "metadata": {},
   "source": [
    "##### 10. Create a dictionary for each column mapping the State to its respective value for that column. "
   ]
  },
  {
   "cell_type": "code",
   "execution_count": 9,
   "metadata": {
    "collapsed": false
   },
   "outputs": [
    {
     "name": "stdout",
     "output_type": "stream",
     "text": [
      "{'mathColumn': [510, 513, 515, 505, 516, 499, 499, 506, 500, 501, 499, 510, 499, 489, 501, 488, 474, 526, 499, 527, 499, 515, 510, 517, 525, 515, 542, 439, 539, 512, 542, 553, 542, 589, 550, 545, 572, 589, 580, 554, 568, 561, 577, 562, 596, 550, 570, 603, 582, 599, 551, 514], 'rateColumn': [82, 81, 79, 77, 72, 71, 71, 69, 69, 68, 67, 65, 65, 63, 60, 57, 56, 55, 54, 53, 53, 52, 51, 51, 34, 33, 31, 26, 23, 18, 17, 13, 13, 12, 12, 11, 11, 9, 9, 9, 8, 8, 8, 7, 6, 6, 5, 5, 4, 4, 4, 45], 'verbalColumn': [509, 499, 511, 495, 520, 501, 500, 511, 506, 510, 501, 508, 493, 491, 499, 486, 482, 526, 498, 527, 493, 485, 514, 498, 523, 509, 539, 534, 539, 527, 543, 562, 551, 576, 550, 547, 561, 580, 577, 559, 562, 567, 577, 564, 584, 562, 575, 593, 577, 592, 566, 506], 'stateColumn': ['CT', 'NJ', 'MA', 'NY', 'NH', 'RI', 'PA', 'VT', 'ME', 'VA', 'DE', 'MD', 'NC', 'GA', 'IN', 'SC', 'DC', 'OR', 'FL', 'WA', 'TX', 'HI', 'AK', 'CA', 'AZ', 'NV', 'CO', 'OH', 'MT', 'WV', 'ID', 'TN', 'NM', 'IL', 'KY', 'WY', 'MI', 'MN', 'KS', 'AL', 'NB', 'OK', 'MO', 'LA', 'WI', 'AR', 'UT', 'IA', 'SD', 'ND', 'MS', 'All']}\n"
     ]
    }
   ],
   "source": [
    "#function that will get the values within a list\n",
    "def getStateFromList(record,index): return record[index]\n",
    "\n",
    "finalList = []\n",
    "#we know that there are four columns. Use the map function and lambda to seperate the values for each column\n",
    "for i in range(0,4):\n",
    "    data = map(lambda record: getStateFromList(record,i),finalSchema)\n",
    "    finalList.append(data)\n",
    "\n",
    "#create a dictionary and assign appropriate values    \n",
    "finalDict = { \n",
    "              'stateColumn' : finalList[0], \n",
    "              'rateColumn'  : finalList[1], \n",
    "              'verbalColumn': finalList[2],\n",
    "              'mathColumn'  : finalList[3]\n",
    "            }\n",
    "\n",
    "print finalDict\n"
   ]
  },
  {
   "cell_type": "markdown",
   "metadata": {},
   "source": [
    "##### 11. Create a dictionary with the values for each of the numeric columns"
   ]
  },
  {
   "cell_type": "code",
   "execution_count": 10,
   "metadata": {
    "collapsed": false
   },
   "outputs": [
    {
     "name": "stdout",
     "output_type": "stream",
     "text": [
      "{'rateColumn': [82, 81, 79, 77, 72, 71, 71, 69, 69, 68, 67, 65, 65, 63, 60, 57, 56, 55, 54, 53, 53, 52, 51, 51, 34, 33, 31, 26, 23, 18, 17, 13, 13, 12, 12, 11, 11, 9, 9, 9, 8, 8, 8, 7, 6, 6, 5, 5, 4, 4, 4, 45], 'verbalColumn': [509, 499, 511, 495, 520, 501, 500, 511, 506, 510, 501, 508, 493, 491, 499, 486, 482, 526, 498, 527, 493, 485, 514, 498, 523, 509, 539, 534, 539, 527, 543, 562, 551, 576, 550, 547, 561, 580, 577, 559, 562, 567, 577, 564, 584, 562, 575, 593, 577, 592, 566, 506], 'mathColumn': [510, 513, 515, 505, 516, 499, 499, 506, 500, 501, 499, 510, 499, 489, 501, 488, 474, 526, 499, 527, 499, 515, 510, 517, 525, 515, 542, 439, 539, 512, 542, 553, 542, 589, 550, 545, 572, 589, 580, 554, 568, 561, 577, 562, 596, 550, 570, 603, 582, 599, 551, 514]}\n"
     ]
    }
   ],
   "source": [
    "#make a new dictionary without the state column\n",
    "noStateDict = {\n",
    "                'rateColumn'  : finalDict['rateColumn'],\n",
    "                'verbalColumn': finalDict['verbalColumn'],\n",
    "                'mathColumn'  : finalDict['mathColumn']\n",
    "              }\n",
    "print noStateDict"
   ]
  },
  {
   "cell_type": "markdown",
   "metadata": {},
   "source": [
    "## Step 3: Describe the data"
   ]
  },
  {
   "cell_type": "markdown",
   "metadata": {},
   "source": [
    "##### 12. Print the min and max of each column"
   ]
  },
  {
   "cell_type": "code",
   "execution_count": 11,
   "metadata": {
    "collapsed": false
   },
   "outputs": [
    {
     "name": "stdout",
     "output_type": "stream",
     "text": [
      "rateColumn\n",
      "Max: 82\n",
      "Min: 4\n",
      "verbalColumn\n",
      "Max: 593\n",
      "Min: 482\n",
      "mathColumn\n",
      "Max: 603\n",
      "Min: 439\n"
     ]
    }
   ],
   "source": [
    "import numpy as np\n",
    "for key, value in noStateDict.items():\n",
    "    print key\n",
    "    print \"Max: %d\" % max(value)\n",
    "    print \"Min: %d\" % min(value)\n"
   ]
  },
  {
   "cell_type": "markdown",
   "metadata": {},
   "source": [
    "##### 13. Write a function using only list comprehensions, no loops, to compute Standard Deviation. Print the Standard Deviation of each numeric column."
   ]
  },
  {
   "cell_type": "code",
   "execution_count": 12,
   "metadata": {
    "collapsed": false
   },
   "outputs": [
    {
     "name": "stdout",
     "output_type": "stream",
     "text": [
      "This is standard deviation of the rate 27.038434\n",
      "This is standard deviation of the verbal scores 32.915101\n",
      "This is standard deviation of the math scores 35.670501\n"
     ]
    }
   ],
   "source": [
    "# This is what I did first, but it seemed like cheating\n",
    "#def printStandardDeviation():\n",
    "#    print \"This is the standard deviation for the Rate Column: %f\" % np.std(noStateDict['rateColumn'])\n",
    "#    print \"This is the standard deviation for the Verbal Column: %f\" % np.std(noStateDict['verbalColumn'])\n",
    "#    print \"This is the standard deviation for the Math Column: %f\" % np.std(noStateDict['mathColumn'])\n",
    "#print printStandardDeviation()\n",
    "\n",
    "#define the function to calculate mean from the dictionary\n",
    "def getMean(record,index): return sum(record[index]) / len(record[index])\n",
    "\n",
    "#import sqrt and write a function to calculate standard deviation\n",
    "from math import sqrt\n",
    "def getStd(bucket,mean): \n",
    "    df = map(lambda x: (x-mean)**2, bucket)\n",
    "    dfSum = sum(df)\n",
    "    sampleVar = float(dfSum)/len(bucket)\n",
    "    return sqrt(sampleVar)\n",
    "\n",
    "#assign the standard deviation values to each respective variables\n",
    "rateStd = getStd(noStateDict.values()[0],getMean(noStateDict, 'rateColumn'))\n",
    "verbalStd = getStd(noStateDict.values()[1],getMean(noStateDict, 'verbalColumn'))\n",
    "mathStd = getStd(noStateDict.values()[2],getMean(noStateDict, 'mathColumn'))\n",
    "\n",
    "#print the results\n",
    "print \"This is standard deviation of the rate %f\" % rateStd\n",
    "print \"This is standard deviation of the verbal scores %f\" % verbalStd\n",
    "print \"This is standard deviation of the math scores %f\" % mathStd\n",
    "\n"
   ]
  },
  {
   "cell_type": "markdown",
   "metadata": {},
   "source": [
    "## Step 4: Visualize the data"
   ]
  },
  {
   "cell_type": "markdown",
   "metadata": {
    "collapsed": true
   },
   "source": [
    "##### 14. Using MatPlotLib and PyPlot, plot the distribution of the Rate using histograms."
   ]
  },
  {
   "cell_type": "code",
   "execution_count": 13,
   "metadata": {
    "collapsed": false
   },
   "outputs": [
    {
     "data": {
      "text/plain": [
       "(array([ 8.,  8.,  4.,  2.,  1.,  1.,  1.,  2.,  0.,  0.,  1.,  0.,  6.,\n",
       "         3.,  1.,  3.,  4.,  3.,  1.,  3.]),\n",
       " array([  4. ,   7.9,  11.8,  15.7,  19.6,  23.5,  27.4,  31.3,  35.2,\n",
       "         39.1,  43. ,  46.9,  50.8,  54.7,  58.6,  62.5,  66.4,  70.3,\n",
       "         74.2,  78.1,  82. ]),\n",
       " <a list of 20 Patch objects>)"
      ]
     },
     "execution_count": 13,
     "metadata": {},
     "output_type": "execute_result"
    },
    {
     "name": "stderr",
     "output_type": "stream",
     "text": [
      "/Users/jb3/anaconda/lib/python2.7/site-packages/matplotlib/font_manager.py:273: UserWarning: Matplotlib is building the font cache using fc-list. This may take a moment.\n",
      "  warnings.warn('Matplotlib is building the font cache using fc-list. This may take a moment.')\n"
     ]
    },
    {
     "data": {
      "image/png": "iVBORw0KGgoAAAANSUhEUgAAAd0AAAGpCAYAAADIjuy5AAAABHNCSVQICAgIfAhkiAAAAAlwSFlz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\n",
      "text/plain": [
       "<matplotlib.figure.Figure at 0x109d7d290>"
      ]
     },
     "metadata": {},
     "output_type": "display_data"
    }
   ],
   "source": [
    "import matplotlib.pyplot as plt\n",
    "%matplotlib inline\n",
    "#histogram with a custom size and custom axes labels\n",
    "fig = plt.figure(figsize=(8,6))\n",
    "axes = fig.gca()\n",
    "axes.set_title('Rate Histogram\\n',fontsize = 20)\n",
    "axes.set_xlabel('Participation Rate', fontsize = 16)\n",
    "plt.hist(noStateDict['rateColumn'], bins = 20)"
   ]
  },
  {
   "cell_type": "markdown",
   "metadata": {},
   "source": [
    "##### 15. Plot the Math distribution"
   ]
  },
  {
   "cell_type": "code",
   "execution_count": 14,
   "metadata": {
    "collapsed": false
   },
   "outputs": [
    {
     "data": {
      "text/plain": [
       "(array([ 1.,  0.,  0.,  0.,  1.,  1.,  1.,  9.,  6.,  7.,  3.,  0.,  5.,\n",
       "         4.,  2.,  3.,  2.,  2.,  2.,  3.]),\n",
       " array([ 439. ,  447.2,  455.4,  463.6,  471.8,  480. ,  488.2,  496.4,\n",
       "         504.6,  512.8,  521. ,  529.2,  537.4,  545.6,  553.8,  562. ,\n",
       "         570.2,  578.4,  586.6,  594.8,  603. ]),\n",
       " <a list of 20 Patch objects>)"
      ]
     },
     "execution_count": 14,
     "metadata": {},
     "output_type": "execute_result"
    },
    {
     "data": {
      "image/png": "iVBORw0KGgoAAAANSUhEUgAAAeAAAAGpCAYAAABVg+UxAAAABHNCSVQICAgIfAhkiAAAAAlwSFlz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\n",
      "text/plain": [
       "<matplotlib.figure.Figure at 0x10ec87b10>"
      ]
     },
     "metadata": {},
     "output_type": "display_data"
    }
   ],
   "source": [
    "fig = plt.figure(figsize=(8,6))\n",
    "axes = fig.gca()\n",
    "axes.set_title('Math Scores Histogam\\n',fontsize = 20)\n",
    "axes.set_xlabel('Math Scores', fontsize = 16)\n",
    "plt.hist(noStateDict['mathColumn'], bins = 20)"
   ]
  },
  {
   "cell_type": "markdown",
   "metadata": {},
   "source": [
    "##### 16. Plot the Verbal distribution"
   ]
  },
  {
   "cell_type": "code",
   "execution_count": 15,
   "metadata": {
    "collapsed": false
   },
   "outputs": [
    {
     "data": {
      "text/plain": [
       "(array([ 3.,  3.,  3.,  5.,  5.,  4.,  1.,  2.,  2.,  1.,  3.,  1.,  2.,\n",
       "         1.,  5.,  2.,  2.,  4.,  1.,  2.]),\n",
       " array([ 482.  ,  487.55,  493.1 ,  498.65,  504.2 ,  509.75,  515.3 ,\n",
       "         520.85,  526.4 ,  531.95,  537.5 ,  543.05,  548.6 ,  554.15,\n",
       "         559.7 ,  565.25,  570.8 ,  576.35,  581.9 ,  587.45,  593.  ]),\n",
       " <a list of 20 Patch objects>)"
      ]
     },
     "execution_count": 15,
     "metadata": {},
     "output_type": "execute_result"
    },
    {
     "data": {
      "image/png": "iVBORw0KGgoAAAANSUhEUgAAAeAAAAGpCAYAAABVg+UxAAAABHNCSVQICAgIfAhkiAAAAAlwSFlz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\nDGBJkjowgCVJ6uD/A67VF+mlNIP9AAAAAElFTkSuQmCC\n",
      "text/plain": [
       "<matplotlib.figure.Figure at 0x10f4e1710>"
      ]
     },
     "metadata": {},
     "output_type": "display_data"
    }
   ],
   "source": [
    "fig = plt.figure(figsize=(8,6))\n",
    "axes = fig.gca()\n",
    "axes.set_title('Verbal Scores Histogram\\n',fontsize = 20)\n",
    "axes.set_xlabel('Verbal Scores', fontsize = 16)\n",
    "plt.hist(noStateDict['verbalColumn'], bins = 20)"
   ]
  },
  {
   "cell_type": "markdown",
   "metadata": {},
   "source": [
    "##### 17. What is the typical assumption for data distribution?"
   ]
  },
  {
   "cell_type": "code",
   "execution_count": 16,
   "metadata": {
    "collapsed": false
   },
   "outputs": [
    {
     "name": "stdout",
     "output_type": "stream",
     "text": [
      "The typical assumption for data distribution is that they are normally distributed.\n"
     ]
    }
   ],
   "source": [
    "print \"The typical assumption for data distribution is that they are normally distributed.\"\n"
   ]
  },
  {
   "cell_type": "markdown",
   "metadata": {},
   "source": [
    "##### 18. Does that distribution hold true for our data?"
   ]
  },
  {
   "cell_type": "code",
   "execution_count": 17,
   "metadata": {
    "collapsed": false
   },
   "outputs": [
    {
     "name": "stdout",
     "output_type": "stream",
     "text": [
      "Our data is not normally distributed.\n"
     ]
    }
   ],
   "source": [
    "print \"Our data is not normally distributed.\""
   ]
  },
  {
   "cell_type": "markdown",
   "metadata": {},
   "source": [
    "##### 19. Plot some scatterplots. **BONUS**: Use a PyPlot `figure` to present multiple plots at once."
   ]
  },
  {
   "cell_type": "code",
   "execution_count": 18,
   "metadata": {
    "collapsed": false
   },
   "outputs": [
    {
     "data": {
      "text/plain": [
       "<matplotlib.collections.PathCollection at 0x11055ae10>"
      ]
     },
     "execution_count": 18,
     "metadata": {},
     "output_type": "execute_result"
    },
    {
     "data": {
      "image/png": "iVBORw0KGgoAAAANSUhEUgAAAgEAAAICCAYAAABWch7PAAAABHNCSVQICAgIfAhkiAAAAAlwSFlz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\nAAAASUVORK5CYII=\n",
      "text/plain": [
       "<matplotlib.figure.Figure at 0x1102b5f50>"
      ]
     },
     "metadata": {},
     "output_type": "display_data"
    },
    {
     "data": {
      "image/png": "iVBORw0KGgoAAAANSUhEUgAAAhUAAAICCAYAAAB4Nz9dAAAABHNCSVQICAgIfAhkiAAAAAlwSFlz\nAAALEgAACxIB0t1+/AAAIABJREFUeJzs3XucZGV54PHfg8xog44itJfB2K0OKpp4QQdRvAzCkGCM\nJl5nNpq4tAa8L7trBNcVTNaoMYY1UTaojYkJ9qiJGuMVEEcRb23AK2pArREZ1GIQIjo6zfDsH+/p\noaao7q7uPt1V1f37fj796e5zTp163qpzTj313k5kJpIkSYt1QK8DkCRJK4NJhSRJqoVJhSRJqoVJ\nhSRJqoVJhSRJqoVJhSRJqoVJxQJFxPaIuGUZnueWiLh4qZ+nWxExUsV0Xq9jUf+IiCdUx8VrFrGP\nZTmn5quOsqn/DfK1LSJ+FBH/scTP8bmImJpru2VJKiLiARHxtxHxjYi4ISJ+HRHXRMRHIuLkiFi7\nHHHULKufRYmIRkR8f6mfZ9D0WzLVa9MfuG0//xkRX4mIMyLiDkv8/N1ccBd7rCaw7EnFMpWtVi2J\nTuvPnuq6+i8R8bianmdgP2iXUkRcWr0uv9PFtt+ttn3oEoa0HMdmV+fAgUsdRZXdvwYI4AvAp4Cf\nA3cHHg+8AzgVOHqpY+lTc71JRwK/XI5A1NemT+h/ABqU8+lewNOA1wFPiYjHZubeHsX3Jcqxet0i\n9vFc4KB6wqlVHWVbKg3g76u/DwIeAfwB8PsR8azM/JcexbXSvR14NPB84BMzbRQRjweOAL6cmV9b\npth6akmTioh4FXAWsAN4ZmZ+pcM2JwJ/upRxDLLMXNIqLQ2cv8/Mz07/ExGvBr5KScr/C/CPS/S8\nMdvKzPwVsKhjNTN/tJjHL8KSl20JNTLzz1oXRMQrgdcDfwksNqmY9bVZxd4L/F/gyRExnJnNGbZ7\nAeXLwNuXLbJey8wl+QFGgF8DvwKOnGPbNR2WPQv4LHAD5Zv614HTgbUdtm0A3wfuBPw18ANgD/Ca\nav1ZlGrVx1MuvF+k1JZ8v20/jwL+Gbi2iv2HwN8B9+zwnJ8G9raXA3gJ8NEqpl8Bu4ALgd9p2/YJ\nVUx7q9+tP+e1bHcLcHGH519HuXB8B9gNXE/JmI/vsO30c70GeGgV38+AXwDbgUfP8329BTgPeADw\noaqMNwGXAJtneezW6nX7WRXzFcD/an1PgT+e5XV5DXBw9d5e0rbvO1Sv9y3AH7ate2G1/Hltyw+p\nXsMrqmPsBuCixZah/b0DDqVcVHZWMX6zPZYuXvdPV6/J4zuse1u17m9blm2qnvNbwI1V+b5RvYa3\n77CPs+h8jvwAOHOW9+SP2o+xDvs+hFKb8o3qmLuBkgi9Hhhq2W47cMssx+4x1ftzA/CflOP9ER2e\n757V9p/j1nP5GuB82q5FNZRtA/Bu4Ectz/MPwIY5XuNnUGpAfkE5fyaA9fM4HqZj6nRtOKylTHdd\nytemZdvfBj4GNCnH+FWUpObO8yhT17F1uBaNANuq598NTAK/O8Pz3JHyOXF1te23gdOA+0zvr8t4\n/7Z6bV4xw/o7U867G4GD2tYdBLyKch7cRDnXLgWe1WE/x1dxvYryGfWx6pjZO33MVGX5j+o5z6le\nt92Ua82LZojvZErS+T1uvf5dAmydYftLgD1zvS5LWVNxMuVD9j2Z+e3ZNszM/Tp/RMRfUBKIJuWA\nugk4CfgL4MSIODEzb27dBbCWcgE/BPgk5aLzg5b1CfxP4ATg36pt79zynCcD51JOiA9T3qQjgDHg\n9yLiUTn3N6m7UrLXS4ELqvjvCfwe8LGIeH5mTrdNNigXmdOq2M7m1m8FX53tSSLizsDngQdSTp4P\nUC4kzwIuiIhTM/MdHR66EXhl9dh3APemXNwuioiHZeaVc5Sv1X0pzVlfp0q8gGcDH4+IrZn5/raY\nzwOeR3ld/5lyAB8D/DnwxIjYnJm3AJdTXpez2L9qF2B7Zv4iIr4EHB0RB2fmL6p1x1KOgaSchOe3\nPO74avmnWuK5N/CZ6jW4BPg4JWF5MvCJiPiTzBxfYBla3YVyPPwaeD9we+CZwHkRsTcz66hZiOqn\ntSntlZSk7/PARyhJ17GU1/UJEXFCVleKymznyKer3/+Ncmx+qOVxcx2ro5Rk4TeAf6dc8A4A7l/t\n7/9RkvfWGDo5hnJRvRB4K+XD/GnAJdXrfmnLto+n1H5+mvI+3UQ5l59OaSZ6TGZ+o9p2MWXbSEly\nDqZcM66gnJPPAZ4aEcdn5r+3PGS6fC+mXBM+XL02j6KcOw+pzsM5O8PNQ/u+an9tIuJMSgKyi3Ks\n/RR4COVYOikiHp2ZN3UR63xiazUKfJny4fhuynX42cCHquP8My2xTn9OPLIqwz9RztFXUxK1+XgH\n5b0cA97UYf1zKefdP2TmvibsiLgL5X3/Lco5MU45J34H2BYRD8y22qfK4yiv82eAdwJ3Y//39/ZV\n2Q6mXP+mrzVvjYgjMvO0tv39HeV6ux34MeUz5EnA+RGxITP/vKtXoV23WeR8fygn217g5Hk+7hhK\nVvYDYLhl+QGUk3AvcHrbY35QLf8kLd98WtZPZ9w/Bx7SYf0RlIv+d4F7tK07DrgZ+Je25Z1qKtbS\n4dsGpQblG5Q22dt3iP377Y9pWX+bbyOU5OcW4Jy25fejfNDtBu7dsry1VuS5bY/5k2rdW7t8f0Za\n9vWGtnVHUWoRdgF3bFn+vOox76ftGz3lm8le4KVzlbtl3Wurx5zUsuwvque+ENjRsjyq1/3Ktn1s\nr97XZ7YtX0c50X7RdvwttAx7q/crWpYfSbkYfHMe50XHmgpKMvfjat0ftiwfneO1ay/3XOfIvm+F\nM+y347d5SlKzF/jTDo+5K/vXUnU6p1qP3Re2rfu9at1325YfBhzc4fl+qyrfR2sq27eruLa0LX9m\ntf0VM7zGNwAPalt3frWvZ3R5PMxWU/Hqat1XO6yr+7U5rlp/CXCntnV/VK17c5dlWmhse4FXt607\nsVr3kbblr6qWv6/Dvqa//XdVU1E97ovMXIP41WrdUW3L/6la/vK25benfBm9GXhwy/Lpmoq9zFDD\nSfmis5eSVBzYdo59v1p3TNtj7tNhP2so5+GvgLu1reuqpqKrF24hP5Rq173AifN83Duqx411WHdE\n9YJf1bZ8Oqn4zRn2OX0y/9UM68+m7UOqbf0HKB9YB7csu80FcI5ynVY9x2M7xN51UlG96TdRqtTu\n0mH7P2s/ybj1AvSZDtsfWJXty12WY/pEvn6GC8C7aEteKB/SvwbWddj+AEqNzhdnK3fbuse3v5+U\nquQvUJo69lJVPwMPr7b9u5ZtH1Ite+8M+39KtY9TayjDz2lJsFrWba+e46BOMXTYfjqpeFd1PJ9F\n+YZzfbX888DtutjPXau43jnPc2TeH7yUJPMW4CvzKeMM+/3ubI8BHtflc/wrpar3di3LFlK2x1TL\nLpnhMZ+l7XxveY1f22H7TdW6v+yyHNMxfb/a75nAGym1cdPn56O62dciX5sPVuXs2MQNXAb8eD5x\nLCC279OStLesbwA/bVt2JSWh7/SBeuZsZZ0hrpOrx7y7bfkjq+WTbcuHKZ9hl86wv+lz5v+0LJtO\nKr44SxzTScXRHdaNVY8/t8syPZPOyXLPmz8W6uHV70+3r8jMKyPiR8B9IuJOmfnzltW/ysxvzrLf\npDQVdHJM9XtTRHQahXI34HaUKtvLZws+Ih5EqcJ7HOVbZOtQvwQOn+3xXXgApT3uc5l5Q4f1F1O+\nqTy8w7p/b1+QmTdHxE8ozUbzcVne2vTQajulX8TDgX+MiCHKh3gTOC3iNv2+gvJhfeQ8nvsLlNqY\n4wEiYh3lZHwD5biJat1V3Nr0cXHL4x9d/b5zVXXb7m7VPo6s9r+YMlyZnat+r65+H0L3o3uC8u1v\n2i8oF8l/Bs7OlpEfEXEQpdr69ynH7Z24tXltpuNwtnNkIabPqwtq2NclMyzfTkkyH966TUT8LmVU\n2SMo34Bbr3VZLfvJIuI5qvp9m+tU5WJKc9PDKX0EWp/7Nuch+x8P8zFCqSlrdT3wxMz8eqcH1Pza\nHEP5kH5Wh/MCSu3tcEQckpk/m2tnC4ztq1l96rW5mluPQSLijpTa3B9m5g86bL+dkljMxzbKl9Kn\nR8RLM/PGavmfVPG2N0MfTfkSEjNce6Y/LzpdS+Y6N3+dmV/usHx79Xu/z4SIGKE0kz6R0jw51LJ6\nwZ9VS5lUXEtpX5xvYNP9HK6dZb+/QWkHa00qftrFvn88w/JDq9//c5bHJqWDz4wi4hjKN4XbVb//\nldK34xbgYcBTKVVci9HN6wPl9WnXKQmBkjnfbp5xzHTRmX6Np+M8hPJhNsxtL36tOl0UOm+YORUR\nnwOOj4hDgcdSTtRPZeZ3IuJaSjJxLp2Tiun3e3P1M1M8B9dQhtlec5jf657Apsyc6QMWgIg4kPJh\nt5HS7DbdgW26/fUsZj4OZzpHFuIulJivqWFfsx1vwf79o15OudBfT2kO+yElcUvKcMuHUM95mMx+\nHgbdn4cLOR6g1D4+Efa11T+d0nH33yJiY2bud11cgtfm0Crmuc6LO1I6N89oEbHNdo61zsU0fYzM\nde3qWmb+MiLeQ0kingO8rUron01J+t/T9pDpa8+jqp+Ou+XWa8984ptpBEr7NZmIuB8lSbkTpVbt\nE5Ta772U/nLPZYHnyFImFZ+jZEDHU6psuzWd6d2DWztatrpn23bTuvlQmmmb6X2tm+Hbd7deTck0\nb3Phj4jTKUnFYrW+Pp3M9PrU7e4zLJ+O68a235dn5iNrfP6LKR0Kj6d8I/wVpQlget3vVJ2yHgt8\nKzNb5xiYjunlmfnWLp5rqcqwEN0M8XsqJaE4LzOfv9+DI+5BSSpm0nVy14UbKPEutnYOZj/ekuo9\niojbUb5tXgs8vMOH6mNqiIXq+YLZz8N9cS2HquZyPCJuT+nMeg6lIzawZK/NjZSmh8MWHPjSxdZu\n+r2Y69o1X28HTqHMWfE2ygixO1GaGNtrKadjeFNmnj7P55nr3ByeYXn7NRngFZQk4zmZOdG6cUQ8\nh/1rROdlKWfUfBflm9HTI+KBs20Y+8+oOd28sKnDdvejTPjzg8z8z5rihNLZBko16mLcD7h+hm+S\nm2Z4zF7m9+3ku5Ts/aFVtX+7J1a/L5vHPhfiqIjolE0fRzn4LweokrRvAQ+uvkl16xZmf10+Rbmo\nn0Ap8+czc0/LurtS+lccTMuoj8r0+93VrIOLKEOvbKC8Bx/ssG7TAvc53bQyn2N1+nX+7QU+Z6vH\nzrD8uOr39HXjMErtwOc7fDAdzK3NFq0WUrYZr1OV5ToPO/k7yvH6BxHx6JblS/HafBE4JCLm03zZ\nyUJim5fqA/4q4PCIuE+HTY7rsKyb/V5OadJ6SDUi6Pl0bvqA0vcr6fLaM0+3j4hOtR/t5wiUzyoo\n/QXbbWIRXy6WLKnIzB3cWs36sYh4RKftIuIk9p+R7DzKh8WrI+Kwlu0OAN5crXtnzeG+lVJVdnZE\nHNEhxjURMdNFrVUDuGtE/Gbb48covZE72UVpc+yqqinLcLPzKaMU9hvyUyVdL6N0vFyqSZCm3Zm2\n9seIeCRljoMb2P8D7a8px8G7quGwtD3uLhHR3gdkF6WZayaXUTLvpwIPYv/E4WLKcXIGt236IMsw\nv0uAp0XEf+2084j4zYhozfwXUoZeaVDKv6l1YUTcl9LvZCEXjJ9Vj7t3tw/IzMsotUcPq2rq9hMR\nd+32uAeOiIgXtz3+qZQvAle2JPI/pSTdj2hNeqsmob+hfHi1W0jZLqUk+I+NiKe3xfUMShL03cz8\nXKfHL6Usw5rPpBwDr2tZtRSvzfRQ+HdExD3bV0bEQTN80LVbSGwL8S5KgvTGaOkEUiUZL2XhH6bv\noLwOf0Vp1vh6Zt6mD0Rm/pjSHHlMRJxefa7tJyLuF2XI+0K8ISLWtOzrMMo8Osn+LQaN6vemtud+\nEmWk24ItaUfNzHx9S7XWZER8HvgKZfTC9DTdR1DGGE8/5gsR8ZeU6plvRsQ/U9qmTgIeTPkw+Kua\n4/xulHkqxoFvRcQnKBOJrKGcTI+jHPQPmmNX/5fyrezSiHgf5UPvkZTq+fdTetW2+1S1zScj4rOU\nDn9fy8yPzPI8p1cxvaTqWPppStXXMyltly+ukrql9FlgrLpgXAqsp8yTEcAprdV+mfmuiDgKeBHw\nvYj4JKW99K6UCWceT0kmX9Sy/08Bz46ID1MSiCngs9MfHpl5S0RspyQVSUtSkZk/jIjvUbLxmynj\nutv9l+ox74yIl1G+QdxAqQl7COVYezRVO+UCy9Ar/0b5RvbfI+IhlG8oI8DvUuYR2DLfHeat84M8\nLiL+iXJ+7AX+dY4O0s+hHJ+vqz58t1OOkftTapkeyK3zVMzmE8BfVV9Cvka5bvwBpcPuyS1xZkT8\nDaUD2jci4l8pnQWPo/SN+TRtF9JFlO2PKZ1Q31s9z3eq8jyVcu4vuAp5sTLzAxHxVcqcJCdm5gU1\nvzYfzsxvZObFcesMnldGxMcozdZ3pBxzT6Bcs580R7zzjm2B3kzpvPx04LLqPD6Ecu38DAtvon4P\n5XPpccw9g+YLKdem1wHPq/qHTc9p9CBKJ9Vn0t150epHlGaXb1bXzTtQynl34C2Z+cWWbd9GOT4/\nFBHvp/S7+E3Kl9/3sYBrxD7dDDFZ7A9lxMJbKBMl3UBp/76GMrPj85h9Rs3W2QBnmlHzB8D3Znn+\nM5lhLHHbdg+mfDD8gHKxuq6K+f9R+km0bvtp4OYO+3gS5dvZjZQORx+nfGv54yqG9pnoDqre4B9S\nahj2Gydd/f+pDs8zPaPmd+luRs29wP+eodyzvn5t245U+xqv3tcPcuuMmp8FTpjlsU+izDXy4+oY\n2EmpPn0tcP+2bYcp47mvpSQUe7ntPAEvqZZfT9uQMkoV8F5KdepM8RxcHVOTlA61v6BMoPNvlGFY\nneY8mU8ZOr531bp3URKee88UX6fjba5juGX7wym1VVdX5foG8D8o39JuE1c35wilA9e/Ui6AN7ce\nz7MdY9w6c+m3Kefy9ZRE8c+AO8x2TrH/jJqPonyI30A5vz5O2xwA1WMOoIx8+WZV9p2USdR+Y6bX\nfRFlO4Iyg+Y17D+j5hHzuQ7Rcl51+f5Ox9Tx+Kq2eXK1zZeW6rVp2eYxlG/gP6KcFz+p3uM3dXqP\nZoh3XrHN9Zp1Op6q5XekJABXV8fjFdXz3mc+70GH/b69evzP6TD0vG3b6dmXL6XUBv2Sch2+oFp+\nl5Ztj6/2e8Ys+7ua8lmwjvJ58iNunVHzhTM85jGUL1a7KOfUZyhfPDo+HyU5/PVcr0NUGy+rqvr4\nnZTM6BbKN43/oMynPkKpmnlWVsNzIuKMapubKZ3r6hiiJqnPRcQTKB8OZ2XnWQYl9ZFlufV5B28B\nPpaZR1LuRfEdyjfGizLzAZQ28DNg37wPz6KM2z0JOKe1LUySJPWHZU8qqhELj8vMd0GZfKmqkXgq\npdqQ6vfvV38/BdhWbdegTPazWm+TLklS3+pFTcV9gOsi4l0RcVlEvL2aLOTumfkT2NdD9m7V9odz\n62xzUNos6xj3LmkwJPXOnyFpifRimu4DKWOOX5yZX4mIsylNH+0XjXldRCLCi460cv1ZRNinQuog\nM/umS0Avaip+BFydmV+p/v8XSpLxk4i4O+yb9W96ApRr2H++gnsxw7S/C+mx228/Z555Zs9jsBwr\npwwrpRwroQyWo79+VkIZMvvvu/SyJxVZmjiujoj7V4uOp8z+9mFunXTjjylDmKiWb4mItdUEJRto\nmddCkiT1h17dpfRlwPnVzF/fB/4rZfz8+6pJqHZQRnyQmVdUE0ldQZmv4EXZj+mZJEmrXE+Sisz8\nGuWGR+1OmGH711Mmz1nxNm3a1OsQarESyrESygAroxwroQxgOfrJSihDP+rJ5FdLISKswJAkrSoR\nQa7yjpqSJGkFMqmQJEm1MKmQJEm1MKmQJEm1MKmQJEm1MKmQJEm1MKmQJEm1MKmQJEm1MKmQJEm1\nMKmQJEm1MKmQJEm1MKmQJEm1MKmQJEm1MKmQJEm1MKnoUrPZZHJykmaz2etQJEnqSyYVXZiYmGDD\nyAhbNm9mw8gI2yYmeh2SJEl9JzKz1zHUIiJyKcrSbDbZMDLC2O7drAd2AuNDQ1y1YwfDw8O1P58k\nSd2KCDIzeh3HNGsqOmht6mg0Ghy2di3rq3XrgUPXrKHRaPQwQkmS+o9JRZv2po7LL7uM6/bsYWe1\nfiewa2qK0dHRHkYpSVL/sfmjxUxNHW86+2xecdppHLpmDbumpjh3fJwtW7fWErckSQvVb80fB/Y6\ngH6yr6lj927g1qaOhx91FFft2EGj0WB0dNS+FJIkdWBS0WJ0dHRfU8d0TcV0U8fw8LDJhCRJszCp\naDE8PMy54+OcMja2X1OHyYQkSXOzT0UH06M+bOqQJPWzfutTYVIhSdKA6rekwiGlkiSpFiYVkiSp\nFiYVkiSpFiYVkiSpFiYVkiSpFiYVkiSpFiYVkiSpFiYVkiSpFiYVkiSpFiYVkiSpFiYVkiSpFiYV\nkiSpFiYVkiSpFiYVkiSpFiYVkiSpFiYVkiSpFiYVkiSpFiYVi9BsNpmcnKTZbPY6FEmSes6kYoEm\nJibYMDLCls2b2TAywraJiV6HJElST0Vm9jqGWkRELldZms0mG0ZGGNu9m/XATmB8aIirduxgeHh4\nWWKQJCkiyMzodRzTrKlYgEajwWFr17K++n89cOiaNTQajR5GJUlSb5lULMDo6CjX7dnDzur/ncCu\nqSlGR0d7GJUkSb11YK8DGETDw8OcOz7OKWNjHLpmDbumpjh3fNymD0nSqmafikVoNps0Gg1GR0dN\nKCRJy67f+lSYVEiSNKD6LamwT4UkSaqFSYUkSaqFSYUkSaqFSYUkSapFT5KKiGhExNci4vKI+HK1\n7GER8YXpZRHxyJbtz4iIKyPi2xFxYi9iliRJs+vJ6I+I+D7wiMz8WcuyTwJvzswLIuIk4E8z87iI\neBBwPrARuBdwEXBE+1CPQRv94XBUSdJiOfqjiA7PfQtw5+rvuwDXVH8/BdiWmTdnZgO4Ejh6OYJc\nKt6MTJK0EvWypuIGYC/w9sx8R0Q8EPgkJeEI4DGZeXVE/C3whcx8T/XYdwIfy8wPtO1zIGoqvBmZ\nJKku/VZT0atpuo/NzGsjYhi4ICK+AzwDeHlmfigingGcB2yez07POuusfX9v2rSJTZs21RdxTfbd\njGz3bmD/m5GZVEiSZrN9+3a2b9/e6zBm1PMZNSPiTOAm4NWZeUjL8hsy8y4RcTqQmfnGavkngDMz\n80tt+7GmQpK0qvRbTcWy96mIiIMi4o7V3wcDJwLfAHZGxBOq5cdT+k4AfBjYEhFrI+I+wAbgy8sd\nd12mb0Y2PjTEOevWMT405M3IJEkrwrLXVFSJwQeBpDS/nJ+Zb4iIY4G3ALcDfgW8KDMvrx5zBjAG\nTFGaSC7osN+BqKmY5ugPSdJi9VtNRc+bP+oyaEmFJEmL1W9JhTNqSpKkWphUSJKkWphUdNBsNpmc\nnKTZbC7Z/up+DkmSes2kok3ds1122p8zakqSViI7araoew6JTvt759AQmckLfvUr56mQJC2KHTX7\n2L7ZLqv/W2e7rGt/hxxwAOtud7tFPYdNJ5KkfmRS0WJ0dJTr9uxhZ/X/TmDX1BSjo6O17e9nt9zC\nf+7du+DnsOlEktSvbP5os21iglPGxjh0zRp2TU1x7vg4W7ZurXV/wIKewym+JUmt+q35w6Sig06z\nXS5mBsy69jc5OcmWzZt54Y037lt2zrp1vPeii9i4ceO8YpIkDT6TiiWylDNqTkxMcOrYGIetXct1\ne/YsuvZioaypkCS1MqlYIkuVVPTbB3ndzTOSpMHVb0nFgb0OoN/tG8Gxezew/2iNXiQVW7Zu5fgT\nTvBmZJKkvmNSMYfWERzTNRWLGRFSh+HhYZMJSVLfMamYw/DwMOeOj9+mycEPdUmS9mefii4tZvSH\nJElLod/6VJhUSJI0oPotqXBGTUmSVAuTCkmSVAuTCkmSVAuTCkmSVAuTCkmSVAuTCkmSVAuTCkmS\nVAuTCkmSVAuTCkmSVAuTCkmSVAuTCkmSVAuTCkmSVAuTCkmSVAuTCkmSVAuTCkmSVAuTCkmSVAuT\nCkmSVAuTCkmSVAuTimXQbDaZnJyk2Wz2OhRJkpaMScUSm5iYYMPICFs2b2bDyAjbJiZ6HZIkSUsi\nMrPXMdQiIrLfytJsNtkwMsLY7t2sB3YC40NDXLVjB8PDw70OT5I04CKCzIxexzHNmooO6mquaDQa\nHLZ2Leur/9cDh65ZQ6PRWGyIkiT1HZOKNnU2V4yOjnLdnj3srP7fCeyammJ0dLSOUCVJ6is2f7RY\niuaKbRMTnDI2xqFr1rBraopzx8fZsnXrouKUJAn6r/njwF4H0E/2NVfs3g3s31yx0KRiy9atHH/C\nCTQaDUZHR+1LIUlasUwqWrQ2V0zXVNTRXDE8PGwyIUla8UwqWgwPD3Pu+PhtmitMCCRJmpt9Kjpo\nNpsLbq5YzGMlSZqPfutTYVJRo4mJCU4dG+OwtWu5bs8eO2VKkpaUScUS6XVS4URXkqTl1m9JhfNU\n1MSJriRJq51JRU2c6EqStNo5+qMmjhyRJK129qmomaM/JEnLpd/6VJhULEK3CcRyJBomM5K0+vRb\nUmGfigXq9sZjdd6gbLGxSJK0lKypWIBuh48uxzBTh7JK0uplTcUK0O3w0TqGmTabTSYnJ2k2m4uK\nRZKkpWZSsQDdDh9d7DDTbpo1HMoqSeoXPWn+iIgGcCNwCzCVmUdXy18KvAi4GfhoZp5eLT8DOLla\n/vLMvKDDPpe1o+a2iYnbDB/tNCV3t9u1m0+zxkKfQ5I02Pqt+aNXScX3gUdk5s9alm0CXgU8KTNv\njojDMvO6iDgSeA+wEbgXcBFwRHsGsdJGf0xOTrJl82ZeeOON+5ads24d773oIjZu3FjLc0iSBlu/\nJRW9mvwquG3TywuBN2TmzQCZeV21/KnAtmp5IyKuBI4GvrRcwc5keHi4qw/wbrdr1dqsMV1TMVuz\nxkKeQ5LNs9BAAAAgAElEQVSkOvWqT0UCF0bEZEQ8v1p2f+DxEfHFiPh0RDyiWn44cHXLY6+plq1o\n0zN0jg8Ncc66dYwPDTlDpySpr/WqpuLYzLw2IoaBCyLiu1Ush2TmMRGxEXg/cN/57PSss87a9/em\nTZvYtGlTfRHXrJvmii1bt3L8CSfYrCFJAmD79u1s376912HMqOfzVETEmcBNwPHAGzPzM9XyK4Fj\ngBcAZOYbquWfAM7MzC+17acvpunuxsTEBKeOjXHY2rVct2ePHSslSQvSb30qlj2piIiDgAMy86aI\nOBi4AHgtMAocnplnRsT9gQszcyQiHgScDzyK0uxxIX3SUXMhnKxKklSXfksqetH8cXfggxGR1fOf\nn5kXRMQa4LyI+Abwa+CPADLzioh4H3AFMAW8aCCyhxnsm6xq925g/8mqTCokSYOs580fdbGmQpK0\n2lhTscpNj+pon6zKhEKSNOisqegRJ6uSJC1Wv9VUmFRIkjSg+i2p8IZikiSpFiYVkiSpFiYVkiSp\nFiYVkiSpFiYVkiSpFiYVkiSpFiYVkiSpFiYVkiSpFiYVkiSpFiYVkiSpFiYVkiSpFiYVkiSpFiYV\nkiSpFiYVkiSpFiYVkiSpFiYVkiSpFiYVkiSpFiYVkiSpFiYVK0Sz2WRycpJms9nrUCRJq5RJxQow\nMTHBhpERtmzezIaREbZNTPQ6JEnSKhSZ2esYahERuVLKMh/NZpMNIyOM7d7NemAnMD40xFU7djA8\nPNzr8CRJSygiyMzodRzTrKkYQK1NHY1Gg8PWrmV9tW49cOiaNTQajR5GKElajUwqBkx7U8fll13G\ndXv2sLNavxPYNTXF6OhoD6OUJK1GNn8MkJmaOt509tm84rTTOHTNGnZNTXHu+Dhbtm7tdbiSpCXW\nb80fB/Y6AHVvX1PH7t3ArU0dDz/qKK7asYNGo8Ho6Kh9KSRJPWFSMUBGR0f3NXVM11RMN3UMDw+b\nTEiSesqkYoAMDw9z7vg4p4yN7dfUYTIhSeoH9qkYQNOjPmzqkKTVrd/6VJhUSJI0oPotqXBIqSRJ\nqoVJRZ/znh6SpEFhUtHHvKeHJGmQ2KeiT3lPD0nSXOxToa54Tw9J0qBZVFIREXepKxDtr3WiK/Ce\nHpKk/tdVUhERJ0fE/2j5/8ERsQPYFRFfjIi7LVmEq9T0RFfjQ0Ocs24d40NDTnQlSeprXfWpiIiv\nAeOZ+TfV/58EfgN4B/AS4MLMPHUpA53LSutTMc2JriRJM+m3PhXdTtM9AlwBEBHrgOOAp2XmRyKi\nCbxuieJb9bynhyRpUHTbp+JAYG/192OBBC6u/t8B2PwhSdIq121ScSXwpOrvZwNfyMxfVv/fE7i+\n7sAkSdJg6bb546+Bv4+I5wLDlMRi2nHAN+oOTJIkDZaukorM/MeIuBp4FDCZmRe3rN4FfGwpgpMk\nSYPDGTUlSRpQ/Tb6o+vJryLioIh4UURsi4gLI+KIavkzI+L+SxeiesEbmUmS5qvbya8OB74K/F/g\nt4AnAneqVp8IvGJJolNPeCMzSdJCdDv51XuBhwInAVcDe4BHZuZlEfFfgDMz8wFLGuncMdr8UQNv\nZCZJg2NQmz9OBF6TmT+gzFHR6hrg8FqjUs94IzNJ0kJ1m1SsBW6cYd06bp0YSwPOG5lJkhaq26Ti\nG8DTZlh3EvDv9YSjXvNGZpKkheq2T8UzgPcCbwfeA3wG+ENgA/Bq4A8ys6dzVdinol7eyEyS+l+/\n9anoep6KiHgJ8BfAwcB0AX4BvDIzz1ma8LpnUiFJWm0GNqkAiIg7AcdSbiC2C/hcZs7U12JZmVRI\nklabfksq5uxTERFrI+L9EfG4zPx5Zn4iM9+dmR9daEIREY2I+FpEXB4RX25b9z8i4paIuGvLsjMi\n4sqI+HZEnLiQ55QkSUtrznt/ZOaeiPgd4K01Pu8twKbM/Fnrwoi4F7CZcjv16WVHAs8CjgTuBVwU\nEUdYLSFJUn/pdvTHF4BjanzemOG5z+a2s3M+FdiWmTdnZoNyG/aja4xFkiTVoNuk4uXAWEScGhH3\nqOF5E7gwIiYj4gUAEfEU4OrMbL+N+uGUWTynOdmWJEl9qKtbnwPfqn6/DXhbxG36hGRmdrsvgGMz\n89qIGAYuiIjvAK+iNH0s2FlnnbXv702bNrFp06bF7E7LrN+HsfZ7fJJWvu3bt7N9+/ZehzGjbuep\n+D/cdnru/WTm/15QABFnUmbkfAnwS0rTyL0oNRJHAydX+39Dtf0nKPca+VLbfuxmMcAmJiY4dWyM\nw9au5bo9ezh3fJwtW7f2Oqx9+j0+SatTv43+mNeQ0lqeMOIg4IDMvCkiDgYuAF6bmRe0bPMD4KjM\n/FlEPAg4H3gUpdnjQuA2HTVNKgZXv9/ErN/jk7R69VtS0W2fin0i4g4Rcc+IuMMCn/PuwOci4nLg\ni8C/tSYUlaSaYCszrwDeB1wBfAx4kdnDytLvNzHr9/gkqV903Q8iIo4HXgc8kvKBn9UcE6/OzIu7\n3U91p9OHzbHNfdv+fz3w+m6fQ4Ol9SZm0zUB/XQTs36PT5L6RVdJRURsptQSNCgf7j8G7kmZP+IT\nEXFSZn5qqYLUyjZ9E7NTxsY4dM0adk1N9dVNzPo9PknqF9121Pw88HPgSZm5t2X5AcDHgTtm5rFL\nFmUX7FMx+Pp9dEW/xydp9em3PhXdJhW/BJ6ZmR/tsO7JwPsy86AliK9rJhWSpNWm35KKbjtq7gHu\nNMO6OwK/riccSZI0qLpNKj4D/FlE3Lt1YUQcDpxVrZckSatYt80fDwQupdRKXApcC9wDeAxwE/DY\nzPzuEsY5J5s/JEmrTb81f3Q9+VVVK/EK4HHAXYHrKTUUb87Ma5Yswi6ZVEiSVpuBTSr6nUmFJGm1\n6bekoqs+FRGxISIeO8O6YyPifvWGJUmSBk23HTXfAjxthnV/AJxdTziSJGlQdZtUbAS2z7BuO+Vm\nX5IkaRXrNqlYB/xqhnV7gDvXE460MM1mk8nJSZrNZq9DkaRVq9uk4vvAcTOsOw7YUU840vxNTEyw\nYWSELZs3s2FkhG0TE70OSZJWpW7nqXgVcCbwMuC8zJyKiDXAyZT+Fn+ema9b0kjnjtHRH6tQs9lk\nw8gIY7t377uD6PjQEFft2OH9OSSteAM5+gN4I+XGYf8P+EVE7AR+Uf3/MeANSxOeNLtGo8Fha9ey\nvvp/PXDomjU0Go0eRiVJq1NXtz6v7kz6+xFxIrAZOBS4DrggMy9awvikWY2OjnLdnj3shH01Fbum\nphgdHe1tYJK0Cjn5lQbetokJThkb49A1a9g1NcW54+Ns2bq112FJ0pLrt+aPeScVEbEWeB7wIMoX\nw3dn5o/rD21+TCpWt2azSaPRYHR01L4UklaNgUkqIuIs4GmZ+ZCWZWuBLwAPA6YL8VPgmMxsLGmk\nczCpkCStNv2WVMzWUXMzcEHbshcDDwf+mtKv4rHAXuDVSxKdJEkaGLMlFfcDvty27PeBHwN/mpk/\ny8zPA28Cjl+i+CRJ0oCYLam4CyWBAPY1fTwK+HRbO8PXYN+IPkmStErNllTsBEZa/j8aWAt8vm27\n2wG/rDkuSZI0YGZLKi4BXh4R66r/XwrcAny0bbuHAT9agtgkSdIAmW3yqz8DvgL8NCJ+SWkOeUeH\nUR7PBj63NOFJkqRBMWNSkZnfi4ijgBcAh1A6bf596zYRcQ9K4vH37Y+XJEmrizNqSpI0oAZpngpJ\nkqSumVRIkqRamFRIkqRamFRIkqRamFRIkqRamFRIkqRazDhPRUS036F0NpmZv11DPOpjzWaTRqPB\n6Ogow8PDvQ5HmpPHrLS8ZqupOAgY6vLnoKUNU702MTHBhpERtmzezIaREbZNTPQ6JGlWHrPS8nPy\nK82p2WyyYWSEsd27WU+509z40BBX7djhtz/1JY9ZrRZOfqWB02g0OGzt2n33t18PHLpmDY1Go4dR\nSTOb7zHbbDaZnJyk2WwuV4jSijSvpCIi1kXEURHxmPafpQpQvTc6Osp1e/aws/p/J7BraorR0dEe\nRiXNbD7HrM0kUn26av6IiNsD7wC2MkMikpm3qze0+bH5Y2ltm5jglLExDl2zhl1TU5w7Ps6WrVt7\nHZY0o26OWZtJNOj6rfmj26Tiz4HnA6cD7wJeBvwaeB4wDPz3zPzI0oU5N5OKpWdPeg2auY7ZyclJ\ntmzezAtvvHHfsnPWreO9F13Exo0blzNUaUEGNan4DvAW4O3AFPDIzLysWvcBYEdmnraUgc7FpELS\nfFlToUHXb0lFt30q7g18KzP3UpKKg1vWvZPSLCJJA2V4eJhzx8cZHxrinHXrGB8a4tzxcRMKaYFm\nnPyqzS5gXfX3j4CHAJdU/x9CmatCkgbOlq1bOf6EE2zak2rQbVLxJeChwEeADwB/HhEHATcDfwpc\nujThSdLSGx4eNpmQatBtn4qjgZHMfH9E3Bl4N/C7lOaTrwDPyszGUgY6F/tUSJJWm37rU7HgGTWr\nmoo7ZOb19Ya0MCYVkqTVpt+SigXPqJmZv+yXhELqd87YKGk16DqpiIj7RMR4RFwRETdWv98ZEfdZ\nygClQeeMjZJWi277VDwe+Diwp/r9E+DuwEnA7YHfzsxLZt7D0rP5Q/3IeRAkLaV+a/7odvTHXwNf\npyQP/zm9sOq0eQHwZuDo+sOTBtu+G1vt3g3sf2MrkwpJK023zR+/CbyhNaEAyMwbgTcAv1V3YNJK\n4M3YJK0m3dZUXDPLtgfCvmumpBbTMza239jKWgpJK1G3fSpOAV4CbM7MH7csvyel+eNvMvMdSxZl\nF+xToX7mzdgkLYV+61MxY1IREee1LTqBckfSS7m1o+axwE+BizJzbAnjnJNJhSRptRmkpOJHQLef\n0pmZ9+76SSMawI3ALcBUZh4dEX8J/B7llurfA/7rdB+OiDgDOJkyLfjLM/OCDvs0qZAkrSoDk1Qs\n6ZNGfB94RGb+rGXZCcDFmXlLRLyBkqicEREPAs4HNgL3Ai4CjmjPIEwqJKk/2Ny3fPotqZhz9EdE\nrI2IN0XEI2t83mh/7sy8KDNvqf79IiWBAHgKsC0zb67uL3IlDl+VpL7kZG+r25xJRWbuAV4MHFTj\n8yZwYURMRsQLOqw/GfhY9ffhwNUt666plkmS+kiz2eTUsTHGdu/mhTfeyNju3ZwyNub09KtIt0NK\nvwo8GPhsTc97bGZeGxHDlOTi25n5OYCI+F+UfhbzTm/POuusfX9v2rSJTZs21RSuJGkuTva29LZv\n38727dt7HcaMuh1S+hhKv4YXZuYnag0g4kzg55n51xHxPOAFwBMz89fV+tMp/SveWP3/CeDMzPxS\n237sUyFJPeS09Muv3/pUdJtU/AC4K3BHyuiMn7D/yJDMzPt19YTllukHZOZNEXEwZZ6L11KaYt4M\nPD4zd7VsP91R81GUZo8LsaOmJPWlbRMTt5nsbcvWrb0Oa8Ua1KTin5hjeGlmPrerJyx3Nf1gtb8D\ngfMz8w0RcSWwFphOKL6YmS+qHnMGMAZM4ZBSSeprjv5YPgOZVAwCkwpJ0mrTb0lFtzcUkyRJmlXX\nSUVEPCQi3hcRP46IPRFxVLX8/0TEiUsXoiRJGgRdJRXV6I8vAQ8FPgDcrm0fp9YfmiRJGiTd1lS8\nEfgUcCTwMsqMmNO+Ajyi5rgkSdKA6Xbyq0cAT6/uy9HeIeQ6yh1LJUnSKtZtTcWvgaEZ1t2DcsdR\nSZK0inWbVHwOeFlEtG4/PX7zZODTtUYlSZIGTrfNH6+hJBaXA++nJBTPiYi/BI7Bu4ZKkrTqdT35\nVURsBP4KOJZSw5HA54HTMvMrSxZhl5z8SpK02vTb5FfznlGzunfHYcDPMvPnSxLVAphUSJJWm35L\nKmbsUxER50XE49uXZ+YvM/OH/ZRQSJKk3puxpiIifgHcAfgh8G7gHzPzqmWMbV6sqZAkrTYDU1NB\nmXvi+UADeDXw3Yi4NCJeEBF3Xo7gJKmTZrPJ5OQkzWaz16FIajFjUpGZN2XmuzLzOGAU+N/AIcC5\nwLURsS0iTmobZipJS2piYoINIyNs2byZDSMjbJuY6HVIkioL6ah5NPBHwLOAQ4GfAudn5v+sP7x5\nxWXzh7TCNZtNNoyMMLZ7N+uBncD40BBX7djB8PBwr8OTlt0gNX90lJlfzsyXAIcDZwN3A06rOzBJ\natdoNDhs7VrWV/+vBw5ds4ZGo9HDqCRN63byq30iYgOlpuI5lGaR/wTeV29YknRbo6OjXLdnDzth\nX03FrqkpRkdHexuYJKDLpCIiDgG2UJKJoykTX10IvAr4UGb+askilKTK8PAw546Pc8rYGIeuWcOu\nqSnOHR+36UPqE7MNKV0DPJmSSJwErAWuAP4B+KfMvHa5guyGfSqk1aPZbNJoNBgdHTWh0KrWb30q\nZksqrgfuDFwPTAD/kJn/voyxzYtJhSRptem3pGK25o/PUGolPpqZU8sUjyRJGlDzHlLar6ypkKR6\nrYRmppVQhtn0W02FE1dJkm5jJUwythLKMGisqZAk7WclTDK2EsrQDWsqJEl9p/V+KithkrGVUIZB\nZFIhSatcezPB5Zddtm+SMRjMScZaJ0qDwSzDILL5Q5JWsZmaCd509tm84rTT9ptkbMvWrb0Od162\nTUzcZqK0QSvDXPqt+WPe03RLklaOfc0Eu3cDtzYTPPyoo7hqx46BHjmxZetWjj/hhIEuw6AxqZBq\nttKHsGllme1+KsPDwwN/DC+mDJ7L82efCqlGDmHToJm+n8r40BDnrFvH+NCQ91PBc3mh7FMh1WS1\nDGHTyuS38lsN0rncb30qrKmQauIQNvVa67DQ+RoeHmbjxo1996HZC57LC2dSIdXEIWzqJavr6+O5\nvHA2f0g1Wg1D2NR/Bqm6flAMyrncb80fJhVSzWyb1nKbnJxky+bNvPDGG/ctO2fdOt570UVs3Lix\nh5ENtkE4l/stqXBIqVSzlTAMT4NltmGhWjjP5fkzqZCkATc9LLS9ut4PRC03mz8kLcogVBGvFnW/\nF763/a/fmj8c/SFpwRxx0F/qHBbqe6uFsKZC0oI44mDl8r0dHNZUSFoRnCBo5fK91UKZVEhaECcI\nWrl8b7VQjv6QtCCOOFi5fG+1UPapkLQojhBYuXxv+1+/9akwqZAkaUD1W1JhnwpJklQLkwpJklQL\nkwpJklQLkwpJklQLkwpJklQLkwpJklQLkwpJklQLkwpJklQLkwpJWmWazSaTk5M0m82+2pcGn0mF\nJK0iExMTbBgZYcvmzWwYGWHbxERf7EsrQ0+m6Y6IBnAjcAswlZlHR8QhwHuBEaABPCszb6y2PwM4\nGbgZeHlmXtBhn07TLUmzaDabbBgZYWz3btZT7j46PjTEVTt2zPveHnXuSwvnNN3FLcCmzHx4Zh5d\nLTsduCgzHwBcDJwBEBEPAp4FHAmcBJwTEX3zAkrSoGg0Ghy2di3rq//XA4euWUOj0VjwvtYBVwPr\nFrEvrRy9uvV5cNuE5qnAE6q//wHYTkk0ngJsy8ybgUZEXAkcDXxpeUKVpJVhdHSU6/bsYSfsq13Y\nNTXF6OjogvZ17S9/yV8CdwWuB9i9e0H70srRq5qKBC6MiMmIeH617O6Z+ROAzPwxcLdq+eGURHja\nNdUySdI8DA8Pc+74OONDQ5yzbh3jQ0OcOz6+4OaKAyI4FfhvwKnV/1rdelVTcWxmXhsRw8AFEfFd\nSqLRat4dJM4666x9f2/atIlNmzYtJkZJqk2z2aTRaDA6OtrTPgdbtm7l+BNOWHQsjUaDuw8NsX7P\nHqDUfNztDneg0WgMZJ+Kfnl/5rJ9+3a2b9/e6zBm1JOOmvsFEHEmcBPwfEo/i59ExD2AT2fmkRFx\nOpCZ+cZq+08AZ2bml9r2Y0dNSX1pYmKCU8fGOGztWq7bs4dzx8fZsnVrr8NalJXUUXOQ359+66i5\n7ElFRBwEHJCZN0XEwcAFwGuB44HrM/ONEfFK4JDMPL3qqHk+8ChKs8eFwBHtGYRJhaR+tJI+fNtt\nm5jglLExDl2zhl1TUwP1YTxt0N+ffksqetH8cXfggxGR1fOfn5kXRMRXgPdFxMnADsqIDzLzioh4\nH3AFMAW8yOxB0qDYN+Ji925g/xEXg/ChNZu6mlJ6aSW/P72w7ElFZv4AeFiH5dcDJ8zwmNcDr1/i\n0CQNiMW0fy9323mdIy760fDw8EB/+K7092e5OaOmpIGymFkcezEDZN0jLlQv35969byjZl3sUyGt\nfItp/+512/mgjC5YrQb1/bFPhSQt0GLav3vddj7ozQQrne9PPWz+kDQwWtu/YX7t34t5rKTuWFMh\naWBMt3+3D2Ps5hvmYh4rqTv2qZA0cAZp9Ie0lPqtT4VJhSRJA6rfkgr7VEiSpFqYVEiSBk6z2WRy\ncpJms9nrUNTCpEKSNFB6MYmZumOfCknSwOj1JGb9xj4VkiQt0L5JzKr/WycxU++ZVEiSBoaTmPU3\nJ7+SJA0MJzHrb/apkCQNHCcxK/qtT4VJhaQVa7V98Ky28qr/kgr7VEhakVbbsMPVVl71J2sqJK04\nq23Y4Worr25lTYUkLbHVNuxwtZVX/cukQtKKs9qGHa628qp/OaRU0oqz2oYdrrbyqn/Zp0LSirVS\nRkN0W46VUl51r9/6VJhUSFIfm5iY4NSxMQ5bu5br9uzh3PFxtmzd2uuw1CdMKpaISYWklcZRHZpL\nvyUVdtSUpD7lqA4NGpMKSepTjurQoHH0hyT1KUd1aNDYp0KS+pyjOjSTfutTYVIhSdKA6rekwj4V\nkiSpFiYVkiSpFiYVkiSpFiYVkiSpFiYVkiSpFiYVkiSpFiYVkiSpFiYVkiSpFiYVktSlZrPJ5OQk\nzWaz16FIfcmkQpK6MDExwYaREbZs3syGkRG2TUz0OiSp7zhNtyTNodlssmFkhLHdu1lPuVvo+NAQ\nV+3Y4b041FNO0y1JS2ApmyYajQaHrV3L+ur/9cCha9bQaDRqfy5pkJlUSBp4S900MTo6ynV79rCz\n+n8nsGtqitHR0VqfRxp0Nn9IGmjL1TSxbWKCU8bGOHTNGnZNTXHu+Dhbtm6tbf/SQvRb88eBvQ5A\nkhZjX9PE7t3A/k0TdSYVW7Zu5fgTTqDRaDA6OmpfCqkDkwpJA621aWK6pmKpmiaGh4dNJqRZmFRI\nGmjDw8OcOz5+m6YJP/yl5WefCkkrQrPZtGlCq06/9akwqZAkaUD1W1LhkFJJklQLkwpJklQLkwpJ\n6sCbh0nzZ1IhSW28eZi0MHbUlKQW3jxMg8SOmpLUx7x5mLRwJhWS1MKbh0kL17OkIiIOiIjLI+LD\n1f8Pi4gvVMu+HBGPbNn2jIi4MiK+HREn9ipmSSvf9Ayd40NDnLNuHeNDQ87QKXWpZ30qIuI04BHA\nusx8SkR8EnhzZl4QEScBf5qZx0XEg4DzgY3AvYCLgCPaO1DYp0JSnZyhU4PAPhVARNwLeBLwzpbF\ntwB3rv6+C3BN9fdTgG2ZeXNmNoArgaOXKVRJq9Tw8DAbN240oZDmoVc3FDsbeAW3JhEApwGfjIg3\nAwE8plp+OPCFlu2uqZZJkqQ+suxJRUT8LvCTzPxqRGxqWfVC4OWZ+aGIeAZwHrB5Pvs+66yz9v29\nadMmNm3aNOO2kiQNmu3bt7N9+/ZehzGjZe9TERF/ATwHuBkYAu4EfBB4cmYe0rLdDZl5l4g4HcjM\nfGO1/BPAmZn5pbb92qdCkrSqrPo+FZn5qsy8d2beF9gCXJyZzwV2RsQTACLieErfCYAPA1siYm1E\n3AfYAHx5ueOWJEmz61Wfik7+BHhLRNwO+FX1P5l5RUS8D7gCmAJeZJWEJEn9x2m6JUkaUKu++UOS\nJK1MJhWSJKkWJhWSJKkWJhWSJKkWJhWSJKkWJhWSJKkWJhWSJKkWJhWSJKkWJhWSJKkWJhWSJKkW\nJhWSJKkWJhWSJKkWJhWSJKkWJhWSJKkWJhWSJKkWJhWSJKkWJhWSJKkWJhWSJKkWJhWSJKkWJhWS\nJKkWJhWSJKkWJhWSJKkWJhWSJKkWJhWSJKkWJhWSJKkWJhWSJKkWJhWSJKkWJhWSJKkWJhWSJKkW\nJhWSJKkWJhWSJKkWJhWSJKkWJhWSJKkWJhWSJKkWJhWSJKkWJhWSJKkWJhWSJKkWJhWSJKkWJhWS\nJKkWJhWSJKkWJhWSJKkWJhWSJKkWJhWSJKkWJhWSJKkWJhWSJKkWJhWSJKkWJhWSJKkWJhWSJKkW\nJhWSJKkWJhWSJKkWJhWSJKkWJhWSJKkWJhWSJKkWJhWSJKkWJhWSJKkWPUsqIuKAiLgsIj7csuyl\nEfHtiPhGRLyhZfkZEXFlte7E3kS8PLZv397rEGqxEsqxEsoAK6McK6EMYDn6yUooQz/qZU3Fy4Er\npv+JiOOA3wN+KzN/C/iravmRwLOAI4GTgHMiIpY/3OWxUg70lVCOlVAGWBnlWAllAMvRT1ZCGfpR\nT5KKiLgX8CTgnS2LTwXekJk3A2TmddXypwLbMvPmzGwAVwJHL2O4kiSpC72qqTgbeAWQLcvuDzw+\nIr4YEZ+OiEdUyw8Hrm7Z7ppqmSRJ6iORmXNvVecTRvwucFJmviQiNgH/PTOfEhHfAC7OzJdHxEbg\nvZl534j4W+ALmfme6vHvBD6WmR9o2+/yFkSSpD6QmX3TJeDAHjznscBTIuJJwBBwp4h4N6U24gMA\nmTkZEXsj4lBKzcS9Wx5/r2rZfvrpRZUkaTVa9uaPzHxVZt47M+8LbKHUTvwR8K/AEwEi4v7A2szc\nBXwYeHZErI2I+wAbgC8vd9ySJGl2vaipmMl5wHlVM8ivgT8CyMwrIuJ9lJEiU8CLcrnbbCRJ0pyW\nvU+FJElamVbEjJoR8TsR8Z2I+I+IeGWv4+lWRIxHxE8i4ustyw6JiAsi4rsR8cmIuHMvY5xLRNwr\nIi6OiG9Vk5a9rFo+MOWIiNtHxJci4vKqDGdWywemDK3aJ5YbxHJERCMivla9J1+ulg1UOSLizhHx\n/oXJ8IEAAAdMSURBVGrSvm9FxKMGsAz3r96Dy6rfN0bEywawHKdFxDcj4usRcX7VnD5QZQCIiJdX\n16i+vdYOfFIREQcAbwV+G3gwsDUiHtjbqLr2LkrcrU4HLsrMBwAXA2cse1TzczNlBM+DgUcDL65e\n/4EpR2b+GjguMx8OPAw4KSKOZoDK0Ga/ieUYzHLcAmzKzIdn5vS8NINWjrdQRqodCTwU+A4DVobM\n/I/qPTgKeATwC+CDDFA5ImI98FLgqMx8CKXZfysDVAaAiHgwMAY8knKdenJE3I9+K0dmDvQPcAzw\n8Zb/Twde2eu45hH/CPD1lv+/A9y9+vsewHd6HeM8y/Mh4IRBLQdwEPAVYOMgloEyOupCYBPw4UE9\npoAfAIe2LRuYcgDrgO91WD4wZegQ+4nAJYNWDmA9sAM4hJJQfHgQr1HAM4B3tPz/asp8T9/up3IM\nfE0Ft50c60cM9uRYd8vMnwBk5o+Bu/U4nq5FxCglg/4i5SAfmHJUTQaXAz8GLszMSQasDJVOE8sN\nYjkSuDAiJiPi+dWyQSrHfYDrIuJdVdPB2yPiIAarDO2eDbyn+ntgypGZO4E3Az+kTEdwY2ZexACV\nofJN4HFVc8dBlFmpf4M+K8dKSCpWuoHoSRsRdwT+GXh5Zt7EbePu63Jk5i1Zmj/uBRxdVTUOVBmq\nieV+kplfBWabt6Wvy1E5NkuV+5MoTWqPY7DejwOBo4C3VeX4BaUWdZDKsE9ErAGeAry/WjQw5YiI\nu1Bu9zBCqbU4OCL+kAEqA0Bmfgd4I6Um8mPA5cDeTpsuZ1zt/n979xZiVRmGcfz/OKajJdWonYQO\nFhRhdCMVdpFkpRKRdlF0EZYUdi4bEopICgaECvEiLKgkzIJCSr2J6CBigVjRAY2JmBo1Sk0zJWqs\nfLt4167tpDnqmtl7jc8PNjOzda/9vaxhePb3rfW9gyFU9GlzrArZKulUAEmnAdsaPJ5DkjSUDBRL\nI2JF8XTl6gCIiN3AamAa1auhtrFcF/AacKWkpcCPFauDiPih+LqdXFK7hGqdjy3A5oj4uPh5ORky\nqlRDvenAJ/FvT6Yq1XEV0BUROyPiL/KakElUqwYAImJJREyMiMnALqCTJqtjMISK9cB5ks6SNIzc\nUGvlIV7TTMT+nypXArcW388iNwVrdi8BGyNiUd1zlalD0pjaFdOSRgBXk+uUlakBDrqx3C3AKipU\nh6SRxcwXko4n1/K/pELno5iO3qzcyA9gCrCBCtXQy81kUK2pUh2bgMsktUoSeS42Uq0aAJA0tvh6\nJjCTXI5qqjoGxT4VkqaRV1oPAV6MiAUNHlKfSHqVvKBuNLAVmE9+KnuDXCvrBm6MiF2NGuOhSLoc\nWEP+0Y/i8Si56+nrVKAOSRcBL5O/P0PIvjMdktqoSA29SboCaI/sq1OpOpQ7575J/i4NBZZFxIIK\n1nEx2Yn5OKALuA1ooUI1QIY8cqzjI2JP8VzVzsV8Mmj/QS4b3A6MokI1AEhaA7SRdcyNiNXNdi4G\nRagwMzOzxhsMyx9mZmbWBBwqzMzMrBQOFWZmZlYKhwozMzMrhUOFmZmZlcKhwszMzErhUGF2jJM0\nS9K+ukePpG8kdUgafgTHu17S3P4Yq5k1t6GNHoCZNYUguyB+T24KNJNsoXwC2Ur9cMwgdy1cWOYA\nzaz5OVSYWc3nEdFVfP9escX0bA4/VJjZMcrLH2Z2MJ8CIyWNgX96pDwnqVPSr5I2SVom6YzaCyQt\nIfsPjKtbTumq+/faMbZI+l3SV5LuGPDKzKxfeKbCzA7mHOAXYEfxcxvQQ/Z22QacDrQDayVdEBF7\ngSeBscBE4DqyWV4PgKRRwIfAcOBx4DtgKrBY0rCIeHZgyjKz/uJQYWY1LZJayGsqbiCvq3ggigZB\nEfE1dUshkoYAH5FdIKcDKyLiW0nbgb0Rsb7X8R8kmx5NqFtmeV/SycB8SYsjYl8/1mdm/czLH2YG\nOaPQSXY/3El213w+Ihbv95+kuyR9JmkP8CcZKAI4vw/vMRVYB3RLaqk9gHfITr0XllaNmTWEZyrM\nDDIYzCDv/hgLPATcI2ldRLwCIOk+YBHwNBkEfiY/mKwDWvvwHqcA55LB5UDvP/ooazCzBnOoMLOa\nDbVlCUkfAF8AT0laHhG/ATcB70bEvNoLJJ19GMffAWwF7idnRnrrPMJxm1mTcKgws/+IiL2SHgZW\nAHcDzwAjyQs3680mZxnq9QAjDnDYt4F7gc0R8VO5IzazZuBrKszsgCJiFbAeaJfUSoaCqZIekTRF\nUgc5e9HbRqBN0p2SJkqaUDy/kLxrZK2kOZImS7pWUruktwaiJjPrX56pMLP/8xgZJuYATwAnkndx\ntAKrgWuALvafrXgBuBToAE4CuoHxEbFb0iTydtJ5wDhgF7nssXwAajGzfqbibjEzMzOzo+LlDzMz\nMyuFQ4WZmZmVwqHCzMzMSuFQYWZmZqVwqDAzM7NSOFSYmZlZKRwqzMzMrBQOFWZmZlaKvwH+W6j4\no0AdEwAAAABJRU5ErkJggg==\n",
      "text/plain": [
       "<matplotlib.figure.Figure at 0x110341410>"
      ]
     },
     "metadata": {},
     "output_type": "display_data"
    },
    {
     "data": {
      "image/png": "iVBORw0KGgoAAAANSUhEUgAAAg4AAAICCAYAAACneUVCAAAABHNCSVQICAgIfAhkiAAAAAlwSFlz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\ntv8PUUwtz7feg/MAAAAASUVORK5CYII=\n",
      "text/plain": [
       "<matplotlib.figure.Figure at 0x110384890>"
      ]
     },
     "metadata": {},
     "output_type": "display_data"
    }
   ],
   "source": [
    "fig = plt.figure(figsize=(8,8))\n",
    "axes = fig.gca()\n",
    "axes.set_title('Correlation between Math and Verbal',fontsize = 20)\n",
    "axes.set_xlabel('Math Scores', fontsize = 16)\n",
    "axes.set_ylabel('Verbal Scores', fontsize = 16)\n",
    "plt.scatter(noStateDict['mathColumn'],noStateDict['verbalColumn'], c='darkred')\n",
    "\n",
    "fig1 = plt.figure(figsize=(8,8))\n",
    "axes = fig1.gca()\n",
    "axes.set_title('Correlation between Participation Rate and Verbal',fontsize = 20)\n",
    "axes.set_xlabel('Rate', fontsize = 16)\n",
    "axes.set_ylabel('Verbal Scores', fontsize = 16)\n",
    "plt.scatter(noStateDict['rateColumn'],noStateDict['verbalColumn'], c='darkred')\n",
    "\n",
    "fig2 = plt.figure(figsize=(8,8))\n",
    "axes = fig2.gca()\n",
    "axes.set_title('Correlation between Participation Rate and Math',fontsize = 20)\n",
    "axes.set_xlabel('Rate', fontsize = 16)\n",
    "axes.set_ylabel('Math Scores', fontsize = 16)\n",
    "plt.scatter(noStateDict['rateColumn'],noStateDict['mathColumn'], c='darkred')\n"
   ]
  },
  {
   "cell_type": "markdown",
   "metadata": {},
   "source": [
    "##### 20. Are there any interesting relationships to note?"
   ]
  },
  {
   "cell_type": "code",
   "execution_count": 19,
   "metadata": {
    "collapsed": false
   },
   "outputs": [
    {
     "name": "stdout",
     "output_type": "stream",
     "text": [
      "There seems to be a strong positive correlation for math and verbal score with the exception of one outlier.\n",
      "\n",
      "For both math and verbal scores, scores are lower if the participation rate is higher.\n"
     ]
    }
   ],
   "source": [
    "print \"There seems to be a strong positive correlation for math and verbal score with the exception of one outlier.\\n\"\n",
    "print \"For both math and verbal scores, scores are lower if the participation rate is higher.\""
   ]
  },
  {
   "cell_type": "markdown",
   "metadata": {},
   "source": [
    "##### 21. Create box plots for each variable. "
   ]
  },
  {
   "cell_type": "code",
   "execution_count": 20,
   "metadata": {
    "collapsed": false
   },
   "outputs": [
    {
     "data": {
      "text/plain": [
       "{'boxes': [<matplotlib.lines.Line2D at 0x110f86710>],\n",
       " 'caps': [<matplotlib.lines.Line2D at 0x110f92650>,\n",
       "  <matplotlib.lines.Line2D at 0x110f92c90>],\n",
       " 'fliers': [<matplotlib.lines.Line2D at 0x110f9c950>],\n",
       " 'means': [],\n",
       " 'medians': [<matplotlib.lines.Line2D at 0x110f9c310>],\n",
       " 'whiskers': [<matplotlib.lines.Line2D at 0x110f86910>,\n",
       "  <matplotlib.lines.Line2D at 0x110f86fd0>]}"
      ]
     },
     "execution_count": 20,
     "metadata": {},
     "output_type": "execute_result"
    },
    {
     "data": {
      "image/png": "iVBORw0KGgoAAAANSUhEUgAAAfEAAAHuCAYAAACPsjUzAAAABHNCSVQICAgIfAhkiAAAAAlwSFlz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\nAjDqAAAAAElFTkSuQmCC\n",
      "text/plain": [
       "<matplotlib.figure.Figure at 0x1109489d0>"
      ]
     },
     "metadata": {},
     "output_type": "display_data"
    },
    {
     "data": {
      "image/png": "iVBORw0KGgoAAAANSUhEUgAAAfcAAAHuCAYAAACCrEV0AAAABHNCSVQICAgIfAhkiAAAAAlwSFlz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\n",
      "text/plain": [
       "<matplotlib.figure.Figure at 0x110c67850>"
      ]
     },
     "metadata": {},
     "output_type": "display_data"
    },
    {
     "data": {
      "image/png": "iVBORw0KGgoAAAANSUhEUgAAAfcAAAHuCAYAAACCrEV0AAAABHNCSVQICAgIfAhkiAAAAAlwSFlz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\nqQrf0gAAAABJRU5ErkJggg==\n",
      "text/plain": [
       "<matplotlib.figure.Figure at 0x110ca4a50>"
      ]
     },
     "metadata": {},
     "output_type": "display_data"
    }
   ],
   "source": [
    "fig = plt.figure(figsize=(8,8))\n",
    "axes = fig.gca()\n",
    "axes.set_title('Participation Boxplot',fontsize = 20)\n",
    "axes.set_ylabel('Rate %', fontsize = 16)\n",
    "plt.boxplot(noStateDict['rateColumn'])\n",
    "\n",
    "fig1 = plt.figure(figsize=(8,8))\n",
    "axes = fig1.gca()\n",
    "axes.set_title('Math Scores Boxplot',fontsize = 20)\n",
    "axes.set_ylabel('Math Scores', fontsize = 16)\n",
    "plt.boxplot(noStateDict['mathColumn'])\n",
    "\n",
    "fig2 = plt.figure(figsize=(8,8))\n",
    "axes = fig2.gca()\n",
    "axes.set_title('Verbal Scores Boxplot',fontsize = 20)\n",
    "axes.set_ylabel('Verbal Scores', fontsize = 16)\n",
    "plt.boxplot(noStateDict['verbalColumn'])\n",
    "\n",
    "#plt.boxplot(noStateDict['verbalColumn'])\n",
    "#seaborn"
   ]
  },
  {
   "cell_type": "markdown",
   "metadata": {},
   "source": [
    "##### BONUS: Using Tableau, create a heat map for each variable using a map of the US. "
   ]
  },
  {
   "cell_type": "code",
   "execution_count": 21,
   "metadata": {
    "collapsed": false
   },
   "outputs": [
    {
     "ename": "IOError",
     "evalue": "[Errno 2] No such file or directory: u'/Users/SangYeob/Documents/Pandas/Project/Project 1/assets/Heatmap_Rate.png'",
     "output_type": "error",
     "traceback": [
      "\u001b[0;31m---------------------------------------------------------------------------\u001b[0m",
      "\u001b[0;31mIOError\u001b[0m                                   Traceback (most recent call last)",
      "\u001b[0;32m<ipython-input-21-8acb072dfa0d>\u001b[0m in \u001b[0;36m<module>\u001b[0;34m()\u001b[0m\n\u001b[1;32m      3\u001b[0m \u001b[0;34m\u001b[0m\u001b[0m\n\u001b[1;32m      4\u001b[0m \u001b[0;31m#heatmap for rate\u001b[0m\u001b[0;34m\u001b[0m\u001b[0;34m\u001b[0m\u001b[0m\n\u001b[0;32m----> 5\u001b[0;31m \u001b[0mx\u001b[0m \u001b[0;34m=\u001b[0m \u001b[0mImage\u001b[0m\u001b[0;34m(\u001b[0m\u001b[0mfilename\u001b[0m\u001b[0;34m=\u001b[0m\u001b[0;34m'/Users/SangYeob/Documents/Pandas/Project/Project 1/assets/Heatmap_Rate.png'\u001b[0m\u001b[0;34m)\u001b[0m\u001b[0;34m\u001b[0m\u001b[0m\n\u001b[0m\u001b[1;32m      6\u001b[0m \u001b[0;34m\u001b[0m\u001b[0m\n\u001b[1;32m      7\u001b[0m \u001b[0;31m#heatmap for verbal\u001b[0m\u001b[0;34m\u001b[0m\u001b[0;34m\u001b[0m\u001b[0m\n",
      "\u001b[0;32m/Users/jb3/anaconda/lib/python2.7/site-packages/IPython/core/display.pyc\u001b[0m in \u001b[0;36m__init__\u001b[0;34m(self, data, url, filename, format, embed, width, height, retina, unconfined, metadata)\u001b[0m\n\u001b[1;32m    749\u001b[0m         \u001b[0mself\u001b[0m\u001b[0;34m.\u001b[0m\u001b[0munconfined\u001b[0m \u001b[0;34m=\u001b[0m \u001b[0munconfined\u001b[0m\u001b[0;34m\u001b[0m\u001b[0m\n\u001b[1;32m    750\u001b[0m         \u001b[0mself\u001b[0m\u001b[0;34m.\u001b[0m\u001b[0mmetadata\u001b[0m \u001b[0;34m=\u001b[0m \u001b[0mmetadata\u001b[0m\u001b[0;34m\u001b[0m\u001b[0m\n\u001b[0;32m--> 751\u001b[0;31m         \u001b[0msuper\u001b[0m\u001b[0;34m(\u001b[0m\u001b[0mImage\u001b[0m\u001b[0;34m,\u001b[0m \u001b[0mself\u001b[0m\u001b[0;34m)\u001b[0m\u001b[0;34m.\u001b[0m\u001b[0m__init__\u001b[0m\u001b[0;34m(\u001b[0m\u001b[0mdata\u001b[0m\u001b[0;34m=\u001b[0m\u001b[0mdata\u001b[0m\u001b[0;34m,\u001b[0m \u001b[0murl\u001b[0m\u001b[0;34m=\u001b[0m\u001b[0murl\u001b[0m\u001b[0;34m,\u001b[0m \u001b[0mfilename\u001b[0m\u001b[0;34m=\u001b[0m\u001b[0mfilename\u001b[0m\u001b[0;34m)\u001b[0m\u001b[0;34m\u001b[0m\u001b[0m\n\u001b[0m\u001b[1;32m    752\u001b[0m \u001b[0;34m\u001b[0m\u001b[0m\n\u001b[1;32m    753\u001b[0m         \u001b[0;32mif\u001b[0m \u001b[0mretina\u001b[0m\u001b[0;34m:\u001b[0m\u001b[0;34m\u001b[0m\u001b[0m\n",
      "\u001b[0;32m/Users/jb3/anaconda/lib/python2.7/site-packages/IPython/core/display.pyc\u001b[0m in \u001b[0;36m__init__\u001b[0;34m(self, data, url, filename)\u001b[0m\n\u001b[1;32m    386\u001b[0m         \u001b[0mself\u001b[0m\u001b[0;34m.\u001b[0m\u001b[0mfilename\u001b[0m \u001b[0;34m=\u001b[0m \u001b[0mNone\u001b[0m \u001b[0;32mif\u001b[0m \u001b[0mfilename\u001b[0m \u001b[0;32mis\u001b[0m \u001b[0mNone\u001b[0m \u001b[0;32melse\u001b[0m \u001b[0municode_type\u001b[0m\u001b[0;34m(\u001b[0m\u001b[0mfilename\u001b[0m\u001b[0;34m)\u001b[0m\u001b[0;34m\u001b[0m\u001b[0m\n\u001b[1;32m    387\u001b[0m \u001b[0;34m\u001b[0m\u001b[0m\n\u001b[0;32m--> 388\u001b[0;31m         \u001b[0mself\u001b[0m\u001b[0;34m.\u001b[0m\u001b[0mreload\u001b[0m\u001b[0;34m(\u001b[0m\u001b[0;34m)\u001b[0m\u001b[0;34m\u001b[0m\u001b[0m\n\u001b[0m\u001b[1;32m    389\u001b[0m         \u001b[0mself\u001b[0m\u001b[0;34m.\u001b[0m\u001b[0m_check_data\u001b[0m\u001b[0;34m(\u001b[0m\u001b[0;34m)\u001b[0m\u001b[0;34m\u001b[0m\u001b[0m\n\u001b[1;32m    390\u001b[0m \u001b[0;34m\u001b[0m\u001b[0m\n",
      "\u001b[0;32m/Users/jb3/anaconda/lib/python2.7/site-packages/IPython/core/display.pyc\u001b[0m in \u001b[0;36mreload\u001b[0;34m(self)\u001b[0m\n\u001b[1;32m    771\u001b[0m         \u001b[0;34m\"\"\"Reload the raw data from file or URL.\"\"\"\u001b[0m\u001b[0;34m\u001b[0m\u001b[0m\n\u001b[1;32m    772\u001b[0m         \u001b[0;32mif\u001b[0m \u001b[0mself\u001b[0m\u001b[0;34m.\u001b[0m\u001b[0membed\u001b[0m\u001b[0;34m:\u001b[0m\u001b[0;34m\u001b[0m\u001b[0m\n\u001b[0;32m--> 773\u001b[0;31m             \u001b[0msuper\u001b[0m\u001b[0;34m(\u001b[0m\u001b[0mImage\u001b[0m\u001b[0;34m,\u001b[0m\u001b[0mself\u001b[0m\u001b[0;34m)\u001b[0m\u001b[0;34m.\u001b[0m\u001b[0mreload\u001b[0m\u001b[0;34m(\u001b[0m\u001b[0;34m)\u001b[0m\u001b[0;34m\u001b[0m\u001b[0m\n\u001b[0m\u001b[1;32m    774\u001b[0m             \u001b[0;32mif\u001b[0m \u001b[0mself\u001b[0m\u001b[0;34m.\u001b[0m\u001b[0mretina\u001b[0m\u001b[0;34m:\u001b[0m\u001b[0;34m\u001b[0m\u001b[0m\n\u001b[1;32m    775\u001b[0m                 \u001b[0mself\u001b[0m\u001b[0;34m.\u001b[0m\u001b[0m_retina_shape\u001b[0m\u001b[0;34m(\u001b[0m\u001b[0;34m)\u001b[0m\u001b[0;34m\u001b[0m\u001b[0m\n",
      "\u001b[0;32m/Users/jb3/anaconda/lib/python2.7/site-packages/IPython/core/display.pyc\u001b[0m in \u001b[0;36mreload\u001b[0;34m(self)\u001b[0m\n\u001b[1;32m    404\u001b[0m         \u001b[0;34m\"\"\"Reload the raw data from file or URL.\"\"\"\u001b[0m\u001b[0;34m\u001b[0m\u001b[0m\n\u001b[1;32m    405\u001b[0m         \u001b[0;32mif\u001b[0m \u001b[0mself\u001b[0m\u001b[0;34m.\u001b[0m\u001b[0mfilename\u001b[0m \u001b[0;32mis\u001b[0m \u001b[0;32mnot\u001b[0m \u001b[0mNone\u001b[0m\u001b[0;34m:\u001b[0m\u001b[0;34m\u001b[0m\u001b[0m\n\u001b[0;32m--> 406\u001b[0;31m             \u001b[0;32mwith\u001b[0m \u001b[0mopen\u001b[0m\u001b[0;34m(\u001b[0m\u001b[0mself\u001b[0m\u001b[0;34m.\u001b[0m\u001b[0mfilename\u001b[0m\u001b[0;34m,\u001b[0m \u001b[0mself\u001b[0m\u001b[0;34m.\u001b[0m\u001b[0m_read_flags\u001b[0m\u001b[0;34m)\u001b[0m \u001b[0;32mas\u001b[0m \u001b[0mf\u001b[0m\u001b[0;34m:\u001b[0m\u001b[0;34m\u001b[0m\u001b[0m\n\u001b[0m\u001b[1;32m    407\u001b[0m                 \u001b[0mself\u001b[0m\u001b[0;34m.\u001b[0m\u001b[0mdata\u001b[0m \u001b[0;34m=\u001b[0m \u001b[0mf\u001b[0m\u001b[0;34m.\u001b[0m\u001b[0mread\u001b[0m\u001b[0;34m(\u001b[0m\u001b[0;34m)\u001b[0m\u001b[0;34m\u001b[0m\u001b[0m\n\u001b[1;32m    408\u001b[0m         \u001b[0;32melif\u001b[0m \u001b[0mself\u001b[0m\u001b[0;34m.\u001b[0m\u001b[0murl\u001b[0m \u001b[0;32mis\u001b[0m \u001b[0;32mnot\u001b[0m \u001b[0mNone\u001b[0m\u001b[0;34m:\u001b[0m\u001b[0;34m\u001b[0m\u001b[0m\n",
      "\u001b[0;31mIOError\u001b[0m: [Errno 2] No such file or directory: u'/Users/SangYeob/Documents/Pandas/Project/Project 1/assets/Heatmap_Rate.png'"
     ]
    }
   ],
   "source": [
    "from IPython.display import Image\n",
    "from IPython.display import display\n",
    "\n",
    "#heatmap for rate\n",
    "x = Image(filename='/Users/SangYeob/Documents/Pandas/Project/Project 1/assets/Heatmap_Rate.png')\n",
    "\n",
    "#heatmap for verbal\n",
    "y = Image(filename='/Users/SangYeob/Documents/Pandas/Project/Project 1/assets/Heatmap_Verbal.png')\n",
    "\n",
    "#heatmap for math\n",
    "z = Image(filename='/Users/SangYeob/Documents/Pandas/Project/Project 1/assets/Heatmap_Math.png')\n",
    "\n",
    "#display all the images\n",
    "display(x)\n",
    "display(y)\n",
    "display(z)\n",
    "\n",
    "#I was hoping to display these images using a for loop somehow. Couldn't find a way.\n",
    "\n",
    "#JB if there's a pattern in the path, you can call them Graph[1-5] and loop for i range(1:6), etc."
   ]
  },
  {
   "cell_type": "markdown",
   "metadata": {},
   "source": [
    "Score: 9/10\n",
    "Identify: Discuss Data:3\n",
    "Acquire: Load Data with Python:2\n",
    "Present: Visualize Data:3\n",
    "Bonus: Use Tableau:1"
   ]
  }
 ],
 "metadata": {
  "kernelspec": {
   "display_name": "Python 2",
   "language": "python",
   "name": "python2"
  },
  "language_info": {
   "codemirror_mode": {
    "name": "ipython",
    "version": 2
   },
   "file_extension": ".py",
   "mimetype": "text/x-python",
   "name": "python",
   "nbconvert_exporter": "python",
   "pygments_lexer": "ipython2",
   "version": "2.7.11"
  }
 },
 "nbformat": 4,
 "nbformat_minor": 0
}
