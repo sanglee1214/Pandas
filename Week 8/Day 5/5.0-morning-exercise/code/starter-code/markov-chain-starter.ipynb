{
 "cells": [
  {
   "cell_type": "markdown",
   "metadata": {},
   "source": [
    "Translate this [image](https://upload.wikimedia.org/wikipedia/commons/9/95/Finance_Markov_chain_example_state_space.svg) of a Markov process into a transition matrix.  If the initial state of the system (time=0) is \"bear,\" what will be the probability distribution at time=3?  What about time=infinity (the steady state probability distribution)."
   ]
  },
  {
   "cell_type": "code",
   "execution_count": 16,
   "metadata": {
    "collapsed": false
   },
   "outputs": [],
   "source": [
    "import numpy as np\n",
    "from matplotlib import pyplot\n",
    "%matplotlib inline\n",
    "\n",
    "P = np.matrix([[0.9, 0.075, 0.025],\n",
    "               [0.15, 0.8, 0.05],\n",
    "               [0.25, 0.25, 0.5],\n",
    "               ])"
   ]
  },
  {
   "cell_type": "code",
   "execution_count": 17,
   "metadata": {
    "collapsed": false
   },
   "outputs": [
    {
     "data": {
      "text/plain": [
       "matrix([[ 0.9  ,  0.075,  0.025],\n",
       "        [ 0.15 ,  0.8  ,  0.05 ],\n",
       "        [ 0.25 ,  0.25 ,  0.5  ]])"
      ]
     },
     "execution_count": 17,
     "metadata": {},
     "output_type": "execute_result"
    }
   ],
   "source": [
    "P"
   ]
  },
  {
   "cell_type": "code",
   "execution_count": 30,
   "metadata": {
    "collapsed": false
   },
   "outputs": [
    {
     "data": {
      "image/png": "[encoded data removed]",
      "text/plain": [
       "<matplotlib.figure.Figure at 0x110a383d0>"
      ]
     },
     "metadata": {},
     "output_type": "display_data"
    }
   ],
   "source": [
    "import numpy as np\n",
    "from matplotlib import pyplot\n",
    "%matplotlib inline\n",
    "\n",
    "P = np.matrix([[0.9, 0.075, 0.025],\n",
    "               [0.15, 0.8, 0.05],\n",
    "               [0.25, 0.25, 0.5],\n",
    "               ])\n",
    "\n",
    "plot_data = []\n",
    "v = np.matrix([[0, 1, 0]])\n",
    "\n",
    "for step in range(20):\n",
    "    result = v * P**step\n",
    "    plot_data.append(np.array(result).flatten())\n",
    "\n",
    "# Convert the data format\n",
    "plot_data = np.array(plot_data)\n",
    "\n",
    "# Create the plot\n",
    "pyplot.figure(1)\n",
    "pyplot.xlabel('Steps')\n",
    "pyplot.ylabel('Probability')\n",
    "lines = []\n",
    "for i, shape in zip(range(3), ['x', 'h', 'r+']):\n",
    "    line = pyplot.plot(plot_data[:, i], shape,label=\"S%i\" % (i+1))\n",
    "    lines.append(line)\n",
    "\n",
    "pyplot.show()"
   ]
  },
  {
   "cell_type": "code",
   "execution_count": 32,
   "metadata": {
    "collapsed": false
   },
   "outputs": [
    {
     "data": {
      "image/png": "[encoded data removed]",
      "text/plain": [
       "<matplotlib.figure.Figure at 0x10edf5110>"
      ]
     },
     "metadata": {},
     "output_type": "display_data"
    }
   ],
   "source": [
    "plot_data = []\n",
    "v = np.matrix([[0, 1, 0]])\n",
    "\n",
    "for step in range(999):\n",
    "    result = v * P**step\n",
    "    plot_data.append(np.array(result).flatten())\n",
    "\n",
    "# Convert the data format\n",
    "plot_data = np.array(plot_data)\n",
    "\n",
    "# Create the plot\n",
    "pyplot.figure(1)\n",
    "pyplot.xlabel('Steps')\n",
    "pyplot.ylabel('Probability')\n",
    "lines = []\n",
    "for i, shape in zip(range(3), ['x', 'h', 'r+']):\n",
    "    line = pyplot.plot(plot_data[:, i], shape,label=\"S%i\" % (i+1))\n",
    "    lines.append(line)\n",
    "\n",
    "#pyplot.legend(handles=lines, loc=1)\n",
    "pyplot.show()"
   ]
  },
  {
   "cell_type": "code",
   "execution_count": 34,
   "metadata": {
    "collapsed": false
   },
   "outputs": [
    {
     "data": {
      "image/png": "[encoded data removed]",
      "text/plain": [
       "<matplotlib.figure.Figure at 0x10f739b10>"
      ]
     },
     "metadata": {},
     "output_type": "display_data"
    }
   ],
   "source": [
    "plot_data = []\n",
    "v = np.matrix([[1, 0, 0]])\n",
    "\n",
    "for step in range(20):\n",
    "    result = v * P**step\n",
    "    plot_data.append(np.array(result).flatten())\n",
    "\n",
    "# Convert the data format\n",
    "plot_data = np.array(plot_data)\n",
    "\n",
    "# Create the plot\n",
    "pyplot.figure(1)\n",
    "pyplot.xlabel('Steps')\n",
    "pyplot.ylabel('Probability')\n",
    "lines = []\n",
    "for i, shape in zip(range(3), ['x', 'h', 'r+']):\n",
    "    line = pyplot.plot(plot_data[:, i], shape,label=\"S%i\" % (i+1))\n",
    "    lines.append(line)\n",
    "\n",
    "#pyplot.legend(handles=lines, loc=1)\n",
    "pyplot.show()"
   ]
  },
  {
   "cell_type": "code",
   "execution_count": null,
   "metadata": {
    "collapsed": true
   },
   "outputs": [],
   "source": []
  }
 ],
 "metadata": {
  "kernelspec": {
   "display_name": "Python 2",
   "language": "python",
   "name": "python2"
  },
  "language_info": {
   "codemirror_mode": {
    "name": "ipython",
    "version": 2
   },
   "file_extension": ".py",
   "mimetype": "text/x-python",
   "name": "python",
   "nbconvert_exporter": "python",
   "pygments_lexer": "ipython2",
   "version": "2.7.12"
  }
 },
 "nbformat": 4,
 "nbformat_minor": 0
}
