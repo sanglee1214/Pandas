{
 "cells": [
  {
   "cell_type": "markdown",
   "metadata": {},
   "source": [
    "# hierarchical clustering from scratch!\n",
    "Writing your own hierarchical clustering algorithm will reinforce your understanding of how it works, improve your Python skills, and it's not as hard as you think.\n",
    "## Refresher on how (agglomerative) hierarchical clustering works\n",
    "Start off by treating each point as its own cluster.  The two closest points get joined into a cluster.  Repeat, but now a \"point\" can be a point or a cluster.\n",
    "## Initialize the clusters\n",
    "We will start out with two big clusters, as in the k-means-from-scratch exercise."
   ]
  },
  {
   "cell_type": "code",
   "execution_count": 5,
   "metadata": {
    "collapsed": true
   },
   "outputs": [],
   "source": [
    "import random\n",
    "import numpy as np\n",
    "from matplotlib import pyplot as plt\n",
    "import pandas as pd\n",
    "from scipy.spatial import distance\n",
    "%matplotlib inline"
   ]
  },
  {
   "cell_type": "code",
   "execution_count": 6,
   "metadata": {
    "collapsed": false
   },
   "outputs": [
    {
     "data": {
      "image/png": "[encoded data removed]",
      "text/plain": [
       "<matplotlib.figure.Figure at 0x115a9acd0>"
      ]
     },
     "metadata": {},
     "output_type": "display_data"
    }
   ],
   "source": [
    "# Create points\n",
    "sizeOfClusters = 5\n",
    "\n",
    "cluster1 = pd.DataFrame(columns=[\"x\",\"y\",\"cluster\",\"color\",\"centroid\"])\n",
    "for i in range(sizeOfClusters):\n",
    "    # This will make a cluster of points centered around (0,0), with sd = 1\n",
    "    x = random.gauss(0,1) # gauss(mean, sd) (guassian distribution <=> normal distribution)\n",
    "    y = random.gauss(0,1)\n",
    "    cluster1.loc[i] = [x,y,1,'bo',np.array([x,y])]\n",
    "    \n",
    "cluster2 = pd.DataFrame(columns=[\"x\",\"y\",\"cluster\",\"color\",\"centroid\"])\n",
    "for i in range(sizeOfClusters):\n",
    "    # This will make a cluster of points centered around (5,5), with sd = 1\n",
    "    x = random.gauss(5,1)\n",
    "    y = random.gauss(5,1)\n",
    "    cluster2.loc[i] = [x,y,2,'r+',np.array([x,y])]\n",
    "\n",
    "plt.plot(cluster1.x,cluster1.y,'bo')\n",
    "plt.plot(cluster2.x,cluster2.y,'r+')\n",
    "plt.show()"
   ]
  },
  {
   "cell_type": "code",
   "execution_count": 7,
   "metadata": {
    "collapsed": false
   },
   "outputs": [
    {
     "data": {
      "image/png": "[encoded data removed]",
      "text/plain": [
       "<matplotlib.figure.Figure at 0x1184b7c10>"
      ]
     },
     "metadata": {},
     "output_type": "display_data"
    }
   ],
   "source": [
    "# Now we combine the datasets, and you have to hierarchically cluster them.\n",
    "clusterF = pd.concat([cluster1,cluster2]).reset_index(drop=True)\n",
    "clusterF.cluster = range(len(clusterF)) # Each starts out as its own cluster.\n",
    "# We give them all distinct colors so we can distinguish between the clusters.\n",
    "colors = ['bo', 'go', 'ro', 'co', 'mo', 'b+', 'g+', 'r+', 'c+', 'm+']\n",
    "clusterF[\"color\"] = colors\n",
    "for i in range(len(clusterF)):\n",
    "    plt.plot(clusterF.loc[i,\"x\"],clusterF.loc[i,\"y\"],clusterF.loc[i,\"color\"])\n",
    "plt.show()"
   ]
  },
  {
   "cell_type": "code",
   "execution_count": 8,
   "metadata": {
    "collapsed": false
   },
   "outputs": [
    {
     "data": {
      "text/html": [
       "<div>\n",
       "<table border=\"1\" class=\"dataframe\">\n",
       "  <thead>\n",
       "    <tr style=\"text-align: right;\">\n",
       "      <th></th>\n",
       "      <th>x</th>\n",
       "      <th>y</th>\n",
       "      <th>cluster</th>\n",
       "      <th>color</th>\n",
       "      <th>centroid</th>\n",
       "    </tr>\n",
       "  </thead>\n",
       "  <tbody>\n",
       "    <tr>\n",
       "      <th>0</th>\n",
       "      <td>0.130271</td>\n",
       "      <td>-0.273974</td>\n",
       "      <td>0</td>\n",
       "      <td>bo</td>\n",
       "      <td>[0.130270919291, -0.273973743829]</td>\n",
       "    </tr>\n",
       "    <tr>\n",
       "      <th>1</th>\n",
       "      <td>-0.471032</td>\n",
       "      <td>0.748640</td>\n",
       "      <td>1</td>\n",
       "      <td>go</td>\n",
       "      <td>[-0.471031500528, 0.748639771476]</td>\n",
       "    </tr>\n",
       "    <tr>\n",
       "      <th>2</th>\n",
       "      <td>-0.576269</td>\n",
       "      <td>0.405788</td>\n",
       "      <td>2</td>\n",
       "      <td>ro</td>\n",
       "      <td>[-0.576268612582, 0.40578783297]</td>\n",
       "    </tr>\n",
       "    <tr>\n",
       "      <th>3</th>\n",
       "      <td>0.001859</td>\n",
       "      <td>-0.095528</td>\n",
       "      <td>3</td>\n",
       "      <td>co</td>\n",
       "      <td>[0.00185885510065, -0.0955279468806]</td>\n",
       "    </tr>\n",
       "    <tr>\n",
       "      <th>4</th>\n",
       "      <td>-0.655027</td>\n",
       "      <td>0.843908</td>\n",
       "      <td>4</td>\n",
       "      <td>mo</td>\n",
       "      <td>[-0.655026723072, 0.843908183542]</td>\n",
       "    </tr>\n",
       "    <tr>\n",
       "      <th>5</th>\n",
       "      <td>5.398393</td>\n",
       "      <td>6.316360</td>\n",
       "      <td>5</td>\n",
       "      <td>b+</td>\n",
       "      <td>[5.39839305886, 6.31635961796]</td>\n",
       "    </tr>\n",
       "    <tr>\n",
       "      <th>6</th>\n",
       "      <td>4.973295</td>\n",
       "      <td>6.458186</td>\n",
       "      <td>6</td>\n",
       "      <td>g+</td>\n",
       "      <td>[4.97329533666, 6.45818578532]</td>\n",
       "    </tr>\n",
       "    <tr>\n",
       "      <th>7</th>\n",
       "      <td>7.479068</td>\n",
       "      <td>6.720214</td>\n",
       "      <td>7</td>\n",
       "      <td>r+</td>\n",
       "      <td>[7.47906805579, 6.72021429879]</td>\n",
       "    </tr>\n",
       "    <tr>\n",
       "      <th>8</th>\n",
       "      <td>5.049552</td>\n",
       "      <td>4.683696</td>\n",
       "      <td>8</td>\n",
       "      <td>c+</td>\n",
       "      <td>[5.0495516206, 4.68369648477]</td>\n",
       "    </tr>\n",
       "    <tr>\n",
       "      <th>9</th>\n",
       "      <td>5.726478</td>\n",
       "      <td>3.717647</td>\n",
       "      <td>9</td>\n",
       "      <td>m+</td>\n",
       "      <td>[5.72647811923, 3.71764690988]</td>\n",
       "    </tr>\n",
       "  </tbody>\n",
       "</table>\n",
       "</div>"
      ],
      "text/plain": [
       "          x         y  cluster color                              centroid\n",
       "0  0.130271 -0.273974        0    bo     [0.130270919291, -0.273973743829]\n",
       "1 -0.471032  0.748640        1    go     [-0.471031500528, 0.748639771476]\n",
       "2 -0.576269  0.405788        2    ro      [-0.576268612582, 0.40578783297]\n",
       "3  0.001859 -0.095528        3    co  [0.00185885510065, -0.0955279468806]\n",
       "4 -0.655027  0.843908        4    mo     [-0.655026723072, 0.843908183542]\n",
       "5  5.398393  6.316360        5    b+        [5.39839305886, 6.31635961796]\n",
       "6  4.973295  6.458186        6    g+        [4.97329533666, 6.45818578532]\n",
       "7  7.479068  6.720214        7    r+        [7.47906805579, 6.72021429879]\n",
       "8  5.049552  4.683696        8    c+         [5.0495516206, 4.68369648477]\n",
       "9  5.726478  3.717647        9    m+        [5.72647811923, 3.71764690988]"
      ]
     },
     "execution_count": 8,
     "metadata": {},
     "output_type": "execute_result"
    }
   ],
   "source": [
    "clusterF"
   ]
  },
  {
   "cell_type": "markdown",
   "metadata": {},
   "source": [
    "## Let's write some pseudo-code\n",
    "#### For an extra challenge to yourself, don't read the pseudo-code; just go off of your understanding of agglomerative hierarchical clustering.\n",
    "1. Begin with each point being its own cluster.\n",
    "2. Calculate the distances between all clusters (remember, a cluster can be one or more points, but initially, will be only one).\n",
    "3. Merge the two closest clusters. (Update the cluster column and the centroids for the newly merged clusters; also, update the color column, for the sake of the plot.)\n",
    "4. Repeat steps 2 and 3 until you have one big cluster.\n",
    "\n",
    "Note: we will use centroid linkage clustering.  That is to say, the distance between cluster `a` and cluster `b` will be defined as the distance between the centroids of the points in `a` and the points in `b` (the centroid of a set of points is just the average of the points).\n",
    "\n",
    "## Now, let's write some real code!"
   ]
  },
  {
   "cell_type": "code",
   "execution_count": 9,
   "metadata": {
    "collapsed": true
   },
   "outputs": [],
   "source": [
    "def notOneCluster(clusterF):\n",
    "    clusterRow0 = clusterF.loc[0,\"cluster\"]\n",
    "    for i in range(len(clusterF)):\n",
    "        if (clusterF.loc[i,\"cluster\"] != clusterRow0):\n",
    "            return True\n",
    "    return False"
   ]
  },
  {
   "cell_type": "code",
   "execution_count": 10,
   "metadata": {
    "collapsed": false,
    "scrolled": false
   },
   "outputs": [
    {
     "name": "stdout",
     "output_type": "stream",
     "text": [
      "          x         y  cluster color                              centroid\n",
      "0  0.130271 -0.273974        0    bo     [0.130270919291, -0.273973743829]\n",
      "1 -0.471032  0.748640        1    go     [-0.471031500528, 0.748639771476]\n",
      "2 -0.576269  0.405788        2    ro      [-0.576268612582, 0.40578783297]\n",
      "3  0.001859 -0.095528        3    co  [0.00185885510065, -0.0955279468806]\n",
      "4 -0.655027  0.843908        4    mo     [-0.655026723072, 0.843908183542]\n",
      "5  5.398393  6.316360        5    b+        [5.39839305886, 6.31635961796]\n",
      "6  4.973295  6.458186        6    g+        [4.97329533666, 6.45818578532]\n",
      "7  7.479068  6.720214        7    r+        [7.47906805579, 6.72021429879]\n",
      "8  5.049552  4.683696        8    c+         [5.0495516206, 4.68369648477]\n",
      "9  5.726478  3.717647        9    m+        [5.72647811923, 3.71764690988]\n"
     ]
    },
    {
     "data": {
      "image/png": "[encoded data removed]",
      "text/plain": [
       "<matplotlib.figure.Figure at 0x115a9aa90>"
      ]
     },
     "metadata": {},
     "output_type": "display_data"
    },
    {
     "name": "stdout",
     "output_type": "stream",
     "text": [
      "          x         y  cluster color                              centroid\n",
      "0  0.130271 -0.273974        0    bo     [0.130270919291, -0.273973743829]\n",
      "1 -0.471032  0.748640        1    go       [-0.5630291118, 0.796273977509]\n",
      "2 -0.576269  0.405788        2    ro      [-0.576268612582, 0.40578783297]\n",
      "3  0.001859 -0.095528        3    co  [0.00185885510065, -0.0955279468806]\n",
      "4 -0.655027  0.843908        1    go       [-0.5630291118, 0.796273977509]\n",
      "5  5.398393  6.316360        5    b+        [5.39839305886, 6.31635961796]\n",
      "6  4.973295  6.458186        6    g+        [4.97329533666, 6.45818578532]\n",
      "7  7.479068  6.720214        7    r+        [7.47906805579, 6.72021429879]\n",
      "8  5.049552  4.683696        8    c+         [5.0495516206, 4.68369648477]\n",
      "9  5.726478  3.717647        9    m+        [5.72647811923, 3.71764690988]\n"
     ]
    },
    {
     "data": {
      "image/png": "[encoded data removed]",
      "text/plain": [
       "<matplotlib.figure.Figure at 0x118657e90>"
      ]
     },
     "metadata": {},
     "output_type": "display_data"
    },
    {
     "name": "stdout",
     "output_type": "stream",
     "text": [
      "          x         y  cluster color                            centroid\n",
      "0  0.130271 -0.273974        0    bo  [0.0660648871958, -0.184750845355]\n",
      "1 -0.471032  0.748640        1    go     [-0.5630291118, 0.796273977509]\n",
      "2 -0.576269  0.405788        2    ro    [-0.576268612582, 0.40578783297]\n",
      "3  0.001859 -0.095528        0    bo  [0.0660648871958, -0.184750845355]\n",
      "4 -0.655027  0.843908        1    go     [-0.5630291118, 0.796273977509]\n",
      "5  5.398393  6.316360        5    b+      [5.39839305886, 6.31635961796]\n",
      "6  4.973295  6.458186        6    g+      [4.97329533666, 6.45818578532]\n",
      "7  7.479068  6.720214        7    r+      [7.47906805579, 6.72021429879]\n",
      "8  5.049552  4.683696        8    c+       [5.0495516206, 4.68369648477]\n",
      "9  5.726478  3.717647        9    m+      [5.72647811923, 3.71764690988]\n"
     ]
    },
    {
     "data": {
      "image/png": "[encoded data removed]",
      "text/plain": [
       "<matplotlib.figure.Figure at 0x118b27a50>"
      ]
     },
     "metadata": {},
     "output_type": "display_data"
    },
    {
     "name": "stdout",
     "output_type": "stream",
     "text": [
      "          x         y  cluster color                            centroid\n",
      "0  0.130271 -0.273974        0    bo  [0.0660648871958, -0.184750845355]\n",
      "1 -0.471032  0.748640        1    go   [-0.567442278728, 0.666111929329]\n",
      "2 -0.576269  0.405788        1    go   [-0.567442278728, 0.666111929329]\n",
      "3  0.001859 -0.095528        0    bo  [0.0660648871958, -0.184750845355]\n",
      "4 -0.655027  0.843908        1    go   [-0.567442278728, 0.666111929329]\n",
      "5  5.398393  6.316360        5    b+      [5.39839305886, 6.31635961796]\n",
      "6  4.973295  6.458186        6    g+      [4.97329533666, 6.45818578532]\n",
      "7  7.479068  6.720214        7    r+      [7.47906805579, 6.72021429879]\n",
      "8  5.049552  4.683696        8    c+       [5.0495516206, 4.68369648477]\n",
      "9  5.726478  3.717647        9    m+      [5.72647811923, 3.71764690988]\n"
     ]
    },
    {
     "data": {
      "image/png": "[encoded data removed]",
      "text/plain": [
       "<matplotlib.figure.Figure at 0x118c83090>"
      ]
     },
     "metadata": {},
     "output_type": "display_data"
    },
    {
     "name": "stdout",
     "output_type": "stream",
     "text": [
      "          x         y  cluster color                            centroid\n",
      "0  0.130271 -0.273974        0    bo  [0.0660648871958, -0.184750845355]\n",
      "1 -0.471032  0.748640        1    go   [-0.567442278728, 0.666111929329]\n",
      "2 -0.576269  0.405788        1    go   [-0.567442278728, 0.666111929329]\n",
      "3  0.001859 -0.095528        0    bo  [0.0660648871958, -0.184750845355]\n",
      "4 -0.655027  0.843908        1    go   [-0.567442278728, 0.666111929329]\n",
      "5  5.398393  6.316360        5    b+      [5.18584419776, 6.38727270164]\n",
      "6  4.973295  6.458186        5    b+      [5.18584419776, 6.38727270164]\n",
      "7  7.479068  6.720214        7    r+      [7.47906805579, 6.72021429879]\n",
      "8  5.049552  4.683696        8    c+       [5.0495516206, 4.68369648477]\n",
      "9  5.726478  3.717647        9    m+      [5.72647811923, 3.71764690988]\n"
     ]
    },
    {
     "data": {
      "image/png": "[encoded data removed]",
      "text/plain": [
       "<matplotlib.figure.Figure at 0x118d53550>"
      ]
     },
     "metadata": {},
     "output_type": "display_data"
    },
    {
     "name": "stdout",
     "output_type": "stream",
     "text": [
      "          x         y  cluster color                           centroid\n",
      "0  0.130271 -0.273974        0    bo  [-0.314039412358, 0.325766819456]\n",
      "1 -0.471032  0.748640        0    bo  [-0.314039412358, 0.325766819456]\n",
      "2 -0.576269  0.405788        0    bo  [-0.314039412358, 0.325766819456]\n",
      "3  0.001859 -0.095528        0    bo  [-0.314039412358, 0.325766819456]\n",
      "4 -0.655027  0.843908        0    bo  [-0.314039412358, 0.325766819456]\n",
      "5  5.398393  6.316360        5    b+     [5.18584419776, 6.38727270164]\n",
      "6  4.973295  6.458186        5    b+     [5.18584419776, 6.38727270164]\n",
      "7  7.479068  6.720214        7    r+     [7.47906805579, 6.72021429879]\n",
      "8  5.049552  4.683696        8    c+      [5.0495516206, 4.68369648477]\n",
      "9  5.726478  3.717647        9    m+     [5.72647811923, 3.71764690988]\n"
     ]
    },
    {
     "data": {
      "image/png": "[encoded data removed]",
      "text/plain": [
       "<matplotlib.figure.Figure at 0x118b0c9d0>"
      ]
     },
     "metadata": {},
     "output_type": "display_data"
    },
    {
     "name": "stdout",
     "output_type": "stream",
     "text": [
      "          x         y  cluster color                           centroid\n",
      "0  0.130271 -0.273974        0    bo  [-0.314039412358, 0.325766819456]\n",
      "1 -0.471032  0.748640        0    bo  [-0.314039412358, 0.325766819456]\n",
      "2 -0.576269  0.405788        0    bo  [-0.314039412358, 0.325766819456]\n",
      "3  0.001859 -0.095528        0    bo  [-0.314039412358, 0.325766819456]\n",
      "4 -0.655027  0.843908        0    bo  [-0.314039412358, 0.325766819456]\n",
      "5  5.398393  6.316360        5    b+     [5.18584419776, 6.38727270164]\n",
      "6  4.973295  6.458186        5    b+     [5.18584419776, 6.38727270164]\n",
      "7  7.479068  6.720214        7    r+     [7.47906805579, 6.72021429879]\n",
      "8  5.049552  4.683696        8    c+     [5.38801486991, 4.20067169732]\n",
      "9  5.726478  3.717647        8    c+     [5.38801486991, 4.20067169732]\n"
     ]
    },
    {
     "data": {
      "image/png": "[encoded data removed]",
      "text/plain": [
       "<matplotlib.figure.Figure at 0x115a923d0>"
      ]
     },
     "metadata": {},
     "output_type": "display_data"
    },
    {
     "name": "stdout",
     "output_type": "stream",
     "text": [
      "          x         y  cluster color                           centroid\n",
      "0  0.130271 -0.273974        0    bo  [-0.314039412358, 0.325766819456]\n",
      "1 -0.471032  0.748640        0    bo  [-0.314039412358, 0.325766819456]\n",
      "2 -0.576269  0.405788        0    bo  [-0.314039412358, 0.325766819456]\n",
      "3  0.001859 -0.095528        0    bo  [-0.314039412358, 0.325766819456]\n",
      "4 -0.655027  0.843908        0    bo  [-0.314039412358, 0.325766819456]\n",
      "5  5.398393  6.316360        5    b+     [5.28692953384, 5.29397219948]\n",
      "6  4.973295  6.458186        5    b+     [5.28692953384, 5.29397219948]\n",
      "7  7.479068  6.720214        7    r+     [7.47906805579, 6.72021429879]\n",
      "8  5.049552  4.683696        5    b+     [5.28692953384, 5.29397219948]\n",
      "9  5.726478  3.717647        5    b+     [5.28692953384, 5.29397219948]\n"
     ]
    },
    {
     "data": {
      "image/png": "[encoded data removed]",
      "text/plain": [
       "<matplotlib.figure.Figure at 0x118db3350>"
      ]
     },
     "metadata": {},
     "output_type": "display_data"
    },
    {
     "name": "stdout",
     "output_type": "stream",
     "text": [
      "          x         y  cluster color                           centroid\n",
      "0  0.130271 -0.273974        0    bo  [-0.314039412358, 0.325766819456]\n",
      "1 -0.471032  0.748640        0    bo  [-0.314039412358, 0.325766819456]\n",
      "2 -0.576269  0.405788        0    bo  [-0.314039412358, 0.325766819456]\n",
      "3  0.001859 -0.095528        0    bo  [-0.314039412358, 0.325766819456]\n",
      "4 -0.655027  0.843908        0    bo  [-0.314039412358, 0.325766819456]\n",
      "5  5.398393  6.316360        5    b+     [5.72535723823, 5.57922061934]\n",
      "6  4.973295  6.458186        5    b+     [5.72535723823, 5.57922061934]\n",
      "7  7.479068  6.720214        5    b+     [5.72535723823, 5.57922061934]\n",
      "8  5.049552  4.683696        5    b+     [5.72535723823, 5.57922061934]\n",
      "9  5.726478  3.717647        5    b+     [5.72535723823, 5.57922061934]\n"
     ]
    },
    {
     "data": {
      "image/png": "[encoded data removed]",
      "text/plain": [
       "<matplotlib.figure.Figure at 0x118b9ecd0>"
      ]
     },
     "metadata": {},
     "output_type": "display_data"
    }
   ],
   "source": [
    "while (notOneCluster(clusterF)):\n",
    "    # Plot within the loop so you can see the progress\n",
    "    print(clusterF)\n",
    "    for i in range(len(clusterF)):\n",
    "        plt.plot(clusterF.loc[i,\"x\"],clusterF.loc[i,\"y\"],clusterF.loc[i,\"color\"])\n",
    "    plt.show()\n",
    "    # Find the minimum distance clusters\n",
    "    minimumDistance = 1000\n",
    "    iMin = -1\n",
    "    iCluster = -1\n",
    "    jCluster = -1\n",
    "    for i in range(len(clusterF)):\n",
    "        for j in range(i+1,len(clusterF)):\n",
    "            if clusterF.loc[i,'cluster'] == clusterF.loc[j,'cluster']:\n",
    "                continue\n",
    "            distanceIJ = distance.euclidean(clusterF.loc[i,'centroid'],clusterF.loc[j,'centroid'])\n",
    "            if distanceIJ < minimumDistance:\n",
    "                minimumDistance = distanceIJ\n",
    "                iCluster = clusterF.loc[i,'cluster']\n",
    "                jCluster = clusterF.loc[j,'cluster']\n",
    "                iMin = i\n",
    "    # Merge the minimum distance clusters: jCluster's become iCluster's.\n",
    "    for i in range(len(clusterF)):\n",
    "        if clusterF.loc[i,'cluster'] == jCluster:\n",
    "            clusterF.loc[i,'cluster'] = iCluster\n",
    "            clusterF.loc[i,'color'] = clusterF.loc[iMin,'color']\n",
    "    # Recalculate the centroids for the newly merged clusters\n",
    "    newCentroid = np.array([0.0,0.0])\n",
    "    count = 0\n",
    "    for i in range(len(clusterF)):\n",
    "        if clusterF.loc[i,'cluster'] == iCluster:\n",
    "            newCentroid += np.array([clusterF.loc[i,'x'],clusterF.loc[i,'y']])\n",
    "            count += 1\n",
    "    newCentroid /= count\n",
    "    for i in range(len(clusterF)):\n",
    "        if clusterF.loc[i,'cluster'] == iCluster:\n",
    "            clusterF.set_value(i,'centroid',newCentroid)\n",
    "            "
   ]
  },
  {
   "cell_type": "code",
   "execution_count": null,
   "metadata": {
    "collapsed": true
   },
   "outputs": [],
   "source": []
  },
  {
   "cell_type": "code",
   "execution_count": null,
   "metadata": {
    "collapsed": true
   },
   "outputs": [],
   "source": []
  }
 ],
 "metadata": {
  "kernelspec": {
   "display_name": "Python 2",
   "language": "python",
   "name": "python2"
  },
  "language_info": {
   "codemirror_mode": {
    "name": "ipython",
    "version": 2
   },
   "file_extension": ".py",
   "mimetype": "text/x-python",
   "name": "python",
   "nbconvert_exporter": "python",
   "pygments_lexer": "ipython2",
   "version": "2.7.12"
  }
 },
 "nbformat": 4,
 "nbformat_minor": 0
}
