{
 "cells": [
  {
   "cell_type": "code",
   "execution_count": 46,
   "metadata": {
    "collapsed": false
   },
   "outputs": [
    {
     "data": {
      "text/html": [
       "<div>\n",
       "<table border=\"1\" class=\"dataframe\">\n",
       "  <thead>\n",
       "    <tr style=\"text-align: right;\">\n",
       "      <th></th>\n",
       "      <th>measurements</th>\n",
       "    </tr>\n",
       "  </thead>\n",
       "  <tbody>\n",
       "    <tr>\n",
       "      <th>0</th>\n",
       "      <td>12.823389</td>\n",
       "    </tr>\n",
       "    <tr>\n",
       "      <th>1</th>\n",
       "      <td>17.531128</td>\n",
       "    </tr>\n",
       "    <tr>\n",
       "      <th>2</th>\n",
       "      <td>12.616247</td>\n",
       "    </tr>\n",
       "    <tr>\n",
       "      <th>3</th>\n",
       "      <td>16.956467</td>\n",
       "    </tr>\n",
       "    <tr>\n",
       "      <th>4</th>\n",
       "      <td>17.407594</td>\n",
       "    </tr>\n",
       "  </tbody>\n",
       "</table>\n",
       "</div>"
      ],
      "text/plain": [
       "   measurements\n",
       "0     12.823389\n",
       "1     17.531128\n",
       "2     12.616247\n",
       "3     16.956467\n",
       "4     17.407594"
      ]
     },
     "execution_count": 46,
     "metadata": {},
     "output_type": "execute_result"
    }
   ],
   "source": [
    "import pandas as pd\n",
    "import matplotlib.pyplot as plt\n",
    "import numpy as np\n",
    "%matplotlib inline \n",
    "\n",
    "df = pd.read_csv(\"../../assets/dataset.csv\")\n",
    "df.head()"
   ]
  },
  {
   "cell_type": "code",
   "execution_count": 47,
   "metadata": {
    "collapsed": false
   },
   "outputs": [
    {
     "data": {
      "text/plain": [
       "(array([ 3.,  1.,  2.,  9.,  5.,  5.,  3.,  0.,  0.,  2.]),\n",
       " array([  0.65420069,   3.73438536,   6.81457003,   9.89475471,\n",
       "         12.97493938,  16.05512405,  19.13530872,  22.21549339,\n",
       "         25.29567807,  28.37586274,  31.45604741]),\n",
       " <a list of 10 Patch objects>)"
      ]
     },
     "execution_count": 47,
     "metadata": {},
     "output_type": "execute_result"
    },
    {
     "data": {
      "image/png": "[encoded data removed]",
      "text/plain": [
       "<matplotlib.figure.Figure at 0x11841b8d0>"
      ]
     },
     "metadata": {},
     "output_type": "display_data"
    }
   ],
   "source": [
    "# create a histogram for the dataFrame column measurements\n",
    "plt.hist(df['measurements'])"
   ]
  },
  {
   "cell_type": "code",
   "execution_count": 86,
   "metadata": {
    "collapsed": false
   },
   "outputs": [],
   "source": [
    "# find the length of measurements (n)\n",
    "n = len(df['measurements'])"
   ]
  },
  {
   "cell_type": "code",
   "execution_count": 49,
   "metadata": {
    "collapsed": false
   },
   "outputs": [
    {
     "name": "stdout",
     "output_type": "stream",
     "text": [
      "Mean is 14.0224282791\n",
      "Standard Deviation is 6.61730273127\n"
     ]
    }
   ],
   "source": [
    "# get the mean and standard_deviation of the column measurements\n",
    "print \"Mean is %s\" % np.mean(df['measurements'])\n",
    "print \"Standard Deviation is %s\" % np.std(df['measurements'])"
   ]
  },
  {
   "cell_type": "code",
   "execution_count": 51,
   "metadata": {
    "collapsed": false
   },
   "outputs": [
    {
     "data": {
      "text/plain": [
       "15     0.654201\n",
       "10     2.510731\n",
       "19     3.573260\n",
       "22     6.328803\n",
       "18     9.619607\n",
       "26     9.686124\n",
       "27     9.935907\n",
       "9      9.957522\n",
       "7     10.432650\n",
       "25    11.527074\n",
       "12    11.661624\n",
       "29    11.958961\n",
       "5     12.138684\n",
       "2     12.616247\n",
       "0     12.823389\n",
       "11    14.641978\n",
       "20    14.975124\n",
       "17    15.522006\n",
       "16    15.810758\n",
       "8     15.821630\n",
       "13    16.857301\n",
       "3     16.956467\n",
       "4     17.407594\n",
       "1     17.531128\n",
       "23    17.560779\n",
       "28    20.144890\n",
       "14    20.224678\n",
       "24    20.958366\n",
       "6     29.379318\n",
       "21    31.456047\n",
       "Name: measurements, dtype: float64"
      ]
     },
     "execution_count": 51,
     "metadata": {},
     "output_type": "execute_result"
    }
   ],
   "source": [
    "# sort measurements from least to greatest\n",
    "df['measurements'].sort_values()"
   ]
  },
  {
   "cell_type": "code",
   "execution_count": 92,
   "metadata": {
    "collapsed": false
   },
   "outputs": [
    {
     "name": "stdout",
     "output_type": "stream",
     "text": [
      "[  1.71651128   5.34955447   5.38584401   8.28289925   8.75851335\n",
      "   9.43113368   9.8496356   10.56457849  11.0462015   11.06518316\n",
      "  11.7012917   12.00425505  12.54097705  12.5819203   12.76257393\n",
      "  14.70470737  14.93238415  16.16555155  16.43006556  17.05894446\n",
      "  17.58329515  17.59214579  18.22127811  19.12589163  19.32875827\n",
      "  19.38113441  21.07459665  22.08551793  22.51531183  28.13959221]\n"
     ]
    }
   ],
   "source": [
    "# generate n numbers from a normal distribution with same mean and stdev as your measurements\n",
    "# sort these numbers from least to greatest\n",
    "dfMean = np.mean(df['measurements'])\n",
    "dfStd = np.std(df['measurements'])\n",
    "norm = np.random.normal(dfMean,dfStd, 30)\n",
    "print np.sort(norm)"
   ]
  },
  {
   "cell_type": "code",
   "execution_count": 93,
   "metadata": {
    "collapsed": false
   },
   "outputs": [
    {
     "name": "stdout",
     "output_type": "stream",
     "text": [
      "[  0.80586526   1.89569415   3.44268374   4.02985533   4.05296472\n",
      "   4.62106931   4.8449975    5.56894891   5.75299607   6.27821491\n",
      "   7.29396114   7.43674978   7.82957781   8.31674008   8.78206944\n",
      "  10.08450437  10.82010849  12.75382798  15.72517414  16.81379228\n",
      "  17.22822426  19.16006954  19.70552673  21.79090917  26.17564864\n",
      "  29.0715044   33.28386108  38.11863845  53.74677031  75.20511246]\n"
     ]
    }
   ],
   "source": [
    "# generate n numbers from a exponential distribution, note you need the shape parameter for exponential\n",
    "exp = np.random.exponential(dfMean,30)\n",
    "print np.sort(exp)"
   ]
  },
  {
   "cell_type": "code",
   "execution_count": 94,
   "metadata": {
    "collapsed": false
   },
   "outputs": [
    {
     "name": "stdout",
     "output_type": "stream",
     "text": [
      "[  3.17402827   5.27616972   5.63865323   5.82787575   7.17347323\n",
      "   7.23847408   8.77361415   8.78611817  10.3540607   12.46109353\n",
      "  13.31017862  13.71224608  13.79300927  13.87035025  14.04435864\n",
      "  15.9339626   16.53316031  18.59662412  18.96553985  19.14258989\n",
      "  19.32297649  19.66444346  21.03665821  21.73336327  22.05666377\n",
      "  24.44766501  25.79652959  25.85687334  26.13177921  28.53669318]\n"
     ]
    }
   ],
   "source": [
    "# generate n numbers from a uniform distribution, note you need a, and b parameters for uniform ( min and max )\n",
    "uni = np.random.uniform(low=df['measurements'].min(),high=df['measurements'].max(),size=30)\n",
    "print np.sort(uni)"
   ]
  },
  {
   "cell_type": "code",
   "execution_count": null,
   "metadata": {
    "collapsed": true
   },
   "outputs": [],
   "source": []
  },
  {
   "cell_type": "code",
   "execution_count": 95,
   "metadata": {
    "collapsed": true
   },
   "outputs": [],
   "source": [
    "# print a scatter plot of actual quantiles (your sorted measurements) vs hypothetical quantiles (generated numbers)\n",
    "# from each distribution.\n",
    "\n",
    "# print out density plots for each hypothetical distribution vs actual distribution (measurements)\n",
    "\n",
    "# Describe each scatter plot and how it relates to the possible distribution of measurements\n",
    "\n",
    "# fit a line to each scatter plot, what type of line (or equation) would indicate a close distribution match?"
   ]
  },
  {
   "cell_type": "code",
   "execution_count": 83,
   "metadata": {
    "collapsed": false
   },
   "outputs": [
    {
     "data": {
      "text/plain": [
       "<matplotlib.collections.PathCollection at 0x118a82690>"
      ]
     },
     "execution_count": 83,
     "metadata": {},
     "output_type": "execute_result"
    },
    {
     "data": {
      "image/png": "[encoded data removed]",
      "text/plain": [
       "<matplotlib.figure.Figure at 0x118893f50>"
      ]
     },
     "metadata": {},
     "output_type": "display_data"
    }
   ],
   "source": [
    "plt.scatter(df['measurements'],norm)"
   ]
  },
  {
   "cell_type": "code",
   "execution_count": null,
   "metadata": {
    "collapsed": true
   },
   "outputs": [],
   "source": []
  },
  {
   "cell_type": "code",
   "execution_count": 84,
   "metadata": {
    "collapsed": false
   },
   "outputs": [
    {
     "data": {
      "text/plain": [
       "<matplotlib.collections.PathCollection at 0x118c128d0>"
      ]
     },
     "execution_count": 84,
     "metadata": {},
     "output_type": "execute_result"
    },
    {
     "data": {
      "image/png": "[encoded data removed]",
      "text/plain": [
       "<matplotlib.figure.Figure at 0x118760090>"
      ]
     },
     "metadata": {},
     "output_type": "display_data"
    }
   ],
   "source": [
    "plt.scatter(df['measurements'],exp)"
   ]
  },
  {
   "cell_type": "code",
   "execution_count": 85,
   "metadata": {
    "collapsed": false
   },
   "outputs": [
    {
     "data": {
      "text/plain": [
       "<matplotlib.collections.PathCollection at 0x117b85950>"
      ]
     },
     "execution_count": 85,
     "metadata": {},
     "output_type": "execute_result"
    },
    {
     "data": {
      "image/png": "[encoded data removed]",
      "text/plain": [
       "<matplotlib.figure.Figure at 0x1186fb450>"
      ]
     },
     "metadata": {},
     "output_type": "display_data"
    }
   ],
   "source": [
    "plt.scatter(df['measurements'],uni)"
   ]
  },
  {
   "cell_type": "code",
   "execution_count": null,
   "metadata": {
    "collapsed": true
   },
   "outputs": [],
   "source": []
  }
 ],
 "metadata": {
  "kernelspec": {
   "display_name": "Python 2",
   "language": "python",
   "name": "python2"
  },
  "language_info": {
   "codemirror_mode": {
    "name": "ipython",
    "version": 2
   },
   "file_extension": ".py",
   "mimetype": "text/x-python",
   "name": "python",
   "nbconvert_exporter": "python",
   "pygments_lexer": "ipython2",
   "version": "2.7.12"
  }
 },
 "nbformat": 4,
 "nbformat_minor": 0
}
