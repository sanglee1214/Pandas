{
 "cells": [
  {
   "cell_type": "markdown",
   "metadata": {},
   "source": [
    "# Let's make a deal!\n",
    "So, we saw yesterday an interesting paradox delivered in the context of a game show.  Now, let's write code to confirm our paradox.\n",
    "\n",
    "Write code to simulate the game show (with three doors).\n",
    "\n",
    "You will need to use the Python function `raw_input` to get input from the user (the player of the game) and `random.randint` to initialize the door with the car behind it.  Print the results to the user like:\n",
    "\n",
    "Unopened doors:\n",
    "```\n",
    "***\n",
    "123\n",
    "```\n",
    "\n",
    "Door number two opened:\n",
    "```\n",
    "*G*\n",
    "123\n",
    "```"
   ]
  },
  {
   "cell_type": "code",
   "execution_count": 3,
   "metadata": {
    "collapsed": false
   },
   "outputs": [
    {
     "name": "stdout",
     "output_type": "stream",
     "text": [
      "What's your guess?1\n",
      "Too low!\n",
      "What's your guess?3\n",
      "You got it!\n",
      "('And it only took you', 2, 'tries!')\n"
     ]
    }
   ],
   "source": [
    "from random import randint\n",
    "number = randint(1,3)\n",
    "guess = 0\n",
    "count = 0\n",
    "\n",
    "\n",
    "while guess != number and guess != \"exit\":\n",
    "    guess = input(\"What's your guess?\")\n",
    "    \n",
    "    if guess == \"exit\":\n",
    "        break\n",
    "    \n",
    "    guess = int(guess)\n",
    "    count += 1\n",
    "    \n",
    "    if guess < number:\n",
    "        print(\"Too low!\")\n",
    "    elif guess > number:\n",
    "        print(\"Too high!\")\n",
    "    else:\n",
    "        print(\"You got it!\")\n",
    "        print(\"And it only took you\",count,\"tries!\")\n"
   ]
  },
  {
   "cell_type": "code",
   "execution_count": 4,
   "metadata": {
    "collapsed": true
   },
   "outputs": [],
   "source": [
    "numDoors = 3\n",
    "def printDoors(numDoors,underTheDoors,uncovered):\n",
    "    for i in range(numDoors):\n",
    "        if uncovered[i]:\n",
    "            print underTheDoors[i],\n",
    "        else:\n",
    "            print \"*\",\n",
    "    print\n",
    "    for i in range(numDoors):\n",
    "        print i+1,\n",
    "    print"
   ]
  },
  {
   "cell_type": "code",
   "execution_count": 6,
   "metadata": {
    "collapsed": false
   },
   "outputs": [
    {
     "name": "stdout",
     "output_type": "stream",
     "text": [
      "* * *\n",
      "1 2 3\n",
      "Behind one of these doors (asterisks), is a car (actually, it's just the letter 'C', but 'C's have really been appreciating in value lately). Behind the other two doors, a goat (a cute one).\n"
     ]
    }
   ],
   "source": [
    "selection = -1\n",
    "door = randint(0,numDoors-1)\n",
    "underTheDoors = ['G' for x in range(numDoors)]\n",
    "underTheDoors[door] = \"C\"\n",
    "uncovered = [False for x in range(numDoors)]\n",
    "printDoors(numDoors,underTheDoors,uncovered)\n",
    "print \"Behind one of these doors (asterisks), is a car (actually, it's\",\n",
    "print \"just the letter 'C', but 'C's have really been appreciating in\",\n",
    "print \"value lately). Behind the other two doors, a goat (a cute one).\""
   ]
  },
  {
   "cell_type": "code",
   "execution_count": null,
   "metadata": {
    "collapsed": true
   },
   "outputs": [],
   "source": []
  }
 ],
 "metadata": {
  "kernelspec": {
   "display_name": "Python 2",
   "language": "python",
   "name": "python2"
  },
  "language_info": {
   "codemirror_mode": {
    "name": "ipython",
    "version": 2
   },
   "file_extension": ".py",
   "mimetype": "text/x-python",
   "name": "python",
   "nbconvert_exporter": "python",
   "pygments_lexer": "ipython2",
   "version": "2.7.12"
  }
 },
 "nbformat": 4,
 "nbformat_minor": 0
}
