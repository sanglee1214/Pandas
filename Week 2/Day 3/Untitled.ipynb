{
 "cells": [
  {
   "cell_type": "code",
   "execution_count": 36,
   "metadata": {
    "collapsed": false
   },
   "outputs": [],
   "source": [
    "from scipy import stats\n",
    "from scipy.stats import norm\n",
    "\n",
    "standardNorm = norm\n",
    "nonStandardNorm = norm(0.1, 1)\n",
    "standardNorm2 = norm\n",
    "\n",
    "standardValues = standardNorm.rvs(size = 50000)\n",
    "nonStandardValues = nonStandardNorm.rvs(size = 50000)\n",
    "standardValues2 = standardNorm2.rvs(size=50000)"
   ]
  },
  {
   "cell_type": "code",
   "execution_count": 37,
   "metadata": {
    "collapsed": false
   },
   "outputs": [
    {
     "name": "stdout",
     "output_type": "stream",
     "text": [
      "1.41916084972e-57\n"
     ]
    }
   ],
   "source": [
    "pValue = stats.ttest_ind(standardValues, nonStandardValues).pvalue\n",
    "\n",
    "print pValue"
   ]
  },
  {
   "cell_type": "code",
   "execution_count": 38,
   "metadata": {
    "collapsed": false
   },
   "outputs": [
    {
     "name": "stdout",
     "output_type": "stream",
     "text": [
      "0.977489670775\n"
     ]
    }
   ],
   "source": [
    "pValue2 = stats.ttest_ind(standardValues,standardValues2).pvalue\n",
    "\n",
    "print pValue2"
   ]
  },
  {
   "cell_type": "code",
   "execution_count": null,
   "metadata": {
    "collapsed": true
   },
   "outputs": [],
   "source": []
  }
 ],
 "metadata": {
  "kernelspec": {
   "display_name": "Python 2",
   "language": "python",
   "name": "python2"
  },
  "language_info": {
   "codemirror_mode": {
    "name": "ipython",
    "version": 2
   },
   "file_extension": ".py",
   "mimetype": "text/x-python",
   "name": "python",
   "nbconvert_exporter": "python",
   "pygments_lexer": "ipython2",
   "version": "2.7.11"
  }
 },
 "nbformat": 4,
 "nbformat_minor": 0
}
