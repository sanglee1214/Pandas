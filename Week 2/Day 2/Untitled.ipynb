{
 "cells": [
  {
   "cell_type": "code",
   "execution_count": 6,
   "metadata": {
    "collapsed": false
   },
   "outputs": [
    {
     "name": "stdout",
     "output_type": "stream",
     "text": [
      "The t-state is -1.053 and the p-value is 0.341\n"
     ]
    }
   ],
   "source": [
    "from scipy import stats\n",
    "import numpy as np\n",
    "import scipy as sp\n",
    "\n",
    "data = [175,183,146,234,199,153]\n",
    "np.mean(data)\n",
    "\n",
    "oneSample = stats.ttest_1samp(data, 195.5)\n",
    "print \"The t-state is %.3f and the p-value is %.3f\" % oneSample"
   ]
  },
  {
   "cell_type": "code",
   "execution_count": 10,
   "metadata": {
    "collapsed": false
   },
   "outputs": [
    {
     "name": "stdout",
     "output_type": "stream",
     "text": [
      "156.666666667 129.333333333\n",
      "The t-state is -2.811 and the p-value is 0.019\n"
     ]
    }
   ],
   "source": [
    "male = [175,183,146,134,149,153]\n",
    "female = [126,143,118,126,151,112]\n",
    "print np.mean(male),np.mean(female)\n",
    "\n",
    "twoSample = stats.ttest_ind(female, male, equal_var = False)\n",
    "print \"The t-state is %.3f and the p-value is %.3f\" % twoSample"
   ]
  },
  {
   "cell_type": "code",
   "execution_count": 13,
   "metadata": {
    "collapsed": false
   },
   "outputs": [
    {
     "name": "stdout",
     "output_type": "stream",
     "text": [
      "132.666666667 128.0\n",
      "The t-state is -1.976 and the p-value is 0.105\n"
     ]
    }
   ],
   "source": [
    "female = [126,143,118,126,151,132]\n",
    "femaleAfterZumba = [124, 132, 121, 126, 141, 124]\n",
    "\n",
    "print np.mean(female), np.mean(femaleAfterZumba)\n",
    "pairedTest = stats.ttest_rel(femaleAfterZumba, female)\n",
    "print \"The t-state is %.3f and the p-value is %.3f\" % pairedTest"
   ]
  },
  {
   "cell_type": "code",
   "execution_count": null,
   "metadata": {
    "collapsed": true
   },
   "outputs": [],
   "source": []
  }
 ],
 "metadata": {
  "kernelspec": {
   "display_name": "Python 2",
   "language": "python",
   "name": "python2"
  },
  "language_info": {
   "codemirror_mode": {
    "name": "ipython",
    "version": 2
   },
   "file_extension": ".py",
   "mimetype": "text/x-python",
   "name": "python",
   "nbconvert_exporter": "python",
   "pygments_lexer": "ipython2",
   "version": "2.7.11"
  }
 },
 "nbformat": 4,
 "nbformat_minor": 0
}
