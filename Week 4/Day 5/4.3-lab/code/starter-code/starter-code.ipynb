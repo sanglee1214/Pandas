{
 "cells": [
  {
   "cell_type": "code",
   "execution_count": 2,
   "metadata": {
    "collapsed": true
   },
   "outputs": [],
   "source": [
    "# import all depedencies first cell\n",
    "import numpy as np\n",
    "import pandas as pd\n",
    "from sklearn import linear_model, metrics, cross_validation"
   ]
  },
  {
   "cell_type": "code",
   "execution_count": 3,
   "metadata": {
    "collapsed": true
   },
   "outputs": [],
   "source": [
    "# define functions in one cell, call when you need\n",
    "def read_csv(path):\n",
    "    return pd.read_csv(path)"
   ]
  },
  {
   "cell_type": "code",
   "execution_count": 4,
   "metadata": {
    "collapsed": true
   },
   "outputs": [],
   "source": [
    "path = '../../assets/datasets/bikeshare.csv'\n",
    "bikeshare = read_csv(path)"
   ]
  },
  {
   "cell_type": "code",
   "execution_count": 5,
   "metadata": {
    "collapsed": false
   },
   "outputs": [
    {
     "data": {
      "text/plain": [
       "instant         int64\n",
       "dteday         object\n",
       "season          int64\n",
       "yr              int64\n",
       "mnth            int64\n",
       "hr              int64\n",
       "holiday         int64\n",
       "weekday         int64\n",
       "workingday      int64\n",
       "weathersit      int64\n",
       "temp          float64\n",
       "atemp         float64\n",
       "hum           float64\n",
       "windspeed     float64\n",
       "casual          int64\n",
       "registered      int64\n",
       "cnt             int64\n",
       "dtype: object"
      ]
     },
     "execution_count": 5,
     "metadata": {},
     "output_type": "execute_result"
    }
   ],
   "source": [
    "# get the data dictionary of bikeshare to see possible feature candidates\n",
    "bikeshare.dtypes"
   ]
  },
  {
   "cell_type": "code",
   "execution_count": 6,
   "metadata": {
    "collapsed": false
   },
   "outputs": [
    {
     "data": {
      "text/html": [
       "<div>\n",
       "<table border=\"1\" class=\"dataframe\">\n",
       "  <thead>\n",
       "    <tr style=\"text-align: right;\">\n",
       "      <th></th>\n",
       "      <th>temp</th>\n",
       "      <th>hum</th>\n",
       "      <th>weathersit_2</th>\n",
       "      <th>weathersit_3</th>\n",
       "      <th>weathersit_4</th>\n",
       "    </tr>\n",
       "  </thead>\n",
       "  <tbody>\n",
       "    <tr>\n",
       "      <th>0</th>\n",
       "      <td>0.24</td>\n",
       "      <td>0.81</td>\n",
       "      <td>0.0</td>\n",
       "      <td>0.0</td>\n",
       "      <td>0.0</td>\n",
       "    </tr>\n",
       "    <tr>\n",
       "      <th>1</th>\n",
       "      <td>0.22</td>\n",
       "      <td>0.80</td>\n",
       "      <td>0.0</td>\n",
       "      <td>0.0</td>\n",
       "      <td>0.0</td>\n",
       "    </tr>\n",
       "    <tr>\n",
       "      <th>2</th>\n",
       "      <td>0.22</td>\n",
       "      <td>0.80</td>\n",
       "      <td>0.0</td>\n",
       "      <td>0.0</td>\n",
       "      <td>0.0</td>\n",
       "    </tr>\n",
       "    <tr>\n",
       "      <th>3</th>\n",
       "      <td>0.24</td>\n",
       "      <td>0.75</td>\n",
       "      <td>0.0</td>\n",
       "      <td>0.0</td>\n",
       "      <td>0.0</td>\n",
       "    </tr>\n",
       "    <tr>\n",
       "      <th>4</th>\n",
       "      <td>0.24</td>\n",
       "      <td>0.75</td>\n",
       "      <td>0.0</td>\n",
       "      <td>0.0</td>\n",
       "      <td>0.0</td>\n",
       "    </tr>\n",
       "    <tr>\n",
       "      <th>5</th>\n",
       "      <td>0.24</td>\n",
       "      <td>0.75</td>\n",
       "      <td>1.0</td>\n",
       "      <td>0.0</td>\n",
       "      <td>0.0</td>\n",
       "    </tr>\n",
       "    <tr>\n",
       "      <th>6</th>\n",
       "      <td>0.22</td>\n",
       "      <td>0.80</td>\n",
       "      <td>0.0</td>\n",
       "      <td>0.0</td>\n",
       "      <td>0.0</td>\n",
       "    </tr>\n",
       "    <tr>\n",
       "      <th>7</th>\n",
       "      <td>0.20</td>\n",
       "      <td>0.86</td>\n",
       "      <td>0.0</td>\n",
       "      <td>0.0</td>\n",
       "      <td>0.0</td>\n",
       "    </tr>\n",
       "    <tr>\n",
       "      <th>8</th>\n",
       "      <td>0.24</td>\n",
       "      <td>0.75</td>\n",
       "      <td>0.0</td>\n",
       "      <td>0.0</td>\n",
       "      <td>0.0</td>\n",
       "    </tr>\n",
       "    <tr>\n",
       "      <th>9</th>\n",
       "      <td>0.32</td>\n",
       "      <td>0.76</td>\n",
       "      <td>0.0</td>\n",
       "      <td>0.0</td>\n",
       "      <td>0.0</td>\n",
       "    </tr>\n",
       "    <tr>\n",
       "      <th>10</th>\n",
       "      <td>0.38</td>\n",
       "      <td>0.76</td>\n",
       "      <td>0.0</td>\n",
       "      <td>0.0</td>\n",
       "      <td>0.0</td>\n",
       "    </tr>\n",
       "    <tr>\n",
       "      <th>11</th>\n",
       "      <td>0.36</td>\n",
       "      <td>0.81</td>\n",
       "      <td>0.0</td>\n",
       "      <td>0.0</td>\n",
       "      <td>0.0</td>\n",
       "    </tr>\n",
       "    <tr>\n",
       "      <th>12</th>\n",
       "      <td>0.42</td>\n",
       "      <td>0.77</td>\n",
       "      <td>0.0</td>\n",
       "      <td>0.0</td>\n",
       "      <td>0.0</td>\n",
       "    </tr>\n",
       "    <tr>\n",
       "      <th>13</th>\n",
       "      <td>0.46</td>\n",
       "      <td>0.72</td>\n",
       "      <td>1.0</td>\n",
       "      <td>0.0</td>\n",
       "      <td>0.0</td>\n",
       "    </tr>\n",
       "    <tr>\n",
       "      <th>14</th>\n",
       "      <td>0.46</td>\n",
       "      <td>0.72</td>\n",
       "      <td>1.0</td>\n",
       "      <td>0.0</td>\n",
       "      <td>0.0</td>\n",
       "    </tr>\n",
       "    <tr>\n",
       "      <th>15</th>\n",
       "      <td>0.44</td>\n",
       "      <td>0.77</td>\n",
       "      <td>1.0</td>\n",
       "      <td>0.0</td>\n",
       "      <td>0.0</td>\n",
       "    </tr>\n",
       "    <tr>\n",
       "      <th>16</th>\n",
       "      <td>0.42</td>\n",
       "      <td>0.82</td>\n",
       "      <td>1.0</td>\n",
       "      <td>0.0</td>\n",
       "      <td>0.0</td>\n",
       "    </tr>\n",
       "    <tr>\n",
       "      <th>17</th>\n",
       "      <td>0.44</td>\n",
       "      <td>0.82</td>\n",
       "      <td>1.0</td>\n",
       "      <td>0.0</td>\n",
       "      <td>0.0</td>\n",
       "    </tr>\n",
       "    <tr>\n",
       "      <th>18</th>\n",
       "      <td>0.42</td>\n",
       "      <td>0.88</td>\n",
       "      <td>0.0</td>\n",
       "      <td>1.0</td>\n",
       "      <td>0.0</td>\n",
       "    </tr>\n",
       "    <tr>\n",
       "      <th>19</th>\n",
       "      <td>0.42</td>\n",
       "      <td>0.88</td>\n",
       "      <td>0.0</td>\n",
       "      <td>1.0</td>\n",
       "      <td>0.0</td>\n",
       "    </tr>\n",
       "  </tbody>\n",
       "</table>\n",
       "</div>"
      ],
      "text/plain": [
       "    temp   hum  weathersit_2  weathersit_3  weathersit_4\n",
       "0   0.24  0.81           0.0           0.0           0.0\n",
       "1   0.22  0.80           0.0           0.0           0.0\n",
       "2   0.22  0.80           0.0           0.0           0.0\n",
       "3   0.24  0.75           0.0           0.0           0.0\n",
       "4   0.24  0.75           0.0           0.0           0.0\n",
       "5   0.24  0.75           1.0           0.0           0.0\n",
       "6   0.22  0.80           0.0           0.0           0.0\n",
       "7   0.20  0.86           0.0           0.0           0.0\n",
       "8   0.24  0.75           0.0           0.0           0.0\n",
       "9   0.32  0.76           0.0           0.0           0.0\n",
       "10  0.38  0.76           0.0           0.0           0.0\n",
       "11  0.36  0.81           0.0           0.0           0.0\n",
       "12  0.42  0.77           0.0           0.0           0.0\n",
       "13  0.46  0.72           1.0           0.0           0.0\n",
       "14  0.46  0.72           1.0           0.0           0.0\n",
       "15  0.44  0.77           1.0           0.0           0.0\n",
       "16  0.42  0.82           1.0           0.0           0.0\n",
       "17  0.44  0.82           1.0           0.0           0.0\n",
       "18  0.42  0.88           0.0           1.0           0.0\n",
       "19  0.42  0.88           0.0           1.0           0.0"
      ]
     },
     "execution_count": 6,
     "metadata": {},
     "output_type": "execute_result"
    }
   ],
   "source": [
    "# assume we want 2 features, 'temp' and 'hum' and weathersit, because\n",
    "# weathersit is categorical we must make dummy variables\n",
    "# create a new dataframe with only features temp and hum, \n",
    "# and all dummy variables required for weathersit (hint n - 1 classes)\n",
    "# hint (pd.get_dummies(df_column)) will transform your variable \n",
    "# into n dummy classes\n",
    "# hint, use .join to merge two dataframes on a common key (default inner join on index)\n",
    "# call your features dataframe 'modeldata' and your y response column 'y'\n",
    "\n",
    "modeldata = pd.DataFrame(bikeshare['temp'])\n",
    "modeldata['hum'] = bikeshare['hum']\n",
    "dummy_location = pd.get_dummies(bikeshare['weathersit'],prefix='weathersit')\n",
    "cols_to_keep = ['temp','hum']\n",
    "modeldata = modeldata[cols_to_keep].join(dummy_location.ix[:, :])\n",
    "del modeldata['weathersit_1']\n",
    "y = pd.DataFrame(bikeshare['casual'])\n",
    "modeldata.head(20)"
   ]
  },
  {
   "cell_type": "code",
   "execution_count": 9,
   "metadata": {
    "collapsed": false
   },
   "outputs": [],
   "source": [
    " kf = cross_validation.KFold(len(modeldata), n_folds=5, shuffle=True)\n",
    "# you must define modeldata in cell above for kf assignment to run\n",
    "# kf returns a dictionary composed of key-value pairs"
   ]
  },
  {
   "cell_type": "code",
   "execution_count": 10,
   "metadata": {
    "collapsed": false
   },
   "outputs": [],
   "source": [
    "lm_obj = linear_model.LinearRegression() # instaniate only one time\n",
    "scores = [] # we will append mse scores from each iteration in kf\n",
    "for train_index, test_index in kf: # for (key,value) in dictionary\n",
    "    x_train = modeldata.iloc[train_index] # get new set each iteration\n",
    "    y_train = y.iloc[train_index]\n",
    "    \n",
    "    x_test = modeldata.iloc[test_index] # get new test data each iteration\n",
    "    y_test = y.iloc[test_index]\n",
    "        \n",
    "    lm = lm_obj.fit(x_train, y_train) # fit new model each iteration\n",
    "    x_test_pred = lm.predict(x_test)\n",
    "\n",
    "    mse = metrics.mean_squared_error(y_test,x_test_pred) \n",
    "    # get new mse each iteration\n",
    "    scores.append(mse) # append mse scores from each model to scores list"
   ]
  },
  {
   "cell_type": "code",
   "execution_count": 13,
   "metadata": {
    "collapsed": false
   },
   "outputs": [
    {
     "name": "stdout",
     "output_type": "stream",
     "text": [
      "1674.18336234\n"
     ]
    }
   ],
   "source": [
    "# print the mean mse score from all iterations, explain output\n",
    "print np.mean(scores)"
   ]
  },
  {
   "cell_type": "code",
   "execution_count": 16,
   "metadata": {
    "collapsed": false
   },
   "outputs": [
    {
     "name": "stdout",
     "output_type": "stream",
     "text": [
      "1672.58110765\n"
     ]
    }
   ],
   "source": [
    "# fit a regression model on all the model and outcome data (modeldata and y)\n",
    "# hint use, linear_model.LinearRegression().fit()\n",
    "# get predictions from fitted model using same model data\n",
    "# calculate MSE and interpret \n",
    "# hint MSE = SSE/n = (y - y_est)/n, y_est = lm.predict(modeldata)\n",
    "X = modeldata\n",
    "lm = linear_model.LinearRegression().fit(X,y)\n",
    "predictions = lm.predict(X)\n",
    "\n",
    "print metrics.mean_squared_error(y,predictions)\n",
    "#print (y - predictions).sum() / len(predictions)"
   ]
  },
  {
   "cell_type": "code",
   "execution_count": 23,
   "metadata": {
    "collapsed": false
   },
   "outputs": [
    {
     "name": "stdout",
     "output_type": "stream",
     "text": [
      "2430.84614081\n"
     ]
    }
   ],
   "source": [
    "# fit a lasso regression model on all the model and outcome data (modeldata and y)\n",
    "# hint use, linear_model.Lasso().fit()\n",
    "# get predictions from fitted model using same model data\n",
    "# calculate MSE and interpret\n",
    "# hint MSE = SSE/n = (y - y_est)/n, y_est = lm.predict(modeldata)\n",
    "lm = linear_model.Lasso(alpha = 10.0).fit(X,y)\n",
    "predictions = lm.predict(X)\n",
    "\n",
    "print metrics.mean_squared_error(y,predictions)"
   ]
  },
  {
   "cell_type": "code",
   "execution_count": 33,
   "metadata": {
    "collapsed": false
   },
   "outputs": [
    {
     "name": "stdout",
     "output_type": "stream",
     "text": [
      "1672.82630501\n"
     ]
    }
   ],
   "source": [
    "# fit a Ridge regression model on all the model and outcome data (modeldata and y)\n",
    "# hint use, linear_model.Ridge().fit()\n",
    "# get predictions from fitted model using same model data\n",
    "# calculate MSE and interpret\n",
    "# hint MSE = SSE/n = (y - y_est)/n, y_est = lm.predict(modeldata)\n",
    "lm = linear_model.Ridge(alpha = 10.0).fit(X,y)\n",
    "predictions = lm.predict(X)\n",
    "\n",
    "print metrics.mean_squared_error(y,predictions)"
   ]
  },
  {
   "cell_type": "code",
   "execution_count": null,
   "metadata": {
    "collapsed": true
   },
   "outputs": [],
   "source": []
  }
 ],
 "metadata": {
  "kernelspec": {
   "display_name": "Python 2",
   "language": "python",
   "name": "python2"
  },
  "language_info": {
   "codemirror_mode": {
    "name": "ipython",
    "version": 2
   },
   "file_extension": ".py",
   "mimetype": "text/x-python",
   "name": "python",
   "nbconvert_exporter": "python",
   "pygments_lexer": "ipython2",
   "version": "2.7.11"
  }
 },
 "nbformat": 4,
 "nbformat_minor": 0
}
